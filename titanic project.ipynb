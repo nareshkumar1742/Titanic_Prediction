{
 "cells": [
  {
   "cell_type": "markdown",
   "metadata": {},
   "source": [
    "#                          Titanic Tragedy Survivors/Deaths Prediction"
   ]
  },
  {
   "cell_type": "markdown",
   "metadata": {},
   "source": [
    "RMS Titanic was a British passenger liner operated by the White Star Line that sank in the North Atlantic Ocean in the early morning hours of 15 April 1912, after striking an iceberg during her maiden voyage from Southampton to New York City. Of the estimated 2,224 passengers and crew aboard, more than 1,500 died, making the sinking one of modern history's deadliest peacetime commercial marine disasters. RMS Titanic was the largest ship afloat at the time she entered service and was the second of three Olympic-class ocean liners operated by the White Star Line. She was built by the Harland and Wolff shipyard in Belfast. Thomas Andrews, chief naval architect of the shipyard at the time, died in the disaster.\n",
    "                                                                                                 The wreck of Titanic was discovered in 1985 (more than 70 years after the disaster) during a Franco-American expedition and US military mission. The ship was split in two and is gradually disintegrating at a depth of 12,415 feet (2,069.2 fathoms; 3,784 m). Thousands of artefacts have been recovered and displayed at museums around the world. Titanic has become one of the most famous ships in history, depicted in numerous works of popular culture, including books, folk songs, films, exhibits, and memorials. Titanic is the second largest ocean liner wreck in the world, only being surpassed by her sister ship HMHS Britannic, however, she is the largest sunk while in service as a liner, as Britannic was in use as a hospital ship at the time of her sinking. The final survivor of the sinking, Millvina Dean, aged two months at the time, died in 2009 at the age of 97.\n",
    "                                                                                                  Let's do some visualisation and predict who have survived the tragedy. Here we are going to do this project in a clear linear way so that everyone could understand the process being undertaken.Here it goes.                                                                                         "
   ]
  },
  {
   "cell_type": "markdown",
   "metadata": {},
   "source": [
    "# 1.Importing Library And Dataset\n",
    "Let's import the necessary library and the data set"
   ]
  },
  {
   "cell_type": "code",
   "execution_count": 1,
   "metadata": {},
   "outputs": [],
   "source": [
    "import pandas as pd\n",
    "import numpy as np\n",
    "import matplotlib.pyplot as plt\n",
    "import seaborn as sns\n",
    "from sklearn.impute import SimpleImputer\n",
    "from collections import Counter\n",
    "from sklearn.preprocessing import OrdinalEncoder\n",
    "from pandas.plotting import scatter_matrix\n",
    "from sklearn.preprocessing import StandardScaler\n",
    "from sklearn.model_selection import StratifiedShuffleSplit\n",
    "from sklearn.tree import DecisionTreeClassifier\n",
    "from sklearn.metrics import accuracy_score\n",
    "from sklearn.model_selection import GridSearchCV\n",
    "from sklearn.metrics import confusion_matrix\n",
    "from sklearn.linear_model import LogisticRegression\n",
    "from sklearn.ensemble import RandomForestClassifier\n",
    "from sklearn.linear_model import SGDClassifier\n",
    "from sklearn.naive_bayes import GaussianNB\n",
    "from sklearn.svm import SVC\n",
    "from sklearn.neighbors import KNeighborsClassifier\n",
    "from sklearn.model_selection import cross_val_score,cross_val_predict\n",
    "from sklearn.metrics import precision_score,recall_score,f1_score\n",
    "from sklearn.metrics import precision_recall_curve\n",
    "import warnings\n",
    "warnings.filterwarnings('ignore')\n",
    "%matplotlib inline"
   ]
  },
  {
   "cell_type": "code",
   "execution_count": 2,
   "metadata": {},
   "outputs": [],
   "source": [
    "train_data=pd.read_csv('train (1).csv')\n",
    "test_data=pd.read_csv('test.csv')"
   ]
  },
  {
   "cell_type": "markdown",
   "metadata": {},
   "source": [
    "Let us check the dataset for any missing values and also analyse if we have to do any data cleaning process for taking it to prediction"
   ]
  },
  {
   "cell_type": "code",
   "execution_count": 3,
   "metadata": {},
   "outputs": [
    {
     "data": {
      "text/html": [
       "<div>\n",
       "<style scoped>\n",
       "    .dataframe tbody tr th:only-of-type {\n",
       "        vertical-align: middle;\n",
       "    }\n",
       "\n",
       "    .dataframe tbody tr th {\n",
       "        vertical-align: top;\n",
       "    }\n",
       "\n",
       "    .dataframe thead th {\n",
       "        text-align: right;\n",
       "    }\n",
       "</style>\n",
       "<table border=\"1\" class=\"dataframe\">\n",
       "  <thead>\n",
       "    <tr style=\"text-align: right;\">\n",
       "      <th></th>\n",
       "      <th>PassengerId</th>\n",
       "      <th>Survived</th>\n",
       "      <th>Pclass</th>\n",
       "      <th>Name</th>\n",
       "      <th>Sex</th>\n",
       "      <th>Age</th>\n",
       "      <th>SibSp</th>\n",
       "      <th>Parch</th>\n",
       "      <th>Ticket</th>\n",
       "      <th>Fare</th>\n",
       "      <th>Cabin</th>\n",
       "      <th>Embarked</th>\n",
       "    </tr>\n",
       "  </thead>\n",
       "  <tbody>\n",
       "    <tr>\n",
       "      <td>0</td>\n",
       "      <td>1</td>\n",
       "      <td>0</td>\n",
       "      <td>3</td>\n",
       "      <td>Braund, Mr. Owen Harris</td>\n",
       "      <td>male</td>\n",
       "      <td>22.0</td>\n",
       "      <td>1</td>\n",
       "      <td>0</td>\n",
       "      <td>A/5 21171</td>\n",
       "      <td>7.2500</td>\n",
       "      <td>NaN</td>\n",
       "      <td>S</td>\n",
       "    </tr>\n",
       "    <tr>\n",
       "      <td>1</td>\n",
       "      <td>2</td>\n",
       "      <td>1</td>\n",
       "      <td>1</td>\n",
       "      <td>Cumings, Mrs. John Bradley (Florence Briggs Th...</td>\n",
       "      <td>female</td>\n",
       "      <td>38.0</td>\n",
       "      <td>1</td>\n",
       "      <td>0</td>\n",
       "      <td>PC 17599</td>\n",
       "      <td>71.2833</td>\n",
       "      <td>C85</td>\n",
       "      <td>C</td>\n",
       "    </tr>\n",
       "    <tr>\n",
       "      <td>2</td>\n",
       "      <td>3</td>\n",
       "      <td>1</td>\n",
       "      <td>3</td>\n",
       "      <td>Heikkinen, Miss. Laina</td>\n",
       "      <td>female</td>\n",
       "      <td>26.0</td>\n",
       "      <td>0</td>\n",
       "      <td>0</td>\n",
       "      <td>STON/O2. 3101282</td>\n",
       "      <td>7.9250</td>\n",
       "      <td>NaN</td>\n",
       "      <td>S</td>\n",
       "    </tr>\n",
       "    <tr>\n",
       "      <td>3</td>\n",
       "      <td>4</td>\n",
       "      <td>1</td>\n",
       "      <td>1</td>\n",
       "      <td>Futrelle, Mrs. Jacques Heath (Lily May Peel)</td>\n",
       "      <td>female</td>\n",
       "      <td>35.0</td>\n",
       "      <td>1</td>\n",
       "      <td>0</td>\n",
       "      <td>113803</td>\n",
       "      <td>53.1000</td>\n",
       "      <td>C123</td>\n",
       "      <td>S</td>\n",
       "    </tr>\n",
       "    <tr>\n",
       "      <td>4</td>\n",
       "      <td>5</td>\n",
       "      <td>0</td>\n",
       "      <td>3</td>\n",
       "      <td>Allen, Mr. William Henry</td>\n",
       "      <td>male</td>\n",
       "      <td>35.0</td>\n",
       "      <td>0</td>\n",
       "      <td>0</td>\n",
       "      <td>373450</td>\n",
       "      <td>8.0500</td>\n",
       "      <td>NaN</td>\n",
       "      <td>S</td>\n",
       "    </tr>\n",
       "    <tr>\n",
       "      <td>5</td>\n",
       "      <td>6</td>\n",
       "      <td>0</td>\n",
       "      <td>3</td>\n",
       "      <td>Moran, Mr. James</td>\n",
       "      <td>male</td>\n",
       "      <td>NaN</td>\n",
       "      <td>0</td>\n",
       "      <td>0</td>\n",
       "      <td>330877</td>\n",
       "      <td>8.4583</td>\n",
       "      <td>NaN</td>\n",
       "      <td>Q</td>\n",
       "    </tr>\n",
       "    <tr>\n",
       "      <td>6</td>\n",
       "      <td>7</td>\n",
       "      <td>0</td>\n",
       "      <td>1</td>\n",
       "      <td>McCarthy, Mr. Timothy J</td>\n",
       "      <td>male</td>\n",
       "      <td>54.0</td>\n",
       "      <td>0</td>\n",
       "      <td>0</td>\n",
       "      <td>17463</td>\n",
       "      <td>51.8625</td>\n",
       "      <td>E46</td>\n",
       "      <td>S</td>\n",
       "    </tr>\n",
       "    <tr>\n",
       "      <td>7</td>\n",
       "      <td>8</td>\n",
       "      <td>0</td>\n",
       "      <td>3</td>\n",
       "      <td>Palsson, Master. Gosta Leonard</td>\n",
       "      <td>male</td>\n",
       "      <td>2.0</td>\n",
       "      <td>3</td>\n",
       "      <td>1</td>\n",
       "      <td>349909</td>\n",
       "      <td>21.0750</td>\n",
       "      <td>NaN</td>\n",
       "      <td>S</td>\n",
       "    </tr>\n",
       "    <tr>\n",
       "      <td>8</td>\n",
       "      <td>9</td>\n",
       "      <td>1</td>\n",
       "      <td>3</td>\n",
       "      <td>Johnson, Mrs. Oscar W (Elisabeth Vilhelmina Berg)</td>\n",
       "      <td>female</td>\n",
       "      <td>27.0</td>\n",
       "      <td>0</td>\n",
       "      <td>2</td>\n",
       "      <td>347742</td>\n",
       "      <td>11.1333</td>\n",
       "      <td>NaN</td>\n",
       "      <td>S</td>\n",
       "    </tr>\n",
       "    <tr>\n",
       "      <td>9</td>\n",
       "      <td>10</td>\n",
       "      <td>1</td>\n",
       "      <td>2</td>\n",
       "      <td>Nasser, Mrs. Nicholas (Adele Achem)</td>\n",
       "      <td>female</td>\n",
       "      <td>14.0</td>\n",
       "      <td>1</td>\n",
       "      <td>0</td>\n",
       "      <td>237736</td>\n",
       "      <td>30.0708</td>\n",
       "      <td>NaN</td>\n",
       "      <td>C</td>\n",
       "    </tr>\n",
       "  </tbody>\n",
       "</table>\n",
       "</div>"
      ],
      "text/plain": [
       "   PassengerId  Survived  Pclass  \\\n",
       "0            1         0       3   \n",
       "1            2         1       1   \n",
       "2            3         1       3   \n",
       "3            4         1       1   \n",
       "4            5         0       3   \n",
       "5            6         0       3   \n",
       "6            7         0       1   \n",
       "7            8         0       3   \n",
       "8            9         1       3   \n",
       "9           10         1       2   \n",
       "\n",
       "                                                Name     Sex   Age  SibSp  \\\n",
       "0                            Braund, Mr. Owen Harris    male  22.0      1   \n",
       "1  Cumings, Mrs. John Bradley (Florence Briggs Th...  female  38.0      1   \n",
       "2                             Heikkinen, Miss. Laina  female  26.0      0   \n",
       "3       Futrelle, Mrs. Jacques Heath (Lily May Peel)  female  35.0      1   \n",
       "4                           Allen, Mr. William Henry    male  35.0      0   \n",
       "5                                   Moran, Mr. James    male   NaN      0   \n",
       "6                            McCarthy, Mr. Timothy J    male  54.0      0   \n",
       "7                     Palsson, Master. Gosta Leonard    male   2.0      3   \n",
       "8  Johnson, Mrs. Oscar W (Elisabeth Vilhelmina Berg)  female  27.0      0   \n",
       "9                Nasser, Mrs. Nicholas (Adele Achem)  female  14.0      1   \n",
       "\n",
       "   Parch            Ticket     Fare Cabin Embarked  \n",
       "0      0         A/5 21171   7.2500   NaN        S  \n",
       "1      0          PC 17599  71.2833   C85        C  \n",
       "2      0  STON/O2. 3101282   7.9250   NaN        S  \n",
       "3      0            113803  53.1000  C123        S  \n",
       "4      0            373450   8.0500   NaN        S  \n",
       "5      0            330877   8.4583   NaN        Q  \n",
       "6      0             17463  51.8625   E46        S  \n",
       "7      1            349909  21.0750   NaN        S  \n",
       "8      2            347742  11.1333   NaN        S  \n",
       "9      0            237736  30.0708   NaN        C  "
      ]
     },
     "execution_count": 3,
     "metadata": {},
     "output_type": "execute_result"
    }
   ],
   "source": [
    "train_data.head(10)"
   ]
  },
  {
   "cell_type": "code",
   "execution_count": 4,
   "metadata": {},
   "outputs": [
    {
     "data": {
      "text/html": [
       "<div>\n",
       "<style scoped>\n",
       "    .dataframe tbody tr th:only-of-type {\n",
       "        vertical-align: middle;\n",
       "    }\n",
       "\n",
       "    .dataframe tbody tr th {\n",
       "        vertical-align: top;\n",
       "    }\n",
       "\n",
       "    .dataframe thead th {\n",
       "        text-align: right;\n",
       "    }\n",
       "</style>\n",
       "<table border=\"1\" class=\"dataframe\">\n",
       "  <thead>\n",
       "    <tr style=\"text-align: right;\">\n",
       "      <th></th>\n",
       "      <th>PassengerId</th>\n",
       "      <th>Survived</th>\n",
       "      <th>Pclass</th>\n",
       "      <th>Age</th>\n",
       "      <th>SibSp</th>\n",
       "      <th>Parch</th>\n",
       "      <th>Fare</th>\n",
       "    </tr>\n",
       "  </thead>\n",
       "  <tbody>\n",
       "    <tr>\n",
       "      <td>count</td>\n",
       "      <td>891.000000</td>\n",
       "      <td>891.000000</td>\n",
       "      <td>891.000000</td>\n",
       "      <td>714.000000</td>\n",
       "      <td>891.000000</td>\n",
       "      <td>891.000000</td>\n",
       "      <td>891.000000</td>\n",
       "    </tr>\n",
       "    <tr>\n",
       "      <td>mean</td>\n",
       "      <td>446.000000</td>\n",
       "      <td>0.383838</td>\n",
       "      <td>2.308642</td>\n",
       "      <td>29.699118</td>\n",
       "      <td>0.523008</td>\n",
       "      <td>0.381594</td>\n",
       "      <td>32.204208</td>\n",
       "    </tr>\n",
       "    <tr>\n",
       "      <td>std</td>\n",
       "      <td>257.353842</td>\n",
       "      <td>0.486592</td>\n",
       "      <td>0.836071</td>\n",
       "      <td>14.526497</td>\n",
       "      <td>1.102743</td>\n",
       "      <td>0.806057</td>\n",
       "      <td>49.693429</td>\n",
       "    </tr>\n",
       "    <tr>\n",
       "      <td>min</td>\n",
       "      <td>1.000000</td>\n",
       "      <td>0.000000</td>\n",
       "      <td>1.000000</td>\n",
       "      <td>0.420000</td>\n",
       "      <td>0.000000</td>\n",
       "      <td>0.000000</td>\n",
       "      <td>0.000000</td>\n",
       "    </tr>\n",
       "    <tr>\n",
       "      <td>25%</td>\n",
       "      <td>223.500000</td>\n",
       "      <td>0.000000</td>\n",
       "      <td>2.000000</td>\n",
       "      <td>20.125000</td>\n",
       "      <td>0.000000</td>\n",
       "      <td>0.000000</td>\n",
       "      <td>7.910400</td>\n",
       "    </tr>\n",
       "    <tr>\n",
       "      <td>50%</td>\n",
       "      <td>446.000000</td>\n",
       "      <td>0.000000</td>\n",
       "      <td>3.000000</td>\n",
       "      <td>28.000000</td>\n",
       "      <td>0.000000</td>\n",
       "      <td>0.000000</td>\n",
       "      <td>14.454200</td>\n",
       "    </tr>\n",
       "    <tr>\n",
       "      <td>75%</td>\n",
       "      <td>668.500000</td>\n",
       "      <td>1.000000</td>\n",
       "      <td>3.000000</td>\n",
       "      <td>38.000000</td>\n",
       "      <td>1.000000</td>\n",
       "      <td>0.000000</td>\n",
       "      <td>31.000000</td>\n",
       "    </tr>\n",
       "    <tr>\n",
       "      <td>max</td>\n",
       "      <td>891.000000</td>\n",
       "      <td>1.000000</td>\n",
       "      <td>3.000000</td>\n",
       "      <td>80.000000</td>\n",
       "      <td>8.000000</td>\n",
       "      <td>6.000000</td>\n",
       "      <td>512.329200</td>\n",
       "    </tr>\n",
       "  </tbody>\n",
       "</table>\n",
       "</div>"
      ],
      "text/plain": [
       "       PassengerId    Survived      Pclass         Age       SibSp  \\\n",
       "count   891.000000  891.000000  891.000000  714.000000  891.000000   \n",
       "mean    446.000000    0.383838    2.308642   29.699118    0.523008   \n",
       "std     257.353842    0.486592    0.836071   14.526497    1.102743   \n",
       "min       1.000000    0.000000    1.000000    0.420000    0.000000   \n",
       "25%     223.500000    0.000000    2.000000   20.125000    0.000000   \n",
       "50%     446.000000    0.000000    3.000000   28.000000    0.000000   \n",
       "75%     668.500000    1.000000    3.000000   38.000000    1.000000   \n",
       "max     891.000000    1.000000    3.000000   80.000000    8.000000   \n",
       "\n",
       "            Parch        Fare  \n",
       "count  891.000000  891.000000  \n",
       "mean     0.381594   32.204208  \n",
       "std      0.806057   49.693429  \n",
       "min      0.000000    0.000000  \n",
       "25%      0.000000    7.910400  \n",
       "50%      0.000000   14.454200  \n",
       "75%      0.000000   31.000000  \n",
       "max      6.000000  512.329200  "
      ]
     },
     "execution_count": 4,
     "metadata": {},
     "output_type": "execute_result"
    }
   ],
   "source": [
    "train_data.describe()"
   ]
  },
  {
   "cell_type": "code",
   "execution_count": 5,
   "metadata": {},
   "outputs": [
    {
     "data": {
      "text/plain": [
       "PassengerId    False\n",
       "Survived       False\n",
       "Pclass         False\n",
       "Name           False\n",
       "Sex            False\n",
       "Age             True\n",
       "SibSp          False\n",
       "Parch          False\n",
       "Ticket         False\n",
       "Fare           False\n",
       "Cabin           True\n",
       "Embarked        True\n",
       "dtype: bool"
      ]
     },
     "execution_count": 5,
     "metadata": {},
     "output_type": "execute_result"
    }
   ],
   "source": [
    "train_data.isna().any()"
   ]
  },
  {
   "cell_type": "markdown",
   "metadata": {},
   "source": [
    "And yes ofcourse there are missing values and we need a lot of data cleaning to be done to get a good visualization and prediction."
   ]
  },
  {
   "cell_type": "markdown",
   "metadata": {},
   "source": [
    "# 2.Data Preprocessing And Cleaning"
   ]
  },
  {
   "cell_type": "markdown",
   "metadata": {},
   "source": [
    "From the data insight we could  see that PassengerId is same as the index(not exactly but it just shows the index number of passengers).So we can remove the PassengerId column from our dataset.\n",
    "Next comming to the ticket column we don't see anything unique that contributes for the survival of passengers. So we can delete that column from our dataset.\n",
    "Cabin column have lot of missing data and also doesn't contribute to survival. So we can delete the Cabin column from our data"
   ]
  },
  {
   "cell_type": "code",
   "execution_count": 6,
   "metadata": {},
   "outputs": [],
   "source": [
    "train_data.drop(['PassengerId','Ticket','Cabin'],axis=1,inplace=True)"
   ]
  },
  {
   "cell_type": "code",
   "execution_count": 7,
   "metadata": {},
   "outputs": [
    {
     "data": {
      "text/plain": [
       "False    889\n",
       "True       2\n",
       "Name: Embarked, dtype: int64"
      ]
     },
     "execution_count": 7,
     "metadata": {},
     "output_type": "execute_result"
    }
   ],
   "source": [
    "train_data['Embarked'].isna().value_counts()"
   ]
  },
  {
   "cell_type": "code",
   "execution_count": 8,
   "metadata": {},
   "outputs": [
    {
     "data": {
      "text/plain": [
       "Survived    False\n",
       "Pclass      False\n",
       "Name        False\n",
       "Sex         False\n",
       "Age          True\n",
       "SibSp       False\n",
       "Parch       False\n",
       "Fare        False\n",
       "Embarked     True\n",
       "dtype: bool"
      ]
     },
     "execution_count": 8,
     "metadata": {},
     "output_type": "execute_result"
    }
   ],
   "source": [
    "train_data.isna().any()"
   ]
  },
  {
   "cell_type": "markdown",
   "metadata": {},
   "source": [
    "Still we can see missing data in columns like Age and places where people embarked. We can fill the age of the missing people with the help of mean of remaining people's age and fill the embarked people column with the most frequent embarked place."
   ]
  },
  {
   "cell_type": "code",
   "execution_count": 9,
   "metadata": {},
   "outputs": [],
   "source": [
    "imp=SimpleImputer(strategy='most_frequent')\n",
    "train_data[['Embarked']]=imp.fit_transform(train_data[['Embarked']])"
   ]
  },
  {
   "cell_type": "code",
   "execution_count": 10,
   "metadata": {},
   "outputs": [],
   "source": [
    "mean=train_data['Age'].mean()\n",
    "train_data['Age'].fillna(mean,inplace=True)"
   ]
  },
  {
   "cell_type": "markdown",
   "metadata": {},
   "source": [
    "With all the missing data filled we shall now change the varying age of people to a particular category. This we do by categorise the age from 0 to 12 as Child, 13 to 20 as Teen, 21 to 30 as Young, 31 to 40 as 30_adult, 41 to 50 as 40_adult and more than 51 as Elderly. By doing this we could get a clear insight of how many children and adults were saved. First lets round off the age."
   ]
  },
  {
   "cell_type": "code",
   "execution_count": 11,
   "metadata": {},
   "outputs": [],
   "source": [
    "train_data['Age']=np.ceil(train_data['Age'])"
   ]
  },
  {
   "cell_type": "code",
   "execution_count": 12,
   "metadata": {},
   "outputs": [],
   "source": [
    "def get_age(val):\n",
    "    age_classification={'Child':range(0,13),\n",
    "                        'Teen':range(13,21),\n",
    "                        'Young':range(21,31),\n",
    "                        '30_adult':range(31,41),\n",
    "                        '40_adult':range(41,51),\n",
    "                        'Elderly':range(51,90)}\n",
    "    for key,value in age_classification.items():\n",
    "        if val in value:\n",
    "            return key"
   ]
  },
  {
   "cell_type": "code",
   "execution_count": 13,
   "metadata": {},
   "outputs": [],
   "source": [
    "for i in range(len(train_data)):\n",
    "    train_data['Age'][i]=('{}'.format(get_age(train_data['Age'][i])))    "
   ]
  },
  {
   "cell_type": "markdown",
   "metadata": {},
   "source": [
    "With now the Age column changed we shall see the names so that we could get anything common in names."
   ]
  },
  {
   "cell_type": "code",
   "execution_count": 14,
   "metadata": {},
   "outputs": [
    {
     "data": {
      "text/plain": [
       "array(['Braund, Mr. Owen Harris',\n",
       "       'Cumings, Mrs. John Bradley (Florence Briggs Thayer)',\n",
       "       'Heikkinen, Miss. Laina',\n",
       "       'Futrelle, Mrs. Jacques Heath (Lily May Peel)',\n",
       "       'Allen, Mr. William Henry', 'Moran, Mr. James',\n",
       "       'McCarthy, Mr. Timothy J', 'Palsson, Master. Gosta Leonard',\n",
       "       'Johnson, Mrs. Oscar W (Elisabeth Vilhelmina Berg)',\n",
       "       'Nasser, Mrs. Nicholas (Adele Achem)',\n",
       "       'Sandstrom, Miss. Marguerite Rut', 'Bonnell, Miss. Elizabeth',\n",
       "       'Saundercock, Mr. William Henry', 'Andersson, Mr. Anders Johan',\n",
       "       'Vestrom, Miss. Hulda Amanda Adolfina',\n",
       "       'Hewlett, Mrs. (Mary D Kingcome) ', 'Rice, Master. Eugene',\n",
       "       'Williams, Mr. Charles Eugene',\n",
       "       'Vander Planke, Mrs. Julius (Emelia Maria Vandemoortele)',\n",
       "       'Masselmani, Mrs. Fatima', 'Fynney, Mr. Joseph J',\n",
       "       'Beesley, Mr. Lawrence', 'McGowan, Miss. Anna \"Annie\"',\n",
       "       'Sloper, Mr. William Thompson', 'Palsson, Miss. Torborg Danira',\n",
       "       'Asplund, Mrs. Carl Oscar (Selma Augusta Emilia Johansson)',\n",
       "       'Emir, Mr. Farred Chehab', 'Fortune, Mr. Charles Alexander',\n",
       "       'O\\'Dwyer, Miss. Ellen \"Nellie\"', 'Todoroff, Mr. Lalio',\n",
       "       'Uruchurtu, Don. Manuel E',\n",
       "       'Spencer, Mrs. William Augustus (Marie Eugenie)',\n",
       "       'Glynn, Miss. Mary Agatha', 'Wheadon, Mr. Edward H',\n",
       "       'Meyer, Mr. Edgar Joseph', 'Holverson, Mr. Alexander Oskar',\n",
       "       'Mamee, Mr. Hanna', 'Cann, Mr. Ernest Charles',\n",
       "       'Vander Planke, Miss. Augusta Maria',\n",
       "       'Nicola-Yarred, Miss. Jamila',\n",
       "       'Ahlin, Mrs. Johan (Johanna Persdotter Larsson)',\n",
       "       'Turpin, Mrs. William John Robert (Dorothy Ann Wonnacott)',\n",
       "       'Kraeff, Mr. Theodor', 'Laroche, Miss. Simonne Marie Anne Andree',\n",
       "       'Devaney, Miss. Margaret Delia', 'Rogers, Mr. William John',\n",
       "       'Lennon, Mr. Denis', \"O'Driscoll, Miss. Bridget\",\n",
       "       'Samaan, Mr. Youssef',\n",
       "       'Arnold-Franchi, Mrs. Josef (Josefine Franchi)',\n",
       "       'Panula, Master. Juha Niilo', 'Nosworthy, Mr. Richard Cater',\n",
       "       'Harper, Mrs. Henry Sleeper (Myna Haxtun)',\n",
       "       'Faunthorpe, Mrs. Lizzie (Elizabeth Anne Wilkinson)',\n",
       "       'Ostby, Mr. Engelhart Cornelius', 'Woolner, Mr. Hugh',\n",
       "       'Rugg, Miss. Emily', 'Novel, Mr. Mansouer',\n",
       "       'West, Miss. Constance Mirium',\n",
       "       'Goodwin, Master. William Frederick', 'Sirayanian, Mr. Orsen',\n",
       "       'Icard, Miss. Amelie', 'Harris, Mr. Henry Birkhardt',\n",
       "       'Skoog, Master. Harald', 'Stewart, Mr. Albert A',\n",
       "       'Moubarek, Master. Gerios', 'Nye, Mrs. (Elizabeth Ramell)',\n",
       "       'Crease, Mr. Ernest James', 'Andersson, Miss. Erna Alexandra',\n",
       "       'Kink, Mr. Vincenz', 'Jenkin, Mr. Stephen Curnow',\n",
       "       'Goodwin, Miss. Lillian Amy', 'Hood, Mr. Ambrose Jr',\n",
       "       'Chronopoulos, Mr. Apostolos', 'Bing, Mr. Lee',\n",
       "       'Moen, Mr. Sigurd Hansen', 'Staneff, Mr. Ivan',\n",
       "       'Moutal, Mr. Rahamin Haim', 'Caldwell, Master. Alden Gates',\n",
       "       'Dowdell, Miss. Elizabeth', 'Waelens, Mr. Achille',\n",
       "       'Sheerlinck, Mr. Jan Baptist', 'McDermott, Miss. Brigdet Delia',\n",
       "       'Carrau, Mr. Francisco M', 'Ilett, Miss. Bertha',\n",
       "       'Backstrom, Mrs. Karl Alfred (Maria Mathilda Gustafsson)',\n",
       "       'Ford, Mr. William Neal', 'Slocovski, Mr. Selman Francis',\n",
       "       'Fortune, Miss. Mabel Helen', 'Celotti, Mr. Francesco',\n",
       "       'Christmann, Mr. Emil', 'Andreasson, Mr. Paul Edvin',\n",
       "       'Chaffee, Mr. Herbert Fuller', 'Dean, Mr. Bertram Frank',\n",
       "       'Coxon, Mr. Daniel', 'Shorney, Mr. Charles Joseph',\n",
       "       'Goldschmidt, Mr. George B', 'Greenfield, Mr. William Bertram',\n",
       "       'Doling, Mrs. John T (Ada Julia Bone)', 'Kantor, Mr. Sinai',\n",
       "       'Petranec, Miss. Matilda', 'Petroff, Mr. Pastcho (\"Pentcho\")',\n",
       "       'White, Mr. Richard Frasar', 'Johansson, Mr. Gustaf Joel',\n",
       "       'Gustafsson, Mr. Anders Vilhelm', 'Mionoff, Mr. Stoytcho',\n",
       "       'Salkjelsvik, Miss. Anna Kristine', 'Moss, Mr. Albert Johan',\n",
       "       'Rekic, Mr. Tido', 'Moran, Miss. Bertha',\n",
       "       'Porter, Mr. Walter Chamberlain', 'Zabour, Miss. Hileni',\n",
       "       'Barton, Mr. David John', 'Jussila, Miss. Katriina',\n",
       "       'Attalah, Miss. Malake', 'Pekoniemi, Mr. Edvard',\n",
       "       'Connors, Mr. Patrick', 'Turpin, Mr. William John Robert',\n",
       "       'Baxter, Mr. Quigg Edmond', 'Andersson, Miss. Ellis Anna Maria',\n",
       "       'Hickman, Mr. Stanley George', 'Moore, Mr. Leonard Charles',\n",
       "       'Nasser, Mr. Nicholas', 'Webber, Miss. Susan',\n",
       "       'White, Mr. Percival Wayland', 'Nicola-Yarred, Master. Elias',\n",
       "       'McMahon, Mr. Martin', 'Madsen, Mr. Fridtjof Arne',\n",
       "       'Peter, Miss. Anna', 'Ekstrom, Mr. Johan', 'Drazenoic, Mr. Jozef',\n",
       "       'Coelho, Mr. Domingos Fernandeo',\n",
       "       'Robins, Mrs. Alexander A (Grace Charity Laury)',\n",
       "       'Weisz, Mrs. Leopold (Mathilde Francoise Pede)',\n",
       "       'Sobey, Mr. Samuel James Hayden', 'Richard, Mr. Emile',\n",
       "       'Newsom, Miss. Helen Monypeny', 'Futrelle, Mr. Jacques Heath',\n",
       "       'Osen, Mr. Olaf Elon', 'Giglio, Mr. Victor',\n",
       "       'Boulos, Mrs. Joseph (Sultana)', 'Nysten, Miss. Anna Sofia',\n",
       "       'Hakkarainen, Mrs. Pekka Pietari (Elin Matilda Dolck)',\n",
       "       'Burke, Mr. Jeremiah', 'Andrew, Mr. Edgardo Samuel',\n",
       "       'Nicholls, Mr. Joseph Charles',\n",
       "       'Andersson, Mr. August Edvard (\"Wennerstrom\")',\n",
       "       'Ford, Miss. Robina Maggie \"Ruby\"',\n",
       "       'Navratil, Mr. Michel (\"Louis M Hoffman\")',\n",
       "       'Byles, Rev. Thomas Roussel Davids', 'Bateman, Rev. Robert James',\n",
       "       'Pears, Mrs. Thomas (Edith Wearne)', 'Meo, Mr. Alfonzo',\n",
       "       'van Billiard, Mr. Austin Blyler', 'Olsen, Mr. Ole Martin',\n",
       "       'Williams, Mr. Charles Duane', 'Gilnagh, Miss. Katherine \"Katie\"',\n",
       "       'Corn, Mr. Harry', 'Smiljanic, Mr. Mile',\n",
       "       'Sage, Master. Thomas Henry', 'Cribb, Mr. John Hatfield',\n",
       "       'Watt, Mrs. James (Elizabeth \"Bessie\" Inglis Milne)',\n",
       "       'Bengtsson, Mr. John Viktor', 'Calic, Mr. Jovo',\n",
       "       'Panula, Master. Eino Viljami',\n",
       "       'Goldsmith, Master. Frank John William \"Frankie\"',\n",
       "       'Chibnall, Mrs. (Edith Martha Bowerman)',\n",
       "       'Skoog, Mrs. William (Anna Bernhardina Karlsson)',\n",
       "       'Baumann, Mr. John D', 'Ling, Mr. Lee',\n",
       "       'Van der hoef, Mr. Wyckoff', 'Rice, Master. Arthur',\n",
       "       'Johnson, Miss. Eleanor Ileen', 'Sivola, Mr. Antti Wilhelm',\n",
       "       'Smith, Mr. James Clinch', 'Klasen, Mr. Klas Albin',\n",
       "       'Lefebre, Master. Henry Forbes', 'Isham, Miss. Ann Elizabeth',\n",
       "       'Hale, Mr. Reginald', 'Leonard, Mr. Lionel',\n",
       "       'Sage, Miss. Constance Gladys', 'Pernot, Mr. Rene',\n",
       "       'Asplund, Master. Clarence Gustaf Hugo',\n",
       "       'Becker, Master. Richard F', 'Kink-Heilmann, Miss. Luise Gretchen',\n",
       "       'Rood, Mr. Hugh Roscoe',\n",
       "       'O\\'Brien, Mrs. Thomas (Johanna \"Hannah\" Godfrey)',\n",
       "       'Romaine, Mr. Charles Hallace (\"Mr C Rolmane\")',\n",
       "       'Bourke, Mr. John', 'Turcin, Mr. Stjepan', 'Pinsky, Mrs. (Rosa)',\n",
       "       'Carbines, Mr. William',\n",
       "       'Andersen-Jensen, Miss. Carla Christine Nielsine',\n",
       "       'Navratil, Master. Michel M',\n",
       "       'Brown, Mrs. James Joseph (Margaret Tobin)',\n",
       "       'Lurette, Miss. Elise', 'Mernagh, Mr. Robert',\n",
       "       'Olsen, Mr. Karl Siegwart Andreas',\n",
       "       'Madigan, Miss. Margaret \"Maggie\"',\n",
       "       'Yrois, Miss. Henriette (\"Mrs Harbeck\")',\n",
       "       'Vande Walle, Mr. Nestor Cyriel', 'Sage, Mr. Frederick',\n",
       "       'Johanson, Mr. Jakob Alfred', 'Youseff, Mr. Gerious',\n",
       "       'Cohen, Mr. Gurshon \"Gus\"', 'Strom, Miss. Telma Matilda',\n",
       "       'Backstrom, Mr. Karl Alfred', 'Albimona, Mr. Nassef Cassem',\n",
       "       'Carr, Miss. Helen \"Ellen\"', 'Blank, Mr. Henry', 'Ali, Mr. Ahmed',\n",
       "       'Cameron, Miss. Clear Annie', 'Perkin, Mr. John Henry',\n",
       "       'Givard, Mr. Hans Kristensen', 'Kiernan, Mr. Philip',\n",
       "       'Newell, Miss. Madeleine', 'Honkanen, Miss. Eliina',\n",
       "       'Jacobsohn, Mr. Sidney Samuel', 'Bazzani, Miss. Albina',\n",
       "       'Harris, Mr. Walter', 'Sunderland, Mr. Victor Francis',\n",
       "       'Bracken, Mr. James H', 'Green, Mr. George Henry',\n",
       "       'Nenkoff, Mr. Christo', 'Hoyt, Mr. Frederick Maxfield',\n",
       "       'Berglund, Mr. Karl Ivar Sven', 'Mellors, Mr. William John',\n",
       "       'Lovell, Mr. John Hall (\"Henry\")', 'Fahlstrom, Mr. Arne Jonas',\n",
       "       'Lefebre, Miss. Mathilde',\n",
       "       'Harris, Mrs. Henry Birkhardt (Irene Wallach)',\n",
       "       'Larsson, Mr. Bengt Edvin', 'Sjostedt, Mr. Ernst Adolf',\n",
       "       'Asplund, Miss. Lillian Gertrud',\n",
       "       'Leyson, Mr. Robert William Norman',\n",
       "       'Harknett, Miss. Alice Phoebe', 'Hold, Mr. Stephen',\n",
       "       'Collyer, Miss. Marjorie \"Lottie\"',\n",
       "       'Pengelly, Mr. Frederick William', 'Hunt, Mr. George Henry',\n",
       "       'Zabour, Miss. Thamine', 'Murphy, Miss. Katherine \"Kate\"',\n",
       "       'Coleridge, Mr. Reginald Charles', 'Maenpaa, Mr. Matti Alexanteri',\n",
       "       'Attalah, Mr. Sleiman', 'Minahan, Dr. William Edward',\n",
       "       'Lindahl, Miss. Agda Thorilda Viktoria',\n",
       "       'Hamalainen, Mrs. William (Anna)', 'Beckwith, Mr. Richard Leonard',\n",
       "       'Carter, Rev. Ernest Courtenay', 'Reed, Mr. James George',\n",
       "       'Strom, Mrs. Wilhelm (Elna Matilda Persson)',\n",
       "       'Stead, Mr. William Thomas', 'Lobb, Mr. William Arthur',\n",
       "       'Rosblom, Mrs. Viktor (Helena Wilhelmina)',\n",
       "       'Touma, Mrs. Darwis (Hanne Youssef Razi)',\n",
       "       'Thorne, Mrs. Gertrude Maybelle', 'Cherry, Miss. Gladys',\n",
       "       'Ward, Miss. Anna', 'Parrish, Mrs. (Lutie Davis)',\n",
       "       'Smith, Mr. Thomas', 'Asplund, Master. Edvin Rojj Felix',\n",
       "       'Taussig, Mr. Emil', 'Harrison, Mr. William', 'Henry, Miss. Delia',\n",
       "       'Reeves, Mr. David', 'Panula, Mr. Ernesti Arvid',\n",
       "       'Persson, Mr. Ernst Ulrik',\n",
       "       'Graham, Mrs. William Thompson (Edith Junkins)',\n",
       "       'Bissette, Miss. Amelia', 'Cairns, Mr. Alexander',\n",
       "       'Tornquist, Mr. William Henry',\n",
       "       'Mellinger, Mrs. (Elizabeth Anne Maidment)',\n",
       "       'Natsch, Mr. Charles H', 'Healy, Miss. Hanora \"Nora\"',\n",
       "       'Andrews, Miss. Kornelia Theodosia',\n",
       "       'Lindblom, Miss. Augusta Charlotta', 'Parkes, Mr. Francis \"Frank\"',\n",
       "       'Rice, Master. Eric', 'Abbott, Mrs. Stanton (Rosa Hunt)',\n",
       "       'Duane, Mr. Frank', 'Olsson, Mr. Nils Johan Goransson',\n",
       "       'de Pelsmaeker, Mr. Alfons', 'Dorking, Mr. Edward Arthur',\n",
       "       'Smith, Mr. Richard William', 'Stankovic, Mr. Ivan',\n",
       "       'de Mulder, Mr. Theodore', 'Naidenoff, Mr. Penko',\n",
       "       'Hosono, Mr. Masabumi', 'Connolly, Miss. Kate',\n",
       "       'Barber, Miss. Ellen \"Nellie\"',\n",
       "       'Bishop, Mrs. Dickinson H (Helen Walton)',\n",
       "       'Levy, Mr. Rene Jacques', 'Haas, Miss. Aloisia',\n",
       "       'Mineff, Mr. Ivan', 'Lewy, Mr. Ervin G', 'Hanna, Mr. Mansour',\n",
       "       'Allison, Miss. Helen Loraine', 'Saalfeld, Mr. Adolphe',\n",
       "       'Baxter, Mrs. James (Helene DeLaudeniere Chaput)',\n",
       "       'Kelly, Miss. Anna Katherine \"Annie Kate\"', 'McCoy, Mr. Bernard',\n",
       "       'Johnson, Mr. William Cahoone Jr', 'Keane, Miss. Nora A',\n",
       "       'Williams, Mr. Howard Hugh \"Harry\"',\n",
       "       'Allison, Master. Hudson Trevor', 'Fleming, Miss. Margaret',\n",
       "       'Penasco y Castellana, Mrs. Victor de Satode (Maria Josefa Perez de Soto y Vallejo)',\n",
       "       'Abelson, Mr. Samuel', 'Francatelli, Miss. Laura Mabel',\n",
       "       'Hays, Miss. Margaret Bechstein', 'Ryerson, Miss. Emily Borie',\n",
       "       'Lahtinen, Mrs. William (Anna Sylfven)', 'Hendekovic, Mr. Ignjac',\n",
       "       'Hart, Mr. Benjamin', 'Nilsson, Miss. Helmina Josefina',\n",
       "       'Kantor, Mrs. Sinai (Miriam Sternin)', 'Moraweck, Dr. Ernest',\n",
       "       'Wick, Miss. Mary Natalie',\n",
       "       'Spedden, Mrs. Frederic Oakley (Margaretta Corning Stone)',\n",
       "       'Dennis, Mr. Samuel', 'Danoff, Mr. Yoto',\n",
       "       'Slayter, Miss. Hilda Mary',\n",
       "       'Caldwell, Mrs. Albert Francis (Sylvia Mae Harbaugh)',\n",
       "       'Sage, Mr. George John Jr', 'Young, Miss. Marie Grice',\n",
       "       'Nysveen, Mr. Johan Hansen', 'Ball, Mrs. (Ada E Hall)',\n",
       "       'Goldsmith, Mrs. Frank John (Emily Alice Brown)',\n",
       "       'Hippach, Miss. Jean Gertrude', 'McCoy, Miss. Agnes',\n",
       "       'Partner, Mr. Austen', 'Graham, Mr. George Edward',\n",
       "       'Vander Planke, Mr. Leo Edmondus',\n",
       "       'Frauenthal, Mrs. Henry William (Clara Heinsheimer)',\n",
       "       'Denkoff, Mr. Mitto', 'Pears, Mr. Thomas Clinton',\n",
       "       'Burns, Miss. Elizabeth Margaret', 'Dahl, Mr. Karl Edwart',\n",
       "       'Blackwell, Mr. Stephen Weart', 'Navratil, Master. Edmond Roger',\n",
       "       'Fortune, Miss. Alice Elizabeth', 'Collander, Mr. Erik Gustaf',\n",
       "       'Sedgwick, Mr. Charles Frederick Waddington',\n",
       "       'Fox, Mr. Stanley Hubert', 'Brown, Miss. Amelia \"Mildred\"',\n",
       "       'Smith, Miss. Marion Elsie',\n",
       "       'Davison, Mrs. Thomas Henry (Mary E Finck)',\n",
       "       'Coutts, Master. William Loch \"William\"', 'Dimic, Mr. Jovan',\n",
       "       'Odahl, Mr. Nils Martin', 'Williams-Lambert, Mr. Fletcher Fellows',\n",
       "       'Elias, Mr. Tannous', 'Arnold-Franchi, Mr. Josef',\n",
       "       'Yousif, Mr. Wazli', 'Vanden Steen, Mr. Leo Peter',\n",
       "       'Bowerman, Miss. Elsie Edith', 'Funk, Miss. Annie Clemmer',\n",
       "       'McGovern, Miss. Mary', 'Mockler, Miss. Helen Mary \"Ellie\"',\n",
       "       'Skoog, Mr. Wilhelm', 'del Carlo, Mr. Sebastiano',\n",
       "       'Barbara, Mrs. (Catherine David)', 'Asim, Mr. Adola',\n",
       "       \"O'Brien, Mr. Thomas\", 'Adahl, Mr. Mauritz Nils Martin',\n",
       "       'Warren, Mrs. Frank Manley (Anna Sophia Atkinson)',\n",
       "       'Moussa, Mrs. (Mantoura Boulos)', 'Jermyn, Miss. Annie',\n",
       "       'Aubart, Mme. Leontine Pauline', 'Harder, Mr. George Achilles',\n",
       "       'Wiklund, Mr. Jakob Alfred', 'Beavan, Mr. William Thomas',\n",
       "       'Ringhini, Mr. Sante', 'Palsson, Miss. Stina Viola',\n",
       "       'Meyer, Mrs. Edgar Joseph (Leila Saks)',\n",
       "       'Landergren, Miss. Aurora Adelia', 'Widener, Mr. Harry Elkins',\n",
       "       'Betros, Mr. Tannous', 'Gustafsson, Mr. Karl Gideon',\n",
       "       'Bidois, Miss. Rosalie', 'Nakid, Miss. Maria (\"Mary\")',\n",
       "       'Tikkanen, Mr. Juho',\n",
       "       'Holverson, Mrs. Alexander Oskar (Mary Aline Towner)',\n",
       "       'Plotcharsky, Mr. Vasil', 'Davies, Mr. Charles Henry',\n",
       "       'Goodwin, Master. Sidney Leonard', 'Buss, Miss. Kate',\n",
       "       'Sadlier, Mr. Matthew', 'Lehmann, Miss. Bertha',\n",
       "       'Carter, Mr. William Ernest', 'Jansson, Mr. Carl Olof',\n",
       "       'Gustafsson, Mr. Johan Birger', 'Newell, Miss. Marjorie',\n",
       "       'Sandstrom, Mrs. Hjalmar (Agnes Charlotta Bengtsson)',\n",
       "       'Johansson, Mr. Erik', 'Olsson, Miss. Elina',\n",
       "       'McKane, Mr. Peter David', 'Pain, Dr. Alfred',\n",
       "       'Trout, Mrs. William H (Jessie L)', 'Niskanen, Mr. Juha',\n",
       "       'Adams, Mr. John', 'Jussila, Miss. Mari Aina',\n",
       "       'Hakkarainen, Mr. Pekka Pietari', 'Oreskovic, Miss. Marija',\n",
       "       'Gale, Mr. Shadrach', 'Widegren, Mr. Carl/Charles Peter',\n",
       "       'Richards, Master. William Rowe',\n",
       "       'Birkeland, Mr. Hans Martin Monsen', 'Lefebre, Miss. Ida',\n",
       "       'Sdycoff, Mr. Todor', 'Hart, Mr. Henry', 'Minahan, Miss. Daisy E',\n",
       "       'Cunningham, Mr. Alfred Fleming', 'Sundman, Mr. Johan Julian',\n",
       "       'Meek, Mrs. Thomas (Annie Louise Rowley)',\n",
       "       'Drew, Mrs. James Vivian (Lulu Thorne Christian)',\n",
       "       'Silven, Miss. Lyyli Karoliina', 'Matthews, Mr. William John',\n",
       "       'Van Impe, Miss. Catharina', 'Gheorgheff, Mr. Stanio',\n",
       "       'Charters, Mr. David', 'Zimmerman, Mr. Leo',\n",
       "       'Danbom, Mrs. Ernst Gilbert (Anna Sigrid Maria Brogren)',\n",
       "       'Rosblom, Mr. Viktor Richard', 'Wiseman, Mr. Phillippe',\n",
       "       'Clarke, Mrs. Charles V (Ada Maria Winfield)',\n",
       "       'Phillips, Miss. Kate Florence (\"Mrs Kate Louise Phillips Marshall\")',\n",
       "       'Flynn, Mr. James', 'Pickard, Mr. Berk (Berk Trembisky)',\n",
       "       'Bjornstrom-Steffansson, Mr. Mauritz Hakan',\n",
       "       'Thorneycroft, Mrs. Percival (Florence Kate White)',\n",
       "       'Louch, Mrs. Charles Alexander (Alice Adelaide Slow)',\n",
       "       'Kallio, Mr. Nikolai Erland', 'Silvey, Mr. William Baird',\n",
       "       'Carter, Miss. Lucile Polk',\n",
       "       'Ford, Miss. Doolina Margaret \"Daisy\"',\n",
       "       'Richards, Mrs. Sidney (Emily Hocking)', 'Fortune, Mr. Mark',\n",
       "       'Kvillner, Mr. Johan Henrik Johannesson',\n",
       "       'Hart, Mrs. Benjamin (Esther Ada Bloomfield)', 'Hampe, Mr. Leon',\n",
       "       'Petterson, Mr. Johan Emil', 'Reynaldo, Ms. Encarnacion',\n",
       "       'Johannesen-Bratthammer, Mr. Bernt', 'Dodge, Master. Washington',\n",
       "       'Mellinger, Miss. Madeleine Violet', 'Seward, Mr. Frederic Kimber',\n",
       "       'Baclini, Miss. Marie Catherine', 'Peuchen, Major. Arthur Godfrey',\n",
       "       'West, Mr. Edwy Arthur', 'Hagland, Mr. Ingvald Olai Olsen',\n",
       "       'Foreman, Mr. Benjamin Laventall', 'Goldenberg, Mr. Samuel L',\n",
       "       'Peduzzi, Mr. Joseph', 'Jalsevac, Mr. Ivan',\n",
       "       'Millet, Mr. Francis Davis', 'Kenyon, Mrs. Frederick R (Marion)',\n",
       "       'Toomey, Miss. Ellen', \"O'Connor, Mr. Maurice\",\n",
       "       'Anderson, Mr. Harry', 'Morley, Mr. William', 'Gee, Mr. Arthur H',\n",
       "       'Milling, Mr. Jacob Christian', 'Maisner, Mr. Simon',\n",
       "       'Goncalves, Mr. Manuel Estanslas', 'Campbell, Mr. William',\n",
       "       'Smart, Mr. John Montgomery', 'Scanlan, Mr. James',\n",
       "       'Baclini, Miss. Helene Barbara', 'Keefe, Mr. Arthur',\n",
       "       'Cacic, Mr. Luka', 'West, Mrs. Edwy Arthur (Ada Mary Worth)',\n",
       "       'Jerwan, Mrs. Amin S (Marie Marthe Thuillard)',\n",
       "       'Strandberg, Miss. Ida Sofia', 'Clifford, Mr. George Quincy',\n",
       "       'Renouf, Mr. Peter Henry', 'Braund, Mr. Lewis Richard',\n",
       "       'Karlsson, Mr. Nils August', 'Hirvonen, Miss. Hildur E',\n",
       "       'Goodwin, Master. Harold Victor',\n",
       "       'Frost, Mr. Anthony Wood \"Archie\"', 'Rouse, Mr. Richard Henry',\n",
       "       'Turkula, Mrs. (Hedwig)', 'Bishop, Mr. Dickinson H',\n",
       "       'Lefebre, Miss. Jeannie',\n",
       "       'Hoyt, Mrs. Frederick Maxfield (Jane Anne Forby)',\n",
       "       'Kent, Mr. Edward Austin', 'Somerton, Mr. Francis William',\n",
       "       'Coutts, Master. Eden Leslie \"Neville\"',\n",
       "       'Hagland, Mr. Konrad Mathias Reiersen', 'Windelov, Mr. Einar',\n",
       "       'Molson, Mr. Harry Markland', 'Artagaveytia, Mr. Ramon',\n",
       "       'Stanley, Mr. Edward Roland', 'Yousseff, Mr. Gerious',\n",
       "       'Eustis, Miss. Elizabeth Mussey',\n",
       "       'Shellard, Mr. Frederick William',\n",
       "       'Allison, Mrs. Hudson J C (Bessie Waldo Daniels)',\n",
       "       'Svensson, Mr. Olof', 'Calic, Mr. Petar', 'Canavan, Miss. Mary',\n",
       "       \"O'Sullivan, Miss. Bridget Mary\", 'Laitinen, Miss. Kristina Sofia',\n",
       "       'Maioni, Miss. Roberta',\n",
       "       'Penasco y Castellana, Mr. Victor de Satode',\n",
       "       'Quick, Mrs. Frederick Charles (Jane Richards)',\n",
       "       'Bradley, Mr. George (\"George Arthur Brayton\")',\n",
       "       'Olsen, Mr. Henry Margido', 'Lang, Mr. Fang',\n",
       "       'Daly, Mr. Eugene Patrick', 'Webber, Mr. James',\n",
       "       'McGough, Mr. James Robert',\n",
       "       'Rothschild, Mrs. Martin (Elizabeth L. Barrett)',\n",
       "       'Coleff, Mr. Satio', 'Walker, Mr. William Anderson',\n",
       "       'Lemore, Mrs. (Amelia Milley)', 'Ryan, Mr. Patrick',\n",
       "       'Angle, Mrs. William A (Florence \"Mary\" Agnes Hughes)',\n",
       "       'Pavlovic, Mr. Stefo', 'Perreault, Miss. Anne', 'Vovk, Mr. Janko',\n",
       "       'Lahoud, Mr. Sarkis',\n",
       "       'Hippach, Mrs. Louis Albert (Ida Sophia Fischer)',\n",
       "       'Kassem, Mr. Fared', 'Farrell, Mr. James', 'Ridsdale, Miss. Lucy',\n",
       "       'Farthing, Mr. John', 'Salonen, Mr. Johan Werner',\n",
       "       'Hocking, Mr. Richard George', 'Quick, Miss. Phyllis May',\n",
       "       'Toufik, Mr. Nakli', 'Elias, Mr. Joseph Jr',\n",
       "       'Peter, Mrs. Catherine (Catherine Rizk)', 'Cacic, Miss. Marija',\n",
       "       'Hart, Miss. Eva Miriam', 'Butt, Major. Archibald Willingham',\n",
       "       'LeRoy, Miss. Bertha', 'Risien, Mr. Samuel Beard',\n",
       "       'Frolicher, Miss. Hedwig Margaritha', 'Crosby, Miss. Harriet R',\n",
       "       'Andersson, Miss. Ingeborg Constanzia',\n",
       "       'Andersson, Miss. Sigrid Elisabeth', 'Beane, Mr. Edward',\n",
       "       'Douglas, Mr. Walter Donald', 'Nicholson, Mr. Arthur Ernest',\n",
       "       'Beane, Mrs. Edward (Ethel Clarke)', 'Padro y Manent, Mr. Julian',\n",
       "       'Goldsmith, Mr. Frank John', 'Davies, Master. John Morgan Jr',\n",
       "       'Thayer, Mr. John Borland Jr', 'Sharp, Mr. Percival James R',\n",
       "       \"O'Brien, Mr. Timothy\", 'Leeni, Mr. Fahim (\"Philip Zenni\")',\n",
       "       'Ohman, Miss. Velin', 'Wright, Mr. George',\n",
       "       'Duff Gordon, Lady. (Lucille Christiana Sutherland) (\"Mrs Morgan\")',\n",
       "       'Robbins, Mr. Victor', 'Taussig, Mrs. Emil (Tillie Mandelbaum)',\n",
       "       'de Messemaeker, Mrs. Guillaume Joseph (Emma)',\n",
       "       'Morrow, Mr. Thomas Rowan', 'Sivic, Mr. Husein',\n",
       "       'Norman, Mr. Robert Douglas', 'Simmons, Mr. John',\n",
       "       'Meanwell, Miss. (Marion Ogden)', 'Davies, Mr. Alfred J',\n",
       "       'Stoytcheff, Mr. Ilia',\n",
       "       'Palsson, Mrs. Nils (Alma Cornelia Berglund)',\n",
       "       'Doharr, Mr. Tannous', 'Jonsson, Mr. Carl', 'Harris, Mr. George',\n",
       "       'Appleton, Mrs. Edward Dale (Charlotte Lamson)',\n",
       "       'Flynn, Mr. John Irwin (\"Irving\")', 'Kelly, Miss. Mary',\n",
       "       'Rush, Mr. Alfred George John', 'Patchett, Mr. George',\n",
       "       'Garside, Miss. Ethel',\n",
       "       'Silvey, Mrs. William Baird (Alice Munger)',\n",
       "       'Caram, Mrs. Joseph (Maria Elias)', 'Jussila, Mr. Eiriik',\n",
       "       'Christy, Miss. Julie Rachel',\n",
       "       'Thayer, Mrs. John Borland (Marian Longstreth Morris)',\n",
       "       'Downton, Mr. William James', 'Ross, Mr. John Hugo',\n",
       "       'Paulner, Mr. Uscher', 'Taussig, Miss. Ruth',\n",
       "       'Jarvis, Mr. John Denzil', 'Frolicher-Stehli, Mr. Maxmillian',\n",
       "       'Gilinski, Mr. Eliezer', 'Murdlin, Mr. Joseph',\n",
       "       'Rintamaki, Mr. Matti',\n",
       "       'Stephenson, Mrs. Walter Bertram (Martha Eustis)',\n",
       "       'Elsbury, Mr. William James', 'Bourke, Miss. Mary',\n",
       "       'Chapman, Mr. John Henry', 'Van Impe, Mr. Jean Baptiste',\n",
       "       'Leitch, Miss. Jessie Wills', 'Johnson, Mr. Alfred',\n",
       "       'Boulos, Mr. Hanna',\n",
       "       'Duff Gordon, Sir. Cosmo Edmund (\"Mr Morgan\")',\n",
       "       'Jacobsohn, Mrs. Sidney Samuel (Amy Frances Christy)',\n",
       "       'Slabenoff, Mr. Petco', 'Harrington, Mr. Charles H',\n",
       "       'Torber, Mr. Ernst William', 'Homer, Mr. Harry (\"Mr E Haven\")',\n",
       "       'Lindell, Mr. Edvard Bengtsson', 'Karaic, Mr. Milan',\n",
       "       'Daniel, Mr. Robert Williams',\n",
       "       'Laroche, Mrs. Joseph (Juliette Marie Louise Lafargue)',\n",
       "       'Shutes, Miss. Elizabeth W',\n",
       "       'Andersson, Mrs. Anders Johan (Alfrida Konstantia Brogren)',\n",
       "       'Jardin, Mr. Jose Neto', 'Murphy, Miss. Margaret Jane',\n",
       "       'Horgan, Mr. John', 'Brocklebank, Mr. William Alfred',\n",
       "       'Herman, Miss. Alice', 'Danbom, Mr. Ernst Gilbert',\n",
       "       'Lobb, Mrs. William Arthur (Cordelia K Stanlick)',\n",
       "       'Becker, Miss. Marion Louise', 'Gavey, Mr. Lawrence',\n",
       "       'Yasbeck, Mr. Antoni', 'Kimball, Mr. Edwin Nelson Jr',\n",
       "       'Nakid, Mr. Sahid', 'Hansen, Mr. Henry Damsgaard',\n",
       "       'Bowen, Mr. David John \"Dai\"', 'Sutton, Mr. Frederick',\n",
       "       'Kirkland, Rev. Charles Leonard', 'Longley, Miss. Gretchen Fiske',\n",
       "       'Bostandyeff, Mr. Guentcho', \"O'Connell, Mr. Patrick D\",\n",
       "       'Barkworth, Mr. Algernon Henry Wilson',\n",
       "       'Lundahl, Mr. Johan Svensson', 'Stahelin-Maeglin, Dr. Max',\n",
       "       'Parr, Mr. William Henry Marsh', 'Skoog, Miss. Mabel',\n",
       "       'Davis, Miss. Mary', 'Leinonen, Mr. Antti Gustaf',\n",
       "       'Collyer, Mr. Harvey', 'Panula, Mrs. Juha (Maria Emilia Ojala)',\n",
       "       'Thorneycroft, Mr. Percival', 'Jensen, Mr. Hans Peder',\n",
       "       'Sagesser, Mlle. Emma', 'Skoog, Miss. Margit Elizabeth',\n",
       "       'Foo, Mr. Choong', 'Baclini, Miss. Eugenie',\n",
       "       'Harper, Mr. Henry Sleeper', 'Cor, Mr. Liudevit',\n",
       "       'Simonius-Blumer, Col. Oberst Alfons', 'Willey, Mr. Edward',\n",
       "       'Stanley, Miss. Amy Zillah Elsie', 'Mitkoff, Mr. Mito',\n",
       "       'Doling, Miss. Elsie', 'Kalvik, Mr. Johannes Halvorsen',\n",
       "       'O\\'Leary, Miss. Hanora \"Norah\"', 'Hegarty, Miss. Hanora \"Nora\"',\n",
       "       'Hickman, Mr. Leonard Mark', 'Radeff, Mr. Alexander',\n",
       "       'Bourke, Mrs. John (Catherine)', 'Eitemiller, Mr. George Floyd',\n",
       "       'Newell, Mr. Arthur Webster', 'Frauenthal, Dr. Henry William',\n",
       "       'Badt, Mr. Mohamed', 'Colley, Mr. Edward Pomeroy',\n",
       "       'Coleff, Mr. Peju', 'Lindqvist, Mr. Eino William',\n",
       "       'Hickman, Mr. Lewis', 'Butler, Mr. Reginald Fenton',\n",
       "       'Rommetvedt, Mr. Knud Paust', 'Cook, Mr. Jacob',\n",
       "       'Taylor, Mrs. Elmer Zebley (Juliet Cummins Wright)',\n",
       "       'Brown, Mrs. Thomas William Solomon (Elizabeth Catherine Ford)',\n",
       "       'Davidson, Mr. Thornton', 'Mitchell, Mr. Henry Michael',\n",
       "       'Wilhelms, Mr. Charles', 'Watson, Mr. Ennis Hastings',\n",
       "       'Edvardsson, Mr. Gustaf Hjalmar', 'Sawyer, Mr. Frederick Charles',\n",
       "       'Turja, Miss. Anna Sofia',\n",
       "       'Goodwin, Mrs. Frederick (Augusta Tyler)',\n",
       "       'Cardeza, Mr. Thomas Drake Martinez', 'Peters, Miss. Katie',\n",
       "       'Hassab, Mr. Hammad', 'Olsvigen, Mr. Thor Anderson',\n",
       "       'Goodwin, Mr. Charles Edward', 'Brown, Mr. Thomas William Solomon',\n",
       "       'Laroche, Mr. Joseph Philippe Lemercier',\n",
       "       'Panula, Mr. Jaako Arnold', 'Dakic, Mr. Branko',\n",
       "       'Fischer, Mr. Eberhard Thelander',\n",
       "       'Madill, Miss. Georgette Alexandra', 'Dick, Mr. Albert Adrian',\n",
       "       'Karun, Miss. Manca', 'Lam, Mr. Ali', 'Saad, Mr. Khalil',\n",
       "       'Weir, Col. John', 'Chapman, Mr. Charles Henry',\n",
       "       'Kelly, Mr. James', 'Mullens, Miss. Katherine \"Katie\"',\n",
       "       'Thayer, Mr. John Borland',\n",
       "       'Humblen, Mr. Adolf Mathias Nicolai Olsen',\n",
       "       'Astor, Mrs. John Jacob (Madeleine Talmadge Force)',\n",
       "       'Silverthorne, Mr. Spencer Victor', 'Barbara, Miss. Saiide',\n",
       "       'Gallagher, Mr. Martin', 'Hansen, Mr. Henrik Juul',\n",
       "       'Morley, Mr. Henry Samuel (\"Mr Henry Marshall\")',\n",
       "       'Kelly, Mrs. Florence \"Fannie\"',\n",
       "       'Calderhead, Mr. Edward Pennington', 'Cleaver, Miss. Alice',\n",
       "       'Moubarek, Master. Halim Gonios (\"William George\")',\n",
       "       'Mayne, Mlle. Berthe Antonine (\"Mrs de Villiers\")',\n",
       "       'Klaber, Mr. Herman', 'Taylor, Mr. Elmer Zebley',\n",
       "       'Larsson, Mr. August Viktor', 'Greenberg, Mr. Samuel',\n",
       "       'Soholt, Mr. Peter Andreas Lauritz Andersen',\n",
       "       'Endres, Miss. Caroline Louise',\n",
       "       'Troutt, Miss. Edwina Celia \"Winnie\"', 'McEvoy, Mr. Michael',\n",
       "       'Johnson, Mr. Malkolm Joackim',\n",
       "       'Harper, Miss. Annie Jessie \"Nina\"', 'Jensen, Mr. Svend Lauritz',\n",
       "       'Gillespie, Mr. William Henry', 'Hodges, Mr. Henry Price',\n",
       "       'Chambers, Mr. Norman Campbell', 'Oreskovic, Mr. Luka',\n",
       "       'Renouf, Mrs. Peter Henry (Lillian Jefferys)',\n",
       "       'Mannion, Miss. Margareth', 'Bryhl, Mr. Kurt Arnold Gottfrid',\n",
       "       'Ilmakangas, Miss. Pieta Sofia', 'Allen, Miss. Elisabeth Walton',\n",
       "       'Hassan, Mr. Houssein G N', 'Knight, Mr. Robert J',\n",
       "       'Berriman, Mr. William John', 'Troupiansky, Mr. Moses Aaron',\n",
       "       'Williams, Mr. Leslie', 'Ford, Mrs. Edward (Margaret Ann Watson)',\n",
       "       'Lesurer, Mr. Gustave J', 'Ivanoff, Mr. Kanio',\n",
       "       'Nankoff, Mr. Minko', 'Hawksford, Mr. Walter James',\n",
       "       'Cavendish, Mr. Tyrell William',\n",
       "       'Ryerson, Miss. Susan Parker \"Suzette\"', 'McNamee, Mr. Neal',\n",
       "       'Stranden, Mr. Juho', 'Crosby, Capt. Edward Gifford',\n",
       "       'Abbott, Mr. Rossmore Edward', 'Sinkkonen, Miss. Anna',\n",
       "       'Marvin, Mr. Daniel Warner', 'Connaghton, Mr. Michael',\n",
       "       'Wells, Miss. Joan', 'Moor, Master. Meier',\n",
       "       'Vande Velde, Mr. Johannes Joseph', 'Jonkoff, Mr. Lalio',\n",
       "       'Herman, Mrs. Samuel (Jane Laver)', 'Hamalainen, Master. Viljo',\n",
       "       'Carlsson, Mr. August Sigfrid', 'Bailey, Mr. Percy Andrew',\n",
       "       'Theobald, Mr. Thomas Leonard',\n",
       "       'Rothes, the Countess. of (Lucy Noel Martha Dyer-Edwards)',\n",
       "       'Garfirth, Mr. John', 'Nirva, Mr. Iisakki Antino Aijo',\n",
       "       'Barah, Mr. Hanna Assi',\n",
       "       'Carter, Mrs. William Ernest (Lucile Polk)',\n",
       "       'Eklund, Mr. Hans Linus', 'Hogeboom, Mrs. John C (Anna Andrews)',\n",
       "       'Brewe, Dr. Arthur Jackson', 'Mangan, Miss. Mary',\n",
       "       'Moran, Mr. Daniel J', 'Gronnestad, Mr. Daniel Danielsen',\n",
       "       'Lievens, Mr. Rene Aime', 'Jensen, Mr. Niels Peder',\n",
       "       'Mack, Mrs. (Mary)', 'Elias, Mr. Dibo',\n",
       "       'Hocking, Mrs. Elizabeth (Eliza Needs)',\n",
       "       'Myhrman, Mr. Pehr Fabian Oliver Malkolm', 'Tobin, Mr. Roger',\n",
       "       'Emanuel, Miss. Virginia Ethel', 'Kilgannon, Mr. Thomas J',\n",
       "       'Robert, Mrs. Edward Scott (Elisabeth Walton McMillan)',\n",
       "       'Ayoub, Miss. Banoura',\n",
       "       'Dick, Mrs. Albert Adrian (Vera Gillespie)',\n",
       "       'Long, Mr. Milton Clyde', 'Johnston, Mr. Andrew G',\n",
       "       'Ali, Mr. William', 'Harmer, Mr. Abraham (David Lishin)',\n",
       "       'Sjoblom, Miss. Anna Sofia', 'Rice, Master. George Hugh',\n",
       "       'Dean, Master. Bertram Vere', 'Guggenheim, Mr. Benjamin',\n",
       "       'Keane, Mr. Andrew \"Andy\"', 'Gaskell, Mr. Alfred',\n",
       "       'Sage, Miss. Stella Anna', 'Hoyt, Mr. William Fisher',\n",
       "       'Dantcheff, Mr. Ristiu', 'Otter, Mr. Richard',\n",
       "       'Leader, Dr. Alice (Farnham)', 'Osman, Mrs. Mara',\n",
       "       'Ibrahim Shawah, Mr. Yousseff',\n",
       "       'Van Impe, Mrs. Jean Baptiste (Rosalie Paula Govaert)',\n",
       "       'Ponesell, Mr. Martin',\n",
       "       'Collyer, Mrs. Harvey (Charlotte Annie Tate)',\n",
       "       'Carter, Master. William Thornton II',\n",
       "       'Thomas, Master. Assad Alexander', 'Hedman, Mr. Oskar Arvid',\n",
       "       'Johansson, Mr. Karl Johan', 'Andrews, Mr. Thomas Jr',\n",
       "       'Pettersson, Miss. Ellen Natalia', 'Meyer, Mr. August',\n",
       "       'Chambers, Mrs. Norman Campbell (Bertha Griggs)',\n",
       "       'Alexander, Mr. William', 'Lester, Mr. James',\n",
       "       'Slemen, Mr. Richard James', 'Andersson, Miss. Ebba Iris Alfrida',\n",
       "       'Tomlin, Mr. Ernest Portage', 'Fry, Mr. Richard',\n",
       "       'Heininen, Miss. Wendla Maria', 'Mallet, Mr. Albert',\n",
       "       'Holm, Mr. John Fredrik Alexander', 'Skoog, Master. Karl Thorsten',\n",
       "       'Hays, Mrs. Charles Melville (Clara Jennings Gregg)',\n",
       "       'Lulic, Mr. Nikola', 'Reuchlin, Jonkheer. John George',\n",
       "       'Moor, Mrs. (Beila)', 'Panula, Master. Urho Abraham',\n",
       "       'Flynn, Mr. John', 'Lam, Mr. Len', 'Mallet, Master. Andre',\n",
       "       'McCormack, Mr. Thomas Joseph',\n",
       "       'Stone, Mrs. George Nelson (Martha Evelyn)',\n",
       "       'Yasbeck, Mrs. Antoni (Selini Alexander)',\n",
       "       'Richards, Master. George Sibley', 'Saad, Mr. Amin',\n",
       "       'Augustsson, Mr. Albert', 'Allum, Mr. Owen George',\n",
       "       'Compton, Miss. Sara Rebecca', 'Pasic, Mr. Jakob',\n",
       "       'Sirota, Mr. Maurice', 'Chip, Mr. Chang', 'Marechal, Mr. Pierre',\n",
       "       'Alhomaki, Mr. Ilmari Rudolf', 'Mudd, Mr. Thomas Charles',\n",
       "       'Serepeca, Miss. Augusta', 'Lemberopolous, Mr. Peter L',\n",
       "       'Culumovic, Mr. Jeso', 'Abbing, Mr. Anthony',\n",
       "       'Sage, Mr. Douglas Bullen', 'Markoff, Mr. Marin',\n",
       "       'Harper, Rev. John',\n",
       "       'Goldenberg, Mrs. Samuel L (Edwiga Grabowska)',\n",
       "       'Andersson, Master. Sigvard Harald Elias', 'Svensson, Mr. Johan',\n",
       "       'Boulos, Miss. Nourelain', 'Lines, Miss. Mary Conover',\n",
       "       'Carter, Mrs. Ernest Courtenay (Lilian Hughes)',\n",
       "       'Aks, Mrs. Sam (Leah Rosen)',\n",
       "       'Wick, Mrs. George Dennick (Mary Hitchcock)',\n",
       "       'Daly, Mr. Peter Denis ', 'Baclini, Mrs. Solomon (Latifa Qurban)',\n",
       "       'Razi, Mr. Raihed', 'Hansen, Mr. Claus Peter',\n",
       "       'Giles, Mr. Frederick Edward',\n",
       "       'Swift, Mrs. Frederick Joel (Margaret Welles Barron)',\n",
       "       'Sage, Miss. Dorothy Edith \"Dolly\"', 'Gill, Mr. John William',\n",
       "       'Bystrom, Mrs. (Karolina)', 'Duran y More, Miss. Asuncion',\n",
       "       'Roebling, Mr. Washington Augustus II',\n",
       "       'van Melkebeke, Mr. Philemon', 'Johnson, Master. Harold Theodor',\n",
       "       'Balkic, Mr. Cerin',\n",
       "       'Beckwith, Mrs. Richard Leonard (Sallie Monypeny)',\n",
       "       'Carlsson, Mr. Frans Olof', 'Vander Cruyssen, Mr. Victor',\n",
       "       'Abelson, Mrs. Samuel (Hannah Wizosky)',\n",
       "       'Najib, Miss. Adele Kiamie \"Jane\"',\n",
       "       'Gustafsson, Mr. Alfred Ossian', 'Petroff, Mr. Nedelio',\n",
       "       'Laleff, Mr. Kristo',\n",
       "       'Potter, Mrs. Thomas Jr (Lily Alexenia Wilson)',\n",
       "       'Shelley, Mrs. William (Imanita Parrish Hall)',\n",
       "       'Markun, Mr. Johann', 'Dahlberg, Miss. Gerda Ulrika',\n",
       "       'Banfield, Mr. Frederick James', 'Sutehall, Mr. Henry Jr',\n",
       "       'Rice, Mrs. William (Margaret Norton)', 'Montvila, Rev. Juozas',\n",
       "       'Graham, Miss. Margaret Edith',\n",
       "       'Johnston, Miss. Catherine Helen \"Carrie\"',\n",
       "       'Behr, Mr. Karl Howell', 'Dooley, Mr. Patrick'], dtype=object)"
      ]
     },
     "execution_count": 14,
     "metadata": {},
     "output_type": "execute_result"
    }
   ],
   "source": [
    "train_data['Name'].unique()"
   ]
  },
  {
   "cell_type": "markdown",
   "metadata": {},
   "source": [
    "We could see that the titles stand common amidst the name. So we can use it for prediction."
   ]
  },
  {
   "cell_type": "code",
   "execution_count": 15,
   "metadata": {},
   "outputs": [],
   "source": [
    "def get_title(val):\n",
    "    words=val.split()\n",
    "    title={'Officer':['Capt.','Col.','Major.','Dr.','Rev.'],\n",
    "          'Royalty':['Jonkheer.','Don.','Sir.','the Countess.','Lady.'],\n",
    "          'Mrs':['Mme.','Ms.','Mrs.'],\n",
    "          'Mr':['Mr.'],\n",
    "          'Miss':['Mlle.','Miss.'],\n",
    "          'Master':['Master.']}\n",
    "    for key,value in title.items():\n",
    "        for word in words:\n",
    "            if word in value:\n",
    "                return str(key)"
   ]
  },
  {
   "cell_type": "code",
   "execution_count": 16,
   "metadata": {},
   "outputs": [],
   "source": [
    "train_data['Title']=np.NAN\n",
    "for i in range(len(train_data)):\n",
    "    train_data['Title'][i]=get_title(train_data['Name'][i])"
   ]
  },
  {
   "cell_type": "code",
   "execution_count": 17,
   "metadata": {},
   "outputs": [
    {
     "data": {
      "text/plain": [
       "False    890\n",
       "True       1\n",
       "Name: Title, dtype: int64"
      ]
     },
     "execution_count": 17,
     "metadata": {},
     "output_type": "execute_result"
    }
   ],
   "source": [
    "train_data['Title'].isna().value_counts()"
   ]
  },
  {
   "cell_type": "markdown",
   "metadata": {},
   "source": [
    "We have got a new column called Title that display the title of the passengers. We could see that there is a miising value which means that the title was not given to that particular member. So lets deal with it later.\n",
    "                                                                                                Now lets us get some information from SibSp and Parch. These are nothing but the number of siblings and parents that particular passenger have in the board. This is also important because those who are having small family managed to escape which gives us a good correlation for our prediction. Lets convert it into family member(Fam_mem) which tells the total number of family members on the board. Then we will convert the numbers into three columns stating the single passengers as singleton, 2 to 4 members as small family, more than 4 as large_family "
   ]
  },
  {
   "cell_type": "code",
   "execution_count": 18,
   "metadata": {},
   "outputs": [],
   "source": [
    "train_data['Fam_mem']=train_data['SibSp']+train_data['Parch']+1"
   ]
  },
  {
   "cell_type": "code",
   "execution_count": 19,
   "metadata": {},
   "outputs": [],
   "source": [
    "def fam_size(val):\n",
    "    fam={'Single':[1],\n",
    "        'Small_family':[2,3,4],\n",
    "        'large_family':[5,6,7,8,9,10,11]}\n",
    "    for key,value in fam.items():\n",
    "        if val in value:\n",
    "            return key"
   ]
  },
  {
   "cell_type": "code",
   "execution_count": 20,
   "metadata": {},
   "outputs": [],
   "source": [
    "for i in range(len(train_data)):\n",
    "    train_data['Fam_mem'][i]=fam_size(train_data['Fam_mem'][i])"
   ]
  },
  {
   "cell_type": "markdown",
   "metadata": {},
   "source": [
    "Now we can see how the data transformation made changes"
   ]
  },
  {
   "cell_type": "code",
   "execution_count": 21,
   "metadata": {},
   "outputs": [
    {
     "data": {
      "text/html": [
       "<div>\n",
       "<style scoped>\n",
       "    .dataframe tbody tr th:only-of-type {\n",
       "        vertical-align: middle;\n",
       "    }\n",
       "\n",
       "    .dataframe tbody tr th {\n",
       "        vertical-align: top;\n",
       "    }\n",
       "\n",
       "    .dataframe thead th {\n",
       "        text-align: right;\n",
       "    }\n",
       "</style>\n",
       "<table border=\"1\" class=\"dataframe\">\n",
       "  <thead>\n",
       "    <tr style=\"text-align: right;\">\n",
       "      <th></th>\n",
       "      <th>Survived</th>\n",
       "      <th>Pclass</th>\n",
       "      <th>Name</th>\n",
       "      <th>Sex</th>\n",
       "      <th>Age</th>\n",
       "      <th>SibSp</th>\n",
       "      <th>Parch</th>\n",
       "      <th>Fare</th>\n",
       "      <th>Embarked</th>\n",
       "      <th>Title</th>\n",
       "      <th>Fam_mem</th>\n",
       "    </tr>\n",
       "  </thead>\n",
       "  <tbody>\n",
       "    <tr>\n",
       "      <td>0</td>\n",
       "      <td>0</td>\n",
       "      <td>3</td>\n",
       "      <td>Braund, Mr. Owen Harris</td>\n",
       "      <td>male</td>\n",
       "      <td>Young</td>\n",
       "      <td>1</td>\n",
       "      <td>0</td>\n",
       "      <td>7.2500</td>\n",
       "      <td>S</td>\n",
       "      <td>Mr</td>\n",
       "      <td>Small_family</td>\n",
       "    </tr>\n",
       "    <tr>\n",
       "      <td>1</td>\n",
       "      <td>1</td>\n",
       "      <td>1</td>\n",
       "      <td>Cumings, Mrs. John Bradley (Florence Briggs Th...</td>\n",
       "      <td>female</td>\n",
       "      <td>30_adult</td>\n",
       "      <td>1</td>\n",
       "      <td>0</td>\n",
       "      <td>71.2833</td>\n",
       "      <td>C</td>\n",
       "      <td>Mrs</td>\n",
       "      <td>Small_family</td>\n",
       "    </tr>\n",
       "    <tr>\n",
       "      <td>2</td>\n",
       "      <td>1</td>\n",
       "      <td>3</td>\n",
       "      <td>Heikkinen, Miss. Laina</td>\n",
       "      <td>female</td>\n",
       "      <td>Young</td>\n",
       "      <td>0</td>\n",
       "      <td>0</td>\n",
       "      <td>7.9250</td>\n",
       "      <td>S</td>\n",
       "      <td>Miss</td>\n",
       "      <td>Single</td>\n",
       "    </tr>\n",
       "    <tr>\n",
       "      <td>3</td>\n",
       "      <td>1</td>\n",
       "      <td>1</td>\n",
       "      <td>Futrelle, Mrs. Jacques Heath (Lily May Peel)</td>\n",
       "      <td>female</td>\n",
       "      <td>30_adult</td>\n",
       "      <td>1</td>\n",
       "      <td>0</td>\n",
       "      <td>53.1000</td>\n",
       "      <td>S</td>\n",
       "      <td>Mrs</td>\n",
       "      <td>Small_family</td>\n",
       "    </tr>\n",
       "    <tr>\n",
       "      <td>4</td>\n",
       "      <td>0</td>\n",
       "      <td>3</td>\n",
       "      <td>Allen, Mr. William Henry</td>\n",
       "      <td>male</td>\n",
       "      <td>30_adult</td>\n",
       "      <td>0</td>\n",
       "      <td>0</td>\n",
       "      <td>8.0500</td>\n",
       "      <td>S</td>\n",
       "      <td>Mr</td>\n",
       "      <td>Single</td>\n",
       "    </tr>\n",
       "    <tr>\n",
       "      <td>5</td>\n",
       "      <td>0</td>\n",
       "      <td>3</td>\n",
       "      <td>Moran, Mr. James</td>\n",
       "      <td>male</td>\n",
       "      <td>Young</td>\n",
       "      <td>0</td>\n",
       "      <td>0</td>\n",
       "      <td>8.4583</td>\n",
       "      <td>Q</td>\n",
       "      <td>Mr</td>\n",
       "      <td>Single</td>\n",
       "    </tr>\n",
       "    <tr>\n",
       "      <td>6</td>\n",
       "      <td>0</td>\n",
       "      <td>1</td>\n",
       "      <td>McCarthy, Mr. Timothy J</td>\n",
       "      <td>male</td>\n",
       "      <td>Elderly</td>\n",
       "      <td>0</td>\n",
       "      <td>0</td>\n",
       "      <td>51.8625</td>\n",
       "      <td>S</td>\n",
       "      <td>Mr</td>\n",
       "      <td>Single</td>\n",
       "    </tr>\n",
       "    <tr>\n",
       "      <td>7</td>\n",
       "      <td>0</td>\n",
       "      <td>3</td>\n",
       "      <td>Palsson, Master. Gosta Leonard</td>\n",
       "      <td>male</td>\n",
       "      <td>Child</td>\n",
       "      <td>3</td>\n",
       "      <td>1</td>\n",
       "      <td>21.0750</td>\n",
       "      <td>S</td>\n",
       "      <td>Master</td>\n",
       "      <td>large_family</td>\n",
       "    </tr>\n",
       "    <tr>\n",
       "      <td>8</td>\n",
       "      <td>1</td>\n",
       "      <td>3</td>\n",
       "      <td>Johnson, Mrs. Oscar W (Elisabeth Vilhelmina Berg)</td>\n",
       "      <td>female</td>\n",
       "      <td>Young</td>\n",
       "      <td>0</td>\n",
       "      <td>2</td>\n",
       "      <td>11.1333</td>\n",
       "      <td>S</td>\n",
       "      <td>Mrs</td>\n",
       "      <td>Small_family</td>\n",
       "    </tr>\n",
       "    <tr>\n",
       "      <td>9</td>\n",
       "      <td>1</td>\n",
       "      <td>2</td>\n",
       "      <td>Nasser, Mrs. Nicholas (Adele Achem)</td>\n",
       "      <td>female</td>\n",
       "      <td>Teen</td>\n",
       "      <td>1</td>\n",
       "      <td>0</td>\n",
       "      <td>30.0708</td>\n",
       "      <td>C</td>\n",
       "      <td>Mrs</td>\n",
       "      <td>Small_family</td>\n",
       "    </tr>\n",
       "  </tbody>\n",
       "</table>\n",
       "</div>"
      ],
      "text/plain": [
       "   Survived  Pclass                                               Name  \\\n",
       "0         0       3                            Braund, Mr. Owen Harris   \n",
       "1         1       1  Cumings, Mrs. John Bradley (Florence Briggs Th...   \n",
       "2         1       3                             Heikkinen, Miss. Laina   \n",
       "3         1       1       Futrelle, Mrs. Jacques Heath (Lily May Peel)   \n",
       "4         0       3                           Allen, Mr. William Henry   \n",
       "5         0       3                                   Moran, Mr. James   \n",
       "6         0       1                            McCarthy, Mr. Timothy J   \n",
       "7         0       3                     Palsson, Master. Gosta Leonard   \n",
       "8         1       3  Johnson, Mrs. Oscar W (Elisabeth Vilhelmina Berg)   \n",
       "9         1       2                Nasser, Mrs. Nicholas (Adele Achem)   \n",
       "\n",
       "      Sex       Age  SibSp  Parch     Fare Embarked   Title       Fam_mem  \n",
       "0    male     Young      1      0   7.2500        S      Mr  Small_family  \n",
       "1  female  30_adult      1      0  71.2833        C     Mrs  Small_family  \n",
       "2  female     Young      0      0   7.9250        S    Miss        Single  \n",
       "3  female  30_adult      1      0  53.1000        S     Mrs  Small_family  \n",
       "4    male  30_adult      0      0   8.0500        S      Mr        Single  \n",
       "5    male     Young      0      0   8.4583        Q      Mr        Single  \n",
       "6    male   Elderly      0      0  51.8625        S      Mr        Single  \n",
       "7    male     Child      3      1  21.0750        S  Master  large_family  \n",
       "8  female     Young      0      2  11.1333        S     Mrs  Small_family  \n",
       "9  female      Teen      1      0  30.0708        C     Mrs  Small_family  "
      ]
     },
     "execution_count": 21,
     "metadata": {},
     "output_type": "execute_result"
    }
   ],
   "source": [
    "train_data.head(10)"
   ]
  },
  {
   "cell_type": "code",
   "execution_count": 22,
   "metadata": {},
   "outputs": [
    {
     "data": {
      "text/plain": [
       "Survived    0\n",
       "Pclass      0\n",
       "Name        0\n",
       "Sex         0\n",
       "Age         0\n",
       "SibSp       0\n",
       "Parch       0\n",
       "Fare        0\n",
       "Embarked    0\n",
       "Title       1\n",
       "Fam_mem     0\n",
       "dtype: int64"
      ]
     },
     "execution_count": 22,
     "metadata": {},
     "output_type": "execute_result"
    }
   ],
   "source": [
    "train_data.isna().sum()"
   ]
  },
  {
   "cell_type": "markdown",
   "metadata": {},
   "source": [
    "And still we have the missing value in title column as we mentioned earlier. We can replace the missing title with the most frequent title in the Title column."
   ]
  },
  {
   "cell_type": "code",
   "execution_count": 23,
   "metadata": {},
   "outputs": [],
   "source": [
    "def most_common(lst):\n",
    "    data=Counter(lst)\n",
    "    return data.most_common(1)[0][0]\n",
    "frequent=most_common(train_data['Title'])"
   ]
  },
  {
   "cell_type": "code",
   "execution_count": 24,
   "metadata": {},
   "outputs": [],
   "source": [
    "train_data['Title'].fillna(frequent,inplace=True)"
   ]
  },
  {
   "cell_type": "code",
   "execution_count": 25,
   "metadata": {},
   "outputs": [
    {
     "data": {
      "text/plain": [
       "array(['Mr', 'Mrs', 'Miss', 'Master', 'Royalty', 'Officer'], dtype=object)"
      ]
     },
     "execution_count": 25,
     "metadata": {},
     "output_type": "execute_result"
    }
   ],
   "source": [
    "train_data['Title'].unique()"
   ]
  },
  {
   "cell_type": "code",
   "execution_count": 26,
   "metadata": {},
   "outputs": [
    {
     "data": {
      "text/html": [
       "<div>\n",
       "<style scoped>\n",
       "    .dataframe tbody tr th:only-of-type {\n",
       "        vertical-align: middle;\n",
       "    }\n",
       "\n",
       "    .dataframe tbody tr th {\n",
       "        vertical-align: top;\n",
       "    }\n",
       "\n",
       "    .dataframe thead th {\n",
       "        text-align: right;\n",
       "    }\n",
       "</style>\n",
       "<table border=\"1\" class=\"dataframe\">\n",
       "  <thead>\n",
       "    <tr style=\"text-align: right;\">\n",
       "      <th></th>\n",
       "      <th>Survived</th>\n",
       "      <th>Pclass</th>\n",
       "      <th>Name</th>\n",
       "      <th>Sex</th>\n",
       "      <th>Age</th>\n",
       "      <th>SibSp</th>\n",
       "      <th>Parch</th>\n",
       "      <th>Fare</th>\n",
       "      <th>Embarked</th>\n",
       "      <th>Title</th>\n",
       "      <th>Fam_mem</th>\n",
       "    </tr>\n",
       "  </thead>\n",
       "  <tbody>\n",
       "    <tr>\n",
       "      <td>0</td>\n",
       "      <td>0</td>\n",
       "      <td>3</td>\n",
       "      <td>Braund, Mr. Owen Harris</td>\n",
       "      <td>male</td>\n",
       "      <td>Young</td>\n",
       "      <td>1</td>\n",
       "      <td>0</td>\n",
       "      <td>7.2500</td>\n",
       "      <td>S</td>\n",
       "      <td>Mr</td>\n",
       "      <td>Small_family</td>\n",
       "    </tr>\n",
       "    <tr>\n",
       "      <td>1</td>\n",
       "      <td>1</td>\n",
       "      <td>1</td>\n",
       "      <td>Cumings, Mrs. John Bradley (Florence Briggs Th...</td>\n",
       "      <td>female</td>\n",
       "      <td>30_adult</td>\n",
       "      <td>1</td>\n",
       "      <td>0</td>\n",
       "      <td>71.2833</td>\n",
       "      <td>C</td>\n",
       "      <td>Mrs</td>\n",
       "      <td>Small_family</td>\n",
       "    </tr>\n",
       "    <tr>\n",
       "      <td>2</td>\n",
       "      <td>1</td>\n",
       "      <td>3</td>\n",
       "      <td>Heikkinen, Miss. Laina</td>\n",
       "      <td>female</td>\n",
       "      <td>Young</td>\n",
       "      <td>0</td>\n",
       "      <td>0</td>\n",
       "      <td>7.9250</td>\n",
       "      <td>S</td>\n",
       "      <td>Miss</td>\n",
       "      <td>Single</td>\n",
       "    </tr>\n",
       "    <tr>\n",
       "      <td>3</td>\n",
       "      <td>1</td>\n",
       "      <td>1</td>\n",
       "      <td>Futrelle, Mrs. Jacques Heath (Lily May Peel)</td>\n",
       "      <td>female</td>\n",
       "      <td>30_adult</td>\n",
       "      <td>1</td>\n",
       "      <td>0</td>\n",
       "      <td>53.1000</td>\n",
       "      <td>S</td>\n",
       "      <td>Mrs</td>\n",
       "      <td>Small_family</td>\n",
       "    </tr>\n",
       "    <tr>\n",
       "      <td>4</td>\n",
       "      <td>0</td>\n",
       "      <td>3</td>\n",
       "      <td>Allen, Mr. William Henry</td>\n",
       "      <td>male</td>\n",
       "      <td>30_adult</td>\n",
       "      <td>0</td>\n",
       "      <td>0</td>\n",
       "      <td>8.0500</td>\n",
       "      <td>S</td>\n",
       "      <td>Mr</td>\n",
       "      <td>Single</td>\n",
       "    </tr>\n",
       "    <tr>\n",
       "      <td>5</td>\n",
       "      <td>0</td>\n",
       "      <td>3</td>\n",
       "      <td>Moran, Mr. James</td>\n",
       "      <td>male</td>\n",
       "      <td>Young</td>\n",
       "      <td>0</td>\n",
       "      <td>0</td>\n",
       "      <td>8.4583</td>\n",
       "      <td>Q</td>\n",
       "      <td>Mr</td>\n",
       "      <td>Single</td>\n",
       "    </tr>\n",
       "    <tr>\n",
       "      <td>6</td>\n",
       "      <td>0</td>\n",
       "      <td>1</td>\n",
       "      <td>McCarthy, Mr. Timothy J</td>\n",
       "      <td>male</td>\n",
       "      <td>Elderly</td>\n",
       "      <td>0</td>\n",
       "      <td>0</td>\n",
       "      <td>51.8625</td>\n",
       "      <td>S</td>\n",
       "      <td>Mr</td>\n",
       "      <td>Single</td>\n",
       "    </tr>\n",
       "    <tr>\n",
       "      <td>7</td>\n",
       "      <td>0</td>\n",
       "      <td>3</td>\n",
       "      <td>Palsson, Master. Gosta Leonard</td>\n",
       "      <td>male</td>\n",
       "      <td>Child</td>\n",
       "      <td>3</td>\n",
       "      <td>1</td>\n",
       "      <td>21.0750</td>\n",
       "      <td>S</td>\n",
       "      <td>Master</td>\n",
       "      <td>large_family</td>\n",
       "    </tr>\n",
       "    <tr>\n",
       "      <td>8</td>\n",
       "      <td>1</td>\n",
       "      <td>3</td>\n",
       "      <td>Johnson, Mrs. Oscar W (Elisabeth Vilhelmina Berg)</td>\n",
       "      <td>female</td>\n",
       "      <td>Young</td>\n",
       "      <td>0</td>\n",
       "      <td>2</td>\n",
       "      <td>11.1333</td>\n",
       "      <td>S</td>\n",
       "      <td>Mrs</td>\n",
       "      <td>Small_family</td>\n",
       "    </tr>\n",
       "    <tr>\n",
       "      <td>9</td>\n",
       "      <td>1</td>\n",
       "      <td>2</td>\n",
       "      <td>Nasser, Mrs. Nicholas (Adele Achem)</td>\n",
       "      <td>female</td>\n",
       "      <td>Teen</td>\n",
       "      <td>1</td>\n",
       "      <td>0</td>\n",
       "      <td>30.0708</td>\n",
       "      <td>C</td>\n",
       "      <td>Mrs</td>\n",
       "      <td>Small_family</td>\n",
       "    </tr>\n",
       "  </tbody>\n",
       "</table>\n",
       "</div>"
      ],
      "text/plain": [
       "   Survived  Pclass                                               Name  \\\n",
       "0         0       3                            Braund, Mr. Owen Harris   \n",
       "1         1       1  Cumings, Mrs. John Bradley (Florence Briggs Th...   \n",
       "2         1       3                             Heikkinen, Miss. Laina   \n",
       "3         1       1       Futrelle, Mrs. Jacques Heath (Lily May Peel)   \n",
       "4         0       3                           Allen, Mr. William Henry   \n",
       "5         0       3                                   Moran, Mr. James   \n",
       "6         0       1                            McCarthy, Mr. Timothy J   \n",
       "7         0       3                     Palsson, Master. Gosta Leonard   \n",
       "8         1       3  Johnson, Mrs. Oscar W (Elisabeth Vilhelmina Berg)   \n",
       "9         1       2                Nasser, Mrs. Nicholas (Adele Achem)   \n",
       "\n",
       "      Sex       Age  SibSp  Parch     Fare Embarked   Title       Fam_mem  \n",
       "0    male     Young      1      0   7.2500        S      Mr  Small_family  \n",
       "1  female  30_adult      1      0  71.2833        C     Mrs  Small_family  \n",
       "2  female     Young      0      0   7.9250        S    Miss        Single  \n",
       "3  female  30_adult      1      0  53.1000        S     Mrs  Small_family  \n",
       "4    male  30_adult      0      0   8.0500        S      Mr        Single  \n",
       "5    male     Young      0      0   8.4583        Q      Mr        Single  \n",
       "6    male   Elderly      0      0  51.8625        S      Mr        Single  \n",
       "7    male     Child      3      1  21.0750        S  Master  large_family  \n",
       "8  female     Young      0      2  11.1333        S     Mrs  Small_family  \n",
       "9  female      Teen      1      0  30.0708        C     Mrs  Small_family  "
      ]
     },
     "execution_count": 26,
     "metadata": {},
     "output_type": "execute_result"
    }
   ],
   "source": [
    "train_data.head(10)"
   ]
  },
  {
   "cell_type": "markdown",
   "metadata": {},
   "source": [
    "Now we done with cleaning work let's convert the categorical columns like Sex,Age,Embarked,Title,Fam_mem to Ordinal Values which will be very usefull for going ahead with visualization."
   ]
  },
  {
   "cell_type": "code",
   "execution_count": 27,
   "metadata": {},
   "outputs": [],
   "source": [
    "oe=OrdinalEncoder()\n",
    "train_data[['Embarked','Sex','Age','Title','Fam_mem']]=oe.fit_transform(train_data[['Embarked','Sex','Age','Title','Fam_mem']])"
   ]
  },
  {
   "cell_type": "code",
   "execution_count": 28,
   "metadata": {},
   "outputs": [
    {
     "data": {
      "text/html": [
       "<div>\n",
       "<style scoped>\n",
       "    .dataframe tbody tr th:only-of-type {\n",
       "        vertical-align: middle;\n",
       "    }\n",
       "\n",
       "    .dataframe tbody tr th {\n",
       "        vertical-align: top;\n",
       "    }\n",
       "\n",
       "    .dataframe thead th {\n",
       "        text-align: right;\n",
       "    }\n",
       "</style>\n",
       "<table border=\"1\" class=\"dataframe\">\n",
       "  <thead>\n",
       "    <tr style=\"text-align: right;\">\n",
       "      <th></th>\n",
       "      <th>Survived</th>\n",
       "      <th>Pclass</th>\n",
       "      <th>Name</th>\n",
       "      <th>Sex</th>\n",
       "      <th>Age</th>\n",
       "      <th>SibSp</th>\n",
       "      <th>Parch</th>\n",
       "      <th>Fare</th>\n",
       "      <th>Embarked</th>\n",
       "      <th>Title</th>\n",
       "      <th>Fam_mem</th>\n",
       "    </tr>\n",
       "  </thead>\n",
       "  <tbody>\n",
       "    <tr>\n",
       "      <td>0</td>\n",
       "      <td>0</td>\n",
       "      <td>3</td>\n",
       "      <td>Braund, Mr. Owen Harris</td>\n",
       "      <td>1.0</td>\n",
       "      <td>5.0</td>\n",
       "      <td>1</td>\n",
       "      <td>0</td>\n",
       "      <td>7.2500</td>\n",
       "      <td>2.0</td>\n",
       "      <td>2.0</td>\n",
       "      <td>1.0</td>\n",
       "    </tr>\n",
       "    <tr>\n",
       "      <td>1</td>\n",
       "      <td>1</td>\n",
       "      <td>1</td>\n",
       "      <td>Cumings, Mrs. John Bradley (Florence Briggs Th...</td>\n",
       "      <td>0.0</td>\n",
       "      <td>0.0</td>\n",
       "      <td>1</td>\n",
       "      <td>0</td>\n",
       "      <td>71.2833</td>\n",
       "      <td>0.0</td>\n",
       "      <td>3.0</td>\n",
       "      <td>1.0</td>\n",
       "    </tr>\n",
       "    <tr>\n",
       "      <td>2</td>\n",
       "      <td>1</td>\n",
       "      <td>3</td>\n",
       "      <td>Heikkinen, Miss. Laina</td>\n",
       "      <td>0.0</td>\n",
       "      <td>5.0</td>\n",
       "      <td>0</td>\n",
       "      <td>0</td>\n",
       "      <td>7.9250</td>\n",
       "      <td>2.0</td>\n",
       "      <td>1.0</td>\n",
       "      <td>0.0</td>\n",
       "    </tr>\n",
       "    <tr>\n",
       "      <td>3</td>\n",
       "      <td>1</td>\n",
       "      <td>1</td>\n",
       "      <td>Futrelle, Mrs. Jacques Heath (Lily May Peel)</td>\n",
       "      <td>0.0</td>\n",
       "      <td>0.0</td>\n",
       "      <td>1</td>\n",
       "      <td>0</td>\n",
       "      <td>53.1000</td>\n",
       "      <td>2.0</td>\n",
       "      <td>3.0</td>\n",
       "      <td>1.0</td>\n",
       "    </tr>\n",
       "    <tr>\n",
       "      <td>4</td>\n",
       "      <td>0</td>\n",
       "      <td>3</td>\n",
       "      <td>Allen, Mr. William Henry</td>\n",
       "      <td>1.0</td>\n",
       "      <td>0.0</td>\n",
       "      <td>0</td>\n",
       "      <td>0</td>\n",
       "      <td>8.0500</td>\n",
       "      <td>2.0</td>\n",
       "      <td>2.0</td>\n",
       "      <td>0.0</td>\n",
       "    </tr>\n",
       "    <tr>\n",
       "      <td>5</td>\n",
       "      <td>0</td>\n",
       "      <td>3</td>\n",
       "      <td>Moran, Mr. James</td>\n",
       "      <td>1.0</td>\n",
       "      <td>5.0</td>\n",
       "      <td>0</td>\n",
       "      <td>0</td>\n",
       "      <td>8.4583</td>\n",
       "      <td>1.0</td>\n",
       "      <td>2.0</td>\n",
       "      <td>0.0</td>\n",
       "    </tr>\n",
       "    <tr>\n",
       "      <td>6</td>\n",
       "      <td>0</td>\n",
       "      <td>1</td>\n",
       "      <td>McCarthy, Mr. Timothy J</td>\n",
       "      <td>1.0</td>\n",
       "      <td>3.0</td>\n",
       "      <td>0</td>\n",
       "      <td>0</td>\n",
       "      <td>51.8625</td>\n",
       "      <td>2.0</td>\n",
       "      <td>2.0</td>\n",
       "      <td>0.0</td>\n",
       "    </tr>\n",
       "    <tr>\n",
       "      <td>7</td>\n",
       "      <td>0</td>\n",
       "      <td>3</td>\n",
       "      <td>Palsson, Master. Gosta Leonard</td>\n",
       "      <td>1.0</td>\n",
       "      <td>2.0</td>\n",
       "      <td>3</td>\n",
       "      <td>1</td>\n",
       "      <td>21.0750</td>\n",
       "      <td>2.0</td>\n",
       "      <td>0.0</td>\n",
       "      <td>2.0</td>\n",
       "    </tr>\n",
       "    <tr>\n",
       "      <td>8</td>\n",
       "      <td>1</td>\n",
       "      <td>3</td>\n",
       "      <td>Johnson, Mrs. Oscar W (Elisabeth Vilhelmina Berg)</td>\n",
       "      <td>0.0</td>\n",
       "      <td>5.0</td>\n",
       "      <td>0</td>\n",
       "      <td>2</td>\n",
       "      <td>11.1333</td>\n",
       "      <td>2.0</td>\n",
       "      <td>3.0</td>\n",
       "      <td>1.0</td>\n",
       "    </tr>\n",
       "    <tr>\n",
       "      <td>9</td>\n",
       "      <td>1</td>\n",
       "      <td>2</td>\n",
       "      <td>Nasser, Mrs. Nicholas (Adele Achem)</td>\n",
       "      <td>0.0</td>\n",
       "      <td>4.0</td>\n",
       "      <td>1</td>\n",
       "      <td>0</td>\n",
       "      <td>30.0708</td>\n",
       "      <td>0.0</td>\n",
       "      <td>3.0</td>\n",
       "      <td>1.0</td>\n",
       "    </tr>\n",
       "  </tbody>\n",
       "</table>\n",
       "</div>"
      ],
      "text/plain": [
       "   Survived  Pclass                                               Name  Sex  \\\n",
       "0         0       3                            Braund, Mr. Owen Harris  1.0   \n",
       "1         1       1  Cumings, Mrs. John Bradley (Florence Briggs Th...  0.0   \n",
       "2         1       3                             Heikkinen, Miss. Laina  0.0   \n",
       "3         1       1       Futrelle, Mrs. Jacques Heath (Lily May Peel)  0.0   \n",
       "4         0       3                           Allen, Mr. William Henry  1.0   \n",
       "5         0       3                                   Moran, Mr. James  1.0   \n",
       "6         0       1                            McCarthy, Mr. Timothy J  1.0   \n",
       "7         0       3                     Palsson, Master. Gosta Leonard  1.0   \n",
       "8         1       3  Johnson, Mrs. Oscar W (Elisabeth Vilhelmina Berg)  0.0   \n",
       "9         1       2                Nasser, Mrs. Nicholas (Adele Achem)  0.0   \n",
       "\n",
       "   Age  SibSp  Parch     Fare  Embarked  Title  Fam_mem  \n",
       "0  5.0      1      0   7.2500       2.0    2.0      1.0  \n",
       "1  0.0      1      0  71.2833       0.0    3.0      1.0  \n",
       "2  5.0      0      0   7.9250       2.0    1.0      0.0  \n",
       "3  0.0      1      0  53.1000       2.0    3.0      1.0  \n",
       "4  0.0      0      0   8.0500       2.0    2.0      0.0  \n",
       "5  5.0      0      0   8.4583       1.0    2.0      0.0  \n",
       "6  3.0      0      0  51.8625       2.0    2.0      0.0  \n",
       "7  2.0      3      1  21.0750       2.0    0.0      2.0  \n",
       "8  5.0      0      2  11.1333       2.0    3.0      1.0  \n",
       "9  4.0      1      0  30.0708       0.0    3.0      1.0  "
      ]
     },
     "execution_count": 28,
     "metadata": {},
     "output_type": "execute_result"
    }
   ],
   "source": [
    "train_data.head(10)"
   ]
  },
  {
   "cell_type": "markdown",
   "metadata": {},
   "source": [
    "Done with the all the preprocessing and cleaning part let's visualize it to get some insights."
   ]
  },
  {
   "cell_type": "markdown",
   "metadata": {},
   "source": [
    "# 3.Visualizing"
   ]
  },
  {
   "cell_type": "markdown",
   "metadata": {},
   "source": [
    "Let us first get the histogram of the data."
   ]
  },
  {
   "cell_type": "code",
   "execution_count": 29,
   "metadata": {},
   "outputs": [
    {
     "data": {
      "text/plain": [
       "array([[<matplotlib.axes._subplots.AxesSubplot object at 0x0000019A563F4348>,\n",
       "        <matplotlib.axes._subplots.AxesSubplot object at 0x0000019A566A0C48>,\n",
       "        <matplotlib.axes._subplots.AxesSubplot object at 0x0000019A566DB3C8>],\n",
       "       [<matplotlib.axes._subplots.AxesSubplot object at 0x0000019A56702248>,\n",
       "        <matplotlib.axes._subplots.AxesSubplot object at 0x0000019A56740E88>,\n",
       "        <matplotlib.axes._subplots.AxesSubplot object at 0x0000019A56778C08>],\n",
       "       [<matplotlib.axes._subplots.AxesSubplot object at 0x0000019A567A1A88>,\n",
       "        <matplotlib.axes._subplots.AxesSubplot object at 0x0000019A567E3708>,\n",
       "        <matplotlib.axes._subplots.AxesSubplot object at 0x0000019A567EC588>],\n",
       "       [<matplotlib.axes._subplots.AxesSubplot object at 0x0000019A568224C8>,\n",
       "        <matplotlib.axes._subplots.AxesSubplot object at 0x0000019A56888048>,\n",
       "        <matplotlib.axes._subplots.AxesSubplot object at 0x0000019A568BE248>]],\n",
       "      dtype=object)"
      ]
     },
     "execution_count": 29,
     "metadata": {},
     "output_type": "execute_result"
    },
    {
     "data": {
      "image/png": "[encoded data removed]",
      "text/plain": [
       "<Figure size 1440x1080 with 12 Axes>"
      ]
     },
     "metadata": {
      "needs_background": "light"
     },
     "output_type": "display_data"
    }
   ],
   "source": [
    "train_data.hist(bins=10,figsize=(20,15))"
   ]
  },
  {
   "cell_type": "markdown",
   "metadata": {},
   "source": [
    "Let us check the correlation of each numerical data against the Survived column to see how far each feature contribute to our prediction."
   ]
  },
  {
   "cell_type": "code",
   "execution_count": 30,
   "metadata": {},
   "outputs": [
    {
     "data": {
      "text/plain": [
       "Survived    1.000000\n",
       "Fare        0.257307\n",
       "Fam_mem     0.108631\n",
       "Parch       0.081629\n",
       "SibSp      -0.035322\n",
       "Title      -0.068776\n",
       "Age        -0.096371\n",
       "Embarked   -0.167675\n",
       "Pclass     -0.338481\n",
       "Sex        -0.543351\n",
       "Name: Survived, dtype: float64"
      ]
     },
     "execution_count": 30,
     "metadata": {},
     "output_type": "execute_result"
    }
   ],
   "source": [
    "corr_mat=train_data.corr()\n",
    "corr_mat['Survived'].sort_values(ascending=False)"
   ]
  },
  {
   "cell_type": "markdown",
   "metadata": {},
   "source": [
    "Seems that the feature Sex contribute a lot than others in negative way. This shows that greater the value lesser the survival rate. In Sex feature male is given as 1 and female is given as 0. When the value of feature 'Sex' is '1' the possibility of survival is '0'(i.e If it is a 'male' passenger the probability that he survived is 'low'). Fare feature has given positive correlation. Let us visualize the important correlators in graphical form."
   ]
  },
  {
   "cell_type": "code",
   "execution_count": 31,
   "metadata": {},
   "outputs": [
    {
     "data": {
      "text/plain": [
       "array([[<matplotlib.axes._subplots.AxesSubplot object at 0x0000019A5725CF48>,\n",
       "        <matplotlib.axes._subplots.AxesSubplot object at 0x0000019A56A61588>,\n",
       "        <matplotlib.axes._subplots.AxesSubplot object at 0x0000019A56A7FD08>,\n",
       "        <matplotlib.axes._subplots.AxesSubplot object at 0x0000019A56AB8708>,\n",
       "        <matplotlib.axes._subplots.AxesSubplot object at 0x0000019A56AF1108>],\n",
       "       [<matplotlib.axes._subplots.AxesSubplot object at 0x0000019A56B28A48>,\n",
       "        <matplotlib.axes._subplots.AxesSubplot object at 0x0000019A56B509C8>,\n",
       "        <matplotlib.axes._subplots.AxesSubplot object at 0x0000019A56B99A88>,\n",
       "        <matplotlib.axes._subplots.AxesSubplot object at 0x0000019A56BA5648>,\n",
       "        <matplotlib.axes._subplots.AxesSubplot object at 0x0000019A56BDD808>],\n",
       "       [<matplotlib.axes._subplots.AxesSubplot object at 0x0000019A56C42DC8>,\n",
       "        <matplotlib.axes._subplots.AxesSubplot object at 0x0000019A56C7BE88>,\n",
       "        <matplotlib.axes._subplots.AxesSubplot object at 0x0000019A56CB3FC8>,\n",
       "        <matplotlib.axes._subplots.AxesSubplot object at 0x0000019A56CF1108>,\n",
       "        <matplotlib.axes._subplots.AxesSubplot object at 0x0000019A56D2A208>],\n",
       "       [<matplotlib.axes._subplots.AxesSubplot object at 0x0000019A56D62348>,\n",
       "        <matplotlib.axes._subplots.AxesSubplot object at 0x0000019A56D9C3C8>,\n",
       "        <matplotlib.axes._subplots.AxesSubplot object at 0x0000019A56DD54C8>,\n",
       "        <matplotlib.axes._subplots.AxesSubplot object at 0x0000019A56E0D5C8>,\n",
       "        <matplotlib.axes._subplots.AxesSubplot object at 0x0000019A56E46708>],\n",
       "       [<matplotlib.axes._subplots.AxesSubplot object at 0x0000019A56E7F808>,\n",
       "        <matplotlib.axes._subplots.AxesSubplot object at 0x0000019A56EB68C8>,\n",
       "        <matplotlib.axes._subplots.AxesSubplot object at 0x0000019A56EEFA08>,\n",
       "        <matplotlib.axes._subplots.AxesSubplot object at 0x0000019A56F27B08>,\n",
       "        <matplotlib.axes._subplots.AxesSubplot object at 0x0000019A56F60C08>]],\n",
       "      dtype=object)"
      ]
     },
     "execution_count": 31,
     "metadata": {},
     "output_type": "execute_result"
    },
    {
     "data": {
      "image/png": "[encoded data removed]",
      "text/plain": [
       "<Figure size 1080x720 with 25 Axes>"
      ]
     },
     "metadata": {
      "needs_background": "light"
     },
     "output_type": "display_data"
    }
   ],
   "source": [
    "attributes=['Survived','Fare','Embarked','Pclass','Sex']\n",
    "scatter_matrix(train_data[attributes],figsize=(15,10),alpha=0.1)"
   ]
  },
  {
   "cell_type": "code",
   "execution_count": 32,
   "metadata": {},
   "outputs": [
    {
     "data": {
      "text/plain": [
       "<matplotlib.collections.PathCollection at 0x19a57c15448>"
      ]
     },
     "execution_count": 32,
     "metadata": {},
     "output_type": "execute_result"
    },
    {
     "data": {
      "image/png": "[encoded data removed]",
      "text/plain": [
       "<Figure size 432x288 with 1 Axes>"
      ]
     },
     "metadata": {
      "needs_background": "light"
     },
     "output_type": "display_data"
    }
   ],
   "source": [
    "plt.scatter(train_data.iloc[:,1],train_data.iloc[:,3],c=train_data.iloc[:,0],s=50,cmap='RdBu')"
   ]
  },
  {
   "cell_type": "markdown",
   "metadata": {},
   "source": [
    "Since it is a classification typed problem we couldn't get a good insight. But we could make a better visualization with bar and pie charts."
   ]
  },
  {
   "cell_type": "markdown",
   "metadata": {},
   "source": [
    "Let's visualise the ratio of survivability of men to women."
   ]
  },
  {
   "cell_type": "code",
   "execution_count": 33,
   "metadata": {},
   "outputs": [],
   "source": [
    "men_survived_truth=(((train_data['Sex']==1)&(train_data['Survived']==1)))\n",
    "men_death_truth=(((train_data['Sex']==1)&(train_data['Survived']==0)))\n",
    "women_survived_truth=(((train_data['Sex']==0)&(train_data['Survived']==1)))\n",
    "women_death_truth=(((train_data['Sex']==0)&(train_data['Survived']==0)))\n",
    "men_survived=men_survived_truth.value_counts()\n",
    "men_death=men_death_truth.value_counts()\n",
    "women_survived=women_survived_truth.value_counts()\n",
    "women_death=women_death_truth.value_counts()\n",
    "men=[men_survived[1],men_death[1]]\n",
    "women=[women_survived[1],women_death[1]]"
   ]
  },
  {
   "cell_type": "code",
   "execution_count": 34,
   "metadata": {},
   "outputs": [
    {
     "name": "stdout",
     "output_type": "stream",
     "text": [
      "[18.890814558058924, 81.10918544194108]\n",
      "[74.20382165605095, 25.796178343949045]\n"
     ]
    }
   ],
   "source": [
    "men_ratio=[(men[0]/(men[0]+men[1]))*100,(men[1]/(men[0]+men[1]))*100]\n",
    "print(men_ratio)\n",
    "women_ratio=[(women[0]/(women[0]+women[1]))*100,(women[1]/(women[0]+women[1]))*100]\n",
    "print(women_ratio)"
   ]
  },
  {
   "cell_type": "code",
   "execution_count": 35,
   "metadata": {},
   "outputs": [
    {
     "data": {
      "text/plain": [
       "Text(0.5, 1.0, 'Women Ratio')"
      ]
     },
     "execution_count": 35,
     "metadata": {},
     "output_type": "execute_result"
    },
    {
     "data": {
      "image/png": "[encoded data removed]",
      "text/plain": [
       "<Figure size 1080x720 with 2 Axes>"
      ]
     },
     "metadata": {},
     "output_type": "display_data"
    }
   ],
   "source": [
    "fig,ax=plt.subplots(1,2,figsize=(15,10))\n",
    "explode=(0.1,0)\n",
    "ax[0].pie(men_ratio,explode=explode,labels=['Survivors','Deaths'],autopct='%1.2f%%',shadow=True,startangle=90)\n",
    "ax[0].set_title('Men Ratio')\n",
    "ax[1].pie(women_ratio,explode=explode,labels=['Survivors','Deaths'],autopct='%1.2f%%',shadow=True,startangle=90)\n",
    "ax[1].set_title('Women Ratio')"
   ]
  },
  {
   "cell_type": "markdown",
   "metadata": {},
   "source": [
    "It is clear that lot of men lost their life in this tragedy and lot of women suvived this tragedy."
   ]
  },
  {
   "cell_type": "markdown",
   "metadata": {},
   "source": [
    "Let us visualize how many men and women in each class managed to survive."
   ]
  },
  {
   "cell_type": "code",
   "execution_count": 36,
   "metadata": {},
   "outputs": [],
   "source": [
    "men_survivors=[]\n",
    "men_death=[]\n",
    "for i in range(1,4):\n",
    "    Pclassmen_survived_truth=(((train_data['Sex']==1)&(train_data['Survived']==1)&(train_data['Pclass']==i)))\n",
    "    Pclassmen_death_truth=(((train_data['Sex']==1)&(train_data['Survived']==0)&(train_data['Pclass']==i)))\n",
    "    pclassmen_survivors=Pclassmen_survived_truth.value_counts()\n",
    "    pclassmen_deaths=Pclassmen_death_truth.value_counts()\n",
    "    men_survivors.append(pclassmen_survivors[1])\n",
    "    men_death.append(pclassmen_deaths[1])\n",
    "men=[men_survivors,men_death]"
   ]
  },
  {
   "cell_type": "code",
   "execution_count": 37,
   "metadata": {},
   "outputs": [],
   "source": [
    "women_survivors=[]\n",
    "women_death=[]\n",
    "for i in range(1,4):\n",
    "    Pclasswomen_survived_truth=(((train_data['Sex']==0)&(train_data['Survived']==1)&(train_data['Pclass']==i)))\n",
    "    Pclasswomen_death_truth=(((train_data['Sex']==0)&(train_data['Survived']==0)&(train_data['Pclass']==i)))\n",
    "    pclasswomen_survivors=Pclasswomen_survived_truth.value_counts()\n",
    "    pclasswomen_deaths=Pclasswomen_death_truth.value_counts()\n",
    "    women_survivors.append(pclasswomen_survivors[1])\n",
    "    women_death.append(pclasswomen_deaths[1])\n",
    "women=[women_survivors,women_death]"
   ]
  },
  {
   "cell_type": "code",
   "execution_count": 38,
   "metadata": {},
   "outputs": [
    {
     "name": "stdout",
     "output_type": "stream",
     "text": [
      "[[45, 17, 47], [77, 91, 300]]\n",
      "[[91, 70, 72], [3, 6, 72]]\n"
     ]
    }
   ],
   "source": [
    "print(men)\n",
    "print(women)"
   ]
  },
  {
   "cell_type": "code",
   "execution_count": 39,
   "metadata": {},
   "outputs": [
    {
     "data": {
      "image/png": "[encoded data removed]",
      "text/plain": [
       "<Figure size 1080x720 with 2 Axes>"
      ]
     },
     "metadata": {
      "needs_background": "light"
     },
     "output_type": "display_data"
    }
   ],
   "source": [
    "fig,ax=plt.subplots(1,2,figsize=(15,10))\n",
    "sur_death=['Survived','Death']\n",
    "width=0.5\n",
    "for i,axi in enumerate(ax.flat):\n",
    "    N=3\n",
    "    ind=[x for x in np.arange(1,N+1)]\n",
    "    axi.bar(ind,women[i],width,label='Women',bottom=men[i],color='Pink')\n",
    "    axi.bar(ind,men[i],width,label='Men',color='Blue')\n",
    "    axi.set_xticklabels(['0','Pclass 1','','Pclass 2','','Pclass 3'])\n",
    "    axi.set_title(sur_death[i])\n",
    "    axi.legend()"
   ]
  },
  {
   "cell_type": "markdown",
   "metadata": {},
   "source": [
    "It's clearly evident that almost all women from Pclass1 and Pclass2 managed to survive."
   ]
  },
  {
   "cell_type": "code",
   "execution_count": 40,
   "metadata": {},
   "outputs": [
    {
     "data": {
      "text/plain": [
       "<seaborn.axisgrid.PairGrid at 0x19a57e6f8c8>"
      ]
     },
     "execution_count": 40,
     "metadata": {},
     "output_type": "execute_result"
    },
    {
     "data": {
      "image/png": "[encoded data removed]",
      "text/plain": [
       "<Figure size 1800x1800 with 110 Axes>"
      ]
     },
     "metadata": {
      "needs_background": "light"
     },
     "output_type": "display_data"
    }
   ],
   "source": [
    "sns.pairplot(train_data)"
   ]
  },
  {
   "cell_type": "markdown",
   "metadata": {},
   "source": [
    "Pair plot doesn't give a clear intution. Let's predict the survivability with respect to titles."
   ]
  },
  {
   "cell_type": "code",
   "execution_count": 41,
   "metadata": {},
   "outputs": [
    {
     "data": {
      "text/plain": [
       "[[23, 129, 82, 101, 5, 2], [17, 55, 436, 26, 13, 2]]"
      ]
     },
     "execution_count": 41,
     "metadata": {},
     "output_type": "execute_result"
    }
   ],
   "source": [
    "survivors=[]\n",
    "death=[]\n",
    "for i in range(0,6):\n",
    "    title_survived_truth=(((train_data['Survived']==1)&(train_data['Title']==i)))\n",
    "    title_death_truth=(((train_data['Survived']==0)&(train_data['Title']==i)))\n",
    "    title_survived=title_survived_truth.value_counts()\n",
    "    title_death=title_death_truth.value_counts()\n",
    "    survivors.append(title_survived[1])\n",
    "    death.append(title_death[1])\n",
    "title_sur_death=[survivors,death]\n",
    "title_sur_death"
   ]
  },
  {
   "cell_type": "code",
   "execution_count": 42,
   "metadata": {},
   "outputs": [
    {
     "data": {
      "text/plain": [
       "[array(['C', 'Q', 'S'], dtype=object),\n",
       " array(['female', 'male'], dtype=object),\n",
       " array(['30_adult', '40_adult', 'Child', 'Elderly', 'Teen', 'Young'],\n",
       "       dtype=object),\n",
       " array(['Master', 'Miss', 'Mr', 'Mrs', 'Officer', 'Royalty'], dtype=object),\n",
       " array(['Single', 'Small_family', 'large_family'], dtype=object)]"
      ]
     },
     "execution_count": 42,
     "metadata": {},
     "output_type": "execute_result"
    }
   ],
   "source": [
    "oe.categories_"
   ]
  },
  {
   "cell_type": "code",
   "execution_count": 43,
   "metadata": {},
   "outputs": [
    {
     "data": {
      "image/png": "[encoded data removed]",
      "text/plain": [
       "<Figure size 1080x720 with 2 Axes>"
      ]
     },
     "metadata": {
      "needs_background": "light"
     },
     "output_type": "display_data"
    }
   ],
   "source": [
    "fig,ax=plt.subplots(1,2,figsize=(15,10))\n",
    "to_plot=[survivors,death]\n",
    "name=['Survivors','Deaths']\n",
    "color=['green','red']\n",
    "for i,axi in enumerate(ax.flat):\n",
    "    N=6\n",
    "    ind=[x for x in np.arange(1,N+1)]\n",
    "    axi.bar(ind,to_plot[i],width,label=('{}'.format(name[i])),color=color[i])\n",
    "    axi.set_xticklabels(['0','Master','Miss','Mr','Mrs','Officer','Royalty'])\n",
    "    axi.set_title('{} on basis of Title'.format(name[i]))\n",
    "    axi.legend()"
   ]
  },
  {
   "cell_type": "markdown",
   "metadata": {},
   "source": [
    "It seems Mr are very unfortunate."
   ]
  },
  {
   "cell_type": "markdown",
   "metadata": {},
   "source": [
    "Let us visualize the survivability based on Age."
   ]
  },
  {
   "cell_type": "code",
   "execution_count": 44,
   "metadata": {},
   "outputs": [
    {
     "data": {
      "text/plain": [
       "[[69, 33, 40, 22, 42, 136], [86, 53, 29, 42, 68, 271]]"
      ]
     },
     "execution_count": 44,
     "metadata": {},
     "output_type": "execute_result"
    }
   ],
   "source": [
    "survivors=[]\n",
    "death=[]\n",
    "for i in range(0,6):\n",
    "    age_survived_truth=(((train_data['Survived']==1)&(train_data['Age']==i)))\n",
    "    age_death_truth=(((train_data['Survived']==0)&(train_data['Age']==i)))\n",
    "    age_survived=age_survived_truth.value_counts()\n",
    "    age_death=age_death_truth.value_counts()\n",
    "    survivors.append(age_survived[1])\n",
    "    death.append(age_death[1])\n",
    "age_sur_death=[survivors,death]\n",
    "age_sur_death"
   ]
  },
  {
   "cell_type": "code",
   "execution_count": 45,
   "metadata": {},
   "outputs": [
    {
     "data": {
      "image/png": "[encoded data removed]",
      "text/plain": [
       "<Figure size 1080x720 with 2 Axes>"
      ]
     },
     "metadata": {
      "needs_background": "light"
     },
     "output_type": "display_data"
    }
   ],
   "source": [
    "fig,ax=plt.subplots(1,2,figsize=(15,10))\n",
    "to_plot=[survivors,death]\n",
    "name=['Survivors','Deaths']\n",
    "color=['green','red']\n",
    "for i,axi in enumerate(ax.flat):\n",
    "    N=6\n",
    "    ind=[x for x in np.arange(1,N+1)]\n",
    "    axi.bar(ind,to_plot[i],width,label=('{}'.format(name[i])),color=color[i])\n",
    "    axi.set_xticklabels(['0','30_adult','40_adult','Child','Elderly','Teen','Young'])\n",
    "    axi.set_title('{} on basis of Age'.format(name[i]))\n",
    "    axi.legend()"
   ]
  },
  {
   "cell_type": "markdown",
   "metadata": {},
   "source": [
    "We may have heard that most children were saved but the data shows that about 30 children died in this tragedy. So sad...."
   ]
  },
  {
   "cell_type": "markdown",
   "metadata": {},
   "source": [
    "Let's visualize on survivability basis of embarked places"
   ]
  },
  {
   "cell_type": "code",
   "execution_count": 46,
   "metadata": {},
   "outputs": [
    {
     "data": {
      "text/plain": [
       "[[93, 30, 219], [75, 47, 427]]"
      ]
     },
     "execution_count": 46,
     "metadata": {},
     "output_type": "execute_result"
    }
   ],
   "source": [
    "embarked_survivor=[]\n",
    "embarked_death=[]\n",
    "for i in range(3):\n",
    "    embarked_survived_truth=(((train_data['Survived']==1)&(train_data['Embarked']==i)))\n",
    "    embarked_death_truth=(((train_data['Survived']==0)&(train_data['Embarked']==i)))\n",
    "    embarked_survivors=embarked_survived_truth.value_counts()\n",
    "    embarked_deaths=embarked_death_truth.value_counts()\n",
    "    embarked_survivor.append(embarked_survivors[1])\n",
    "    embarked_death.append(embarked_deaths[1])\n",
    "embarked=[embarked_survivor,embarked_death]\n",
    "embarked"
   ]
  },
  {
   "cell_type": "code",
   "execution_count": 47,
   "metadata": {},
   "outputs": [
    {
     "data": {
      "text/plain": [
       "<matplotlib.legend.Legend at 0x19a5dff45c8>"
      ]
     },
     "execution_count": 47,
     "metadata": {},
     "output_type": "execute_result"
    },
    {
     "data": {
      "image/png": "[encoded data removed]",
      "text/plain": [
       "<Figure size 1080x720 with 1 Axes>"
      ]
     },
     "metadata": {
      "needs_background": "light"
     },
     "output_type": "display_data"
    }
   ],
   "source": [
    "fig=plt.figure(figsize=(15,10))\n",
    "N=3\n",
    "ind=[x for x in np.arange(1,N+1)]\n",
    "plt.bar(ind,embarked_survivor,width,label='Survived',bottom=embarked_death,color='Orange')\n",
    "plt.bar(ind,embarked_death,width,label='Death',color='cyan')\n",
    "plt.xticks(ind,['C','Q','S'])\n",
    "plt.title('Survive/death on basis of Embarked')\n",
    "plt.legend()"
   ]
  },
  {
   "cell_type": "markdown",
   "metadata": {},
   "source": [
    "Seems that people who embarked from Queenstown are unfortunate."
   ]
  },
  {
   "cell_type": "markdown",
   "metadata": {},
   "source": [
    "Let us visualize the ratio of survivability based on the family size."
   ]
  },
  {
   "cell_type": "code",
   "execution_count": 48,
   "metadata": {},
   "outputs": [
    {
     "data": {
      "text/plain": [
       "[[163, 169, 10], [374, 123, 52]]"
      ]
     },
     "execution_count": 48,
     "metadata": {},
     "output_type": "execute_result"
    }
   ],
   "source": [
    "survivors=[]\n",
    "death=[]\n",
    "for i in range(0,3):\n",
    "    fam_survived_truth=(((train_data['Survived']==1)&(train_data['Fam_mem']==i)))\n",
    "    fam_death_truth=(((train_data['Survived']==0)&(train_data['Fam_mem']==i)))\n",
    "    fam_survived=fam_survived_truth.value_counts()\n",
    "    fam_death=fam_death_truth.value_counts()\n",
    "    survivors.append(fam_survived[1])\n",
    "    death.append(fam_death[1])\n",
    "fam_sur_death=[survivors,death]\n",
    "fam_sur_death"
   ]
  },
  {
   "cell_type": "code",
   "execution_count": 49,
   "metadata": {},
   "outputs": [
    {
     "name": "stdout",
     "output_type": "stream",
     "text": [
      "[47.66081871345029, 49.41520467836257, 2.923976608187134]\n",
      "[68.12386156648452, 22.404371584699454, 9.47176684881603]\n"
     ]
    }
   ],
   "source": [
    "sur_ratio=[(survivors[0]/(survivors[0]+survivors[1]+survivors[2]))*100,(survivors[1]/(survivors[0]+survivors[1]+survivors[2]))*100,\n",
    "          (survivors[2]/(survivors[0]+survivors[1]+survivors[2]))*100]\n",
    "death_ratio=[(death[0]/(death[0]+death[1]+death[2]))*100,(death[1]/(death[0]+death[1]+death[2]))*100,\n",
    "            (death[2]/(death[0]+death[1]+death[2]))*100]\n",
    "print(sur_ratio)\n",
    "print(death_ratio)"
   ]
  },
  {
   "cell_type": "code",
   "execution_count": 50,
   "metadata": {},
   "outputs": [
    {
     "data": {
      "text/plain": [
       "Text(0.5, 1.0, 'Death Ratio')"
      ]
     },
     "execution_count": 50,
     "metadata": {},
     "output_type": "execute_result"
    },
    {
     "data": {
      "image/png": "[encoded data removed]",
      "text/plain": [
       "<Figure size 1080x720 with 2 Axes>"
      ]
     },
     "metadata": {},
     "output_type": "display_data"
    }
   ],
   "source": [
    "fig,ax=plt.subplots(1,2,figsize=(15,10))\n",
    "explode=(0.1,0.1,0.1)\n",
    "ax[0].pie(sur_ratio,explode=explode,labels=['Single','Small_family','Large_family'],autopct='%1.2f%%',shadow=True,startangle=90)\n",
    "ax[0].set_title('Survive Ratio')\n",
    "ax[1].pie(death_ratio,explode=explode,labels=['Single','Small_family','Large_family'],autopct='%1.2f%%',shadow=True,startangle=90)\n",
    "ax[1].set_title('Death Ratio')"
   ]
  },
  {
   "cell_type": "markdown",
   "metadata": {},
   "source": [
    "Seems that many small member family made their way out,but large family members could not make their way out"
   ]
  },
  {
   "cell_type": "markdown",
   "metadata": {},
   "source": [
    "# 4.Preprocessing Part-2.0"
   ]
  },
  {
   "cell_type": "markdown",
   "metadata": {},
   "source": [
    "Now that with the data getting ready for prediction we could make some more process so that our classifiers performs well on the dataset. The process includes getting dummies for features like Pclass,Sex,Age,Embarked,Title,Fam_mem. This is done because from our above visualization we could see some values in a feature contibute a lot to survivability. Eg: We can definitly say that a women from Pclass '2' has survivability of 95%. So this gives a good correlation than taking the overall feature of Pclass against survivability. "
   ]
  },
  {
   "cell_type": "code",
   "execution_count": 51,
   "metadata": {},
   "outputs": [
    {
     "data": {
      "text/html": [
       "<div>\n",
       "<style scoped>\n",
       "    .dataframe tbody tr th:only-of-type {\n",
       "        vertical-align: middle;\n",
       "    }\n",
       "\n",
       "    .dataframe tbody tr th {\n",
       "        vertical-align: top;\n",
       "    }\n",
       "\n",
       "    .dataframe thead th {\n",
       "        text-align: right;\n",
       "    }\n",
       "</style>\n",
       "<table border=\"1\" class=\"dataframe\">\n",
       "  <thead>\n",
       "    <tr style=\"text-align: right;\">\n",
       "      <th></th>\n",
       "      <th>Survived</th>\n",
       "      <th>Pclass</th>\n",
       "      <th>Name</th>\n",
       "      <th>Sex</th>\n",
       "      <th>Age</th>\n",
       "      <th>SibSp</th>\n",
       "      <th>Parch</th>\n",
       "      <th>Fare</th>\n",
       "      <th>Embarked</th>\n",
       "      <th>Title</th>\n",
       "      <th>Fam_mem</th>\n",
       "    </tr>\n",
       "  </thead>\n",
       "  <tbody>\n",
       "    <tr>\n",
       "      <td>0</td>\n",
       "      <td>0</td>\n",
       "      <td>3</td>\n",
       "      <td>Braund, Mr. Owen Harris</td>\n",
       "      <td>1.0</td>\n",
       "      <td>5.0</td>\n",
       "      <td>1</td>\n",
       "      <td>0</td>\n",
       "      <td>7.2500</td>\n",
       "      <td>2.0</td>\n",
       "      <td>2.0</td>\n",
       "      <td>1.0</td>\n",
       "    </tr>\n",
       "    <tr>\n",
       "      <td>1</td>\n",
       "      <td>1</td>\n",
       "      <td>1</td>\n",
       "      <td>Cumings, Mrs. John Bradley (Florence Briggs Th...</td>\n",
       "      <td>0.0</td>\n",
       "      <td>0.0</td>\n",
       "      <td>1</td>\n",
       "      <td>0</td>\n",
       "      <td>71.2833</td>\n",
       "      <td>0.0</td>\n",
       "      <td>3.0</td>\n",
       "      <td>1.0</td>\n",
       "    </tr>\n",
       "    <tr>\n",
       "      <td>2</td>\n",
       "      <td>1</td>\n",
       "      <td>3</td>\n",
       "      <td>Heikkinen, Miss. Laina</td>\n",
       "      <td>0.0</td>\n",
       "      <td>5.0</td>\n",
       "      <td>0</td>\n",
       "      <td>0</td>\n",
       "      <td>7.9250</td>\n",
       "      <td>2.0</td>\n",
       "      <td>1.0</td>\n",
       "      <td>0.0</td>\n",
       "    </tr>\n",
       "    <tr>\n",
       "      <td>3</td>\n",
       "      <td>1</td>\n",
       "      <td>1</td>\n",
       "      <td>Futrelle, Mrs. Jacques Heath (Lily May Peel)</td>\n",
       "      <td>0.0</td>\n",
       "      <td>0.0</td>\n",
       "      <td>1</td>\n",
       "      <td>0</td>\n",
       "      <td>53.1000</td>\n",
       "      <td>2.0</td>\n",
       "      <td>3.0</td>\n",
       "      <td>1.0</td>\n",
       "    </tr>\n",
       "    <tr>\n",
       "      <td>4</td>\n",
       "      <td>0</td>\n",
       "      <td>3</td>\n",
       "      <td>Allen, Mr. William Henry</td>\n",
       "      <td>1.0</td>\n",
       "      <td>0.0</td>\n",
       "      <td>0</td>\n",
       "      <td>0</td>\n",
       "      <td>8.0500</td>\n",
       "      <td>2.0</td>\n",
       "      <td>2.0</td>\n",
       "      <td>0.0</td>\n",
       "    </tr>\n",
       "    <tr>\n",
       "      <td>5</td>\n",
       "      <td>0</td>\n",
       "      <td>3</td>\n",
       "      <td>Moran, Mr. James</td>\n",
       "      <td>1.0</td>\n",
       "      <td>5.0</td>\n",
       "      <td>0</td>\n",
       "      <td>0</td>\n",
       "      <td>8.4583</td>\n",
       "      <td>1.0</td>\n",
       "      <td>2.0</td>\n",
       "      <td>0.0</td>\n",
       "    </tr>\n",
       "    <tr>\n",
       "      <td>6</td>\n",
       "      <td>0</td>\n",
       "      <td>1</td>\n",
       "      <td>McCarthy, Mr. Timothy J</td>\n",
       "      <td>1.0</td>\n",
       "      <td>3.0</td>\n",
       "      <td>0</td>\n",
       "      <td>0</td>\n",
       "      <td>51.8625</td>\n",
       "      <td>2.0</td>\n",
       "      <td>2.0</td>\n",
       "      <td>0.0</td>\n",
       "    </tr>\n",
       "    <tr>\n",
       "      <td>7</td>\n",
       "      <td>0</td>\n",
       "      <td>3</td>\n",
       "      <td>Palsson, Master. Gosta Leonard</td>\n",
       "      <td>1.0</td>\n",
       "      <td>2.0</td>\n",
       "      <td>3</td>\n",
       "      <td>1</td>\n",
       "      <td>21.0750</td>\n",
       "      <td>2.0</td>\n",
       "      <td>0.0</td>\n",
       "      <td>2.0</td>\n",
       "    </tr>\n",
       "    <tr>\n",
       "      <td>8</td>\n",
       "      <td>1</td>\n",
       "      <td>3</td>\n",
       "      <td>Johnson, Mrs. Oscar W (Elisabeth Vilhelmina Berg)</td>\n",
       "      <td>0.0</td>\n",
       "      <td>5.0</td>\n",
       "      <td>0</td>\n",
       "      <td>2</td>\n",
       "      <td>11.1333</td>\n",
       "      <td>2.0</td>\n",
       "      <td>3.0</td>\n",
       "      <td>1.0</td>\n",
       "    </tr>\n",
       "    <tr>\n",
       "      <td>9</td>\n",
       "      <td>1</td>\n",
       "      <td>2</td>\n",
       "      <td>Nasser, Mrs. Nicholas (Adele Achem)</td>\n",
       "      <td>0.0</td>\n",
       "      <td>4.0</td>\n",
       "      <td>1</td>\n",
       "      <td>0</td>\n",
       "      <td>30.0708</td>\n",
       "      <td>0.0</td>\n",
       "      <td>3.0</td>\n",
       "      <td>1.0</td>\n",
       "    </tr>\n",
       "  </tbody>\n",
       "</table>\n",
       "</div>"
      ],
      "text/plain": [
       "   Survived  Pclass                                               Name  Sex  \\\n",
       "0         0       3                            Braund, Mr. Owen Harris  1.0   \n",
       "1         1       1  Cumings, Mrs. John Bradley (Florence Briggs Th...  0.0   \n",
       "2         1       3                             Heikkinen, Miss. Laina  0.0   \n",
       "3         1       1       Futrelle, Mrs. Jacques Heath (Lily May Peel)  0.0   \n",
       "4         0       3                           Allen, Mr. William Henry  1.0   \n",
       "5         0       3                                   Moran, Mr. James  1.0   \n",
       "6         0       1                            McCarthy, Mr. Timothy J  1.0   \n",
       "7         0       3                     Palsson, Master. Gosta Leonard  1.0   \n",
       "8         1       3  Johnson, Mrs. Oscar W (Elisabeth Vilhelmina Berg)  0.0   \n",
       "9         1       2                Nasser, Mrs. Nicholas (Adele Achem)  0.0   \n",
       "\n",
       "   Age  SibSp  Parch     Fare  Embarked  Title  Fam_mem  \n",
       "0  5.0      1      0   7.2500       2.0    2.0      1.0  \n",
       "1  0.0      1      0  71.2833       0.0    3.0      1.0  \n",
       "2  5.0      0      0   7.9250       2.0    1.0      0.0  \n",
       "3  0.0      1      0  53.1000       2.0    3.0      1.0  \n",
       "4  0.0      0      0   8.0500       2.0    2.0      0.0  \n",
       "5  5.0      0      0   8.4583       1.0    2.0      0.0  \n",
       "6  3.0      0      0  51.8625       2.0    2.0      0.0  \n",
       "7  2.0      3      1  21.0750       2.0    0.0      2.0  \n",
       "8  5.0      0      2  11.1333       2.0    3.0      1.0  \n",
       "9  4.0      1      0  30.0708       0.0    3.0      1.0  "
      ]
     },
     "execution_count": 51,
     "metadata": {},
     "output_type": "execute_result"
    }
   ],
   "source": [
    "train_data.head(10)"
   ]
  },
  {
   "cell_type": "code",
   "execution_count": 52,
   "metadata": {},
   "outputs": [],
   "source": [
    "preprocess_data=train_data.copy()"
   ]
  },
  {
   "cell_type": "code",
   "execution_count": 53,
   "metadata": {},
   "outputs": [],
   "source": [
    "preprocess_data=pd.get_dummies(preprocess_data,columns=['Pclass','Sex','Age','Embarked','Title','Fam_mem'])"
   ]
  },
  {
   "cell_type": "code",
   "execution_count": 54,
   "metadata": {},
   "outputs": [
    {
     "data": {
      "text/html": [
       "<div>\n",
       "<style scoped>\n",
       "    .dataframe tbody tr th:only-of-type {\n",
       "        vertical-align: middle;\n",
       "    }\n",
       "\n",
       "    .dataframe tbody tr th {\n",
       "        vertical-align: top;\n",
       "    }\n",
       "\n",
       "    .dataframe thead th {\n",
       "        text-align: right;\n",
       "    }\n",
       "</style>\n",
       "<table border=\"1\" class=\"dataframe\">\n",
       "  <thead>\n",
       "    <tr style=\"text-align: right;\">\n",
       "      <th></th>\n",
       "      <th>Survived</th>\n",
       "      <th>Name</th>\n",
       "      <th>SibSp</th>\n",
       "      <th>Parch</th>\n",
       "      <th>Fare</th>\n",
       "      <th>Pclass_1</th>\n",
       "      <th>Pclass_2</th>\n",
       "      <th>Pclass_3</th>\n",
       "      <th>Sex_0.0</th>\n",
       "      <th>Sex_1.0</th>\n",
       "      <th>...</th>\n",
       "      <th>Embarked_2.0</th>\n",
       "      <th>Title_0.0</th>\n",
       "      <th>Title_1.0</th>\n",
       "      <th>Title_2.0</th>\n",
       "      <th>Title_3.0</th>\n",
       "      <th>Title_4.0</th>\n",
       "      <th>Title_5.0</th>\n",
       "      <th>Fam_mem_0.0</th>\n",
       "      <th>Fam_mem_1.0</th>\n",
       "      <th>Fam_mem_2.0</th>\n",
       "    </tr>\n",
       "  </thead>\n",
       "  <tbody>\n",
       "    <tr>\n",
       "      <td>0</td>\n",
       "      <td>0</td>\n",
       "      <td>Braund, Mr. Owen Harris</td>\n",
       "      <td>1</td>\n",
       "      <td>0</td>\n",
       "      <td>7.2500</td>\n",
       "      <td>0</td>\n",
       "      <td>0</td>\n",
       "      <td>1</td>\n",
       "      <td>0</td>\n",
       "      <td>1</td>\n",
       "      <td>...</td>\n",
       "      <td>1</td>\n",
       "      <td>0</td>\n",
       "      <td>0</td>\n",
       "      <td>1</td>\n",
       "      <td>0</td>\n",
       "      <td>0</td>\n",
       "      <td>0</td>\n",
       "      <td>0</td>\n",
       "      <td>1</td>\n",
       "      <td>0</td>\n",
       "    </tr>\n",
       "    <tr>\n",
       "      <td>1</td>\n",
       "      <td>1</td>\n",
       "      <td>Cumings, Mrs. John Bradley (Florence Briggs Th...</td>\n",
       "      <td>1</td>\n",
       "      <td>0</td>\n",
       "      <td>71.2833</td>\n",
       "      <td>1</td>\n",
       "      <td>0</td>\n",
       "      <td>0</td>\n",
       "      <td>1</td>\n",
       "      <td>0</td>\n",
       "      <td>...</td>\n",
       "      <td>0</td>\n",
       "      <td>0</td>\n",
       "      <td>0</td>\n",
       "      <td>0</td>\n",
       "      <td>1</td>\n",
       "      <td>0</td>\n",
       "      <td>0</td>\n",
       "      <td>0</td>\n",
       "      <td>1</td>\n",
       "      <td>0</td>\n",
       "    </tr>\n",
       "    <tr>\n",
       "      <td>2</td>\n",
       "      <td>1</td>\n",
       "      <td>Heikkinen, Miss. Laina</td>\n",
       "      <td>0</td>\n",
       "      <td>0</td>\n",
       "      <td>7.9250</td>\n",
       "      <td>0</td>\n",
       "      <td>0</td>\n",
       "      <td>1</td>\n",
       "      <td>1</td>\n",
       "      <td>0</td>\n",
       "      <td>...</td>\n",
       "      <td>1</td>\n",
       "      <td>0</td>\n",
       "      <td>1</td>\n",
       "      <td>0</td>\n",
       "      <td>0</td>\n",
       "      <td>0</td>\n",
       "      <td>0</td>\n",
       "      <td>1</td>\n",
       "      <td>0</td>\n",
       "      <td>0</td>\n",
       "    </tr>\n",
       "    <tr>\n",
       "      <td>3</td>\n",
       "      <td>1</td>\n",
       "      <td>Futrelle, Mrs. Jacques Heath (Lily May Peel)</td>\n",
       "      <td>1</td>\n",
       "      <td>0</td>\n",
       "      <td>53.1000</td>\n",
       "      <td>1</td>\n",
       "      <td>0</td>\n",
       "      <td>0</td>\n",
       "      <td>1</td>\n",
       "      <td>0</td>\n",
       "      <td>...</td>\n",
       "      <td>1</td>\n",
       "      <td>0</td>\n",
       "      <td>0</td>\n",
       "      <td>0</td>\n",
       "      <td>1</td>\n",
       "      <td>0</td>\n",
       "      <td>0</td>\n",
       "      <td>0</td>\n",
       "      <td>1</td>\n",
       "      <td>0</td>\n",
       "    </tr>\n",
       "    <tr>\n",
       "      <td>4</td>\n",
       "      <td>0</td>\n",
       "      <td>Allen, Mr. William Henry</td>\n",
       "      <td>0</td>\n",
       "      <td>0</td>\n",
       "      <td>8.0500</td>\n",
       "      <td>0</td>\n",
       "      <td>0</td>\n",
       "      <td>1</td>\n",
       "      <td>0</td>\n",
       "      <td>1</td>\n",
       "      <td>...</td>\n",
       "      <td>1</td>\n",
       "      <td>0</td>\n",
       "      <td>0</td>\n",
       "      <td>1</td>\n",
       "      <td>0</td>\n",
       "      <td>0</td>\n",
       "      <td>0</td>\n",
       "      <td>1</td>\n",
       "      <td>0</td>\n",
       "      <td>0</td>\n",
       "    </tr>\n",
       "    <tr>\n",
       "      <td>5</td>\n",
       "      <td>0</td>\n",
       "      <td>Moran, Mr. James</td>\n",
       "      <td>0</td>\n",
       "      <td>0</td>\n",
       "      <td>8.4583</td>\n",
       "      <td>0</td>\n",
       "      <td>0</td>\n",
       "      <td>1</td>\n",
       "      <td>0</td>\n",
       "      <td>1</td>\n",
       "      <td>...</td>\n",
       "      <td>0</td>\n",
       "      <td>0</td>\n",
       "      <td>0</td>\n",
       "      <td>1</td>\n",
       "      <td>0</td>\n",
       "      <td>0</td>\n",
       "      <td>0</td>\n",
       "      <td>1</td>\n",
       "      <td>0</td>\n",
       "      <td>0</td>\n",
       "    </tr>\n",
       "    <tr>\n",
       "      <td>6</td>\n",
       "      <td>0</td>\n",
       "      <td>McCarthy, Mr. Timothy J</td>\n",
       "      <td>0</td>\n",
       "      <td>0</td>\n",
       "      <td>51.8625</td>\n",
       "      <td>1</td>\n",
       "      <td>0</td>\n",
       "      <td>0</td>\n",
       "      <td>0</td>\n",
       "      <td>1</td>\n",
       "      <td>...</td>\n",
       "      <td>1</td>\n",
       "      <td>0</td>\n",
       "      <td>0</td>\n",
       "      <td>1</td>\n",
       "      <td>0</td>\n",
       "      <td>0</td>\n",
       "      <td>0</td>\n",
       "      <td>1</td>\n",
       "      <td>0</td>\n",
       "      <td>0</td>\n",
       "    </tr>\n",
       "    <tr>\n",
       "      <td>7</td>\n",
       "      <td>0</td>\n",
       "      <td>Palsson, Master. Gosta Leonard</td>\n",
       "      <td>3</td>\n",
       "      <td>1</td>\n",
       "      <td>21.0750</td>\n",
       "      <td>0</td>\n",
       "      <td>0</td>\n",
       "      <td>1</td>\n",
       "      <td>0</td>\n",
       "      <td>1</td>\n",
       "      <td>...</td>\n",
       "      <td>1</td>\n",
       "      <td>1</td>\n",
       "      <td>0</td>\n",
       "      <td>0</td>\n",
       "      <td>0</td>\n",
       "      <td>0</td>\n",
       "      <td>0</td>\n",
       "      <td>0</td>\n",
       "      <td>0</td>\n",
       "      <td>1</td>\n",
       "    </tr>\n",
       "    <tr>\n",
       "      <td>8</td>\n",
       "      <td>1</td>\n",
       "      <td>Johnson, Mrs. Oscar W (Elisabeth Vilhelmina Berg)</td>\n",
       "      <td>0</td>\n",
       "      <td>2</td>\n",
       "      <td>11.1333</td>\n",
       "      <td>0</td>\n",
       "      <td>0</td>\n",
       "      <td>1</td>\n",
       "      <td>1</td>\n",
       "      <td>0</td>\n",
       "      <td>...</td>\n",
       "      <td>1</td>\n",
       "      <td>0</td>\n",
       "      <td>0</td>\n",
       "      <td>0</td>\n",
       "      <td>1</td>\n",
       "      <td>0</td>\n",
       "      <td>0</td>\n",
       "      <td>0</td>\n",
       "      <td>1</td>\n",
       "      <td>0</td>\n",
       "    </tr>\n",
       "    <tr>\n",
       "      <td>9</td>\n",
       "      <td>1</td>\n",
       "      <td>Nasser, Mrs. Nicholas (Adele Achem)</td>\n",
       "      <td>1</td>\n",
       "      <td>0</td>\n",
       "      <td>30.0708</td>\n",
       "      <td>0</td>\n",
       "      <td>1</td>\n",
       "      <td>0</td>\n",
       "      <td>1</td>\n",
       "      <td>0</td>\n",
       "      <td>...</td>\n",
       "      <td>0</td>\n",
       "      <td>0</td>\n",
       "      <td>0</td>\n",
       "      <td>0</td>\n",
       "      <td>1</td>\n",
       "      <td>0</td>\n",
       "      <td>0</td>\n",
       "      <td>0</td>\n",
       "      <td>1</td>\n",
       "      <td>0</td>\n",
       "    </tr>\n",
       "  </tbody>\n",
       "</table>\n",
       "<p>10 rows × 28 columns</p>\n",
       "</div>"
      ],
      "text/plain": [
       "   Survived                                               Name  SibSp  Parch  \\\n",
       "0         0                            Braund, Mr. Owen Harris      1      0   \n",
       "1         1  Cumings, Mrs. John Bradley (Florence Briggs Th...      1      0   \n",
       "2         1                             Heikkinen, Miss. Laina      0      0   \n",
       "3         1       Futrelle, Mrs. Jacques Heath (Lily May Peel)      1      0   \n",
       "4         0                           Allen, Mr. William Henry      0      0   \n",
       "5         0                                   Moran, Mr. James      0      0   \n",
       "6         0                            McCarthy, Mr. Timothy J      0      0   \n",
       "7         0                     Palsson, Master. Gosta Leonard      3      1   \n",
       "8         1  Johnson, Mrs. Oscar W (Elisabeth Vilhelmina Berg)      0      2   \n",
       "9         1                Nasser, Mrs. Nicholas (Adele Achem)      1      0   \n",
       "\n",
       "      Fare  Pclass_1  Pclass_2  Pclass_3  Sex_0.0  Sex_1.0  ...  Embarked_2.0  \\\n",
       "0   7.2500         0         0         1        0        1  ...             1   \n",
       "1  71.2833         1         0         0        1        0  ...             0   \n",
       "2   7.9250         0         0         1        1        0  ...             1   \n",
       "3  53.1000         1         0         0        1        0  ...             1   \n",
       "4   8.0500         0         0         1        0        1  ...             1   \n",
       "5   8.4583         0         0         1        0        1  ...             0   \n",
       "6  51.8625         1         0         0        0        1  ...             1   \n",
       "7  21.0750         0         0         1        0        1  ...             1   \n",
       "8  11.1333         0         0         1        1        0  ...             1   \n",
       "9  30.0708         0         1         0        1        0  ...             0   \n",
       "\n",
       "   Title_0.0  Title_1.0  Title_2.0  Title_3.0  Title_4.0  Title_5.0  \\\n",
       "0          0          0          1          0          0          0   \n",
       "1          0          0          0          1          0          0   \n",
       "2          0          1          0          0          0          0   \n",
       "3          0          0          0          1          0          0   \n",
       "4          0          0          1          0          0          0   \n",
       "5          0          0          1          0          0          0   \n",
       "6          0          0          1          0          0          0   \n",
       "7          1          0          0          0          0          0   \n",
       "8          0          0          0          1          0          0   \n",
       "9          0          0          0          1          0          0   \n",
       "\n",
       "   Fam_mem_0.0  Fam_mem_1.0  Fam_mem_2.0  \n",
       "0            0            1            0  \n",
       "1            0            1            0  \n",
       "2            1            0            0  \n",
       "3            0            1            0  \n",
       "4            1            0            0  \n",
       "5            1            0            0  \n",
       "6            1            0            0  \n",
       "7            0            0            1  \n",
       "8            0            1            0  \n",
       "9            0            1            0  \n",
       "\n",
       "[10 rows x 28 columns]"
      ]
     },
     "execution_count": 54,
     "metadata": {},
     "output_type": "execute_result"
    }
   ],
   "source": [
    "preprocess_data.head(10)"
   ]
  },
  {
   "cell_type": "code",
   "execution_count": 55,
   "metadata": {},
   "outputs": [
    {
     "data": {
      "text/plain": [
       "Survived        1.000000\n",
       "Sex_0.0         0.543351\n",
       "Title_3.0       0.344935\n",
       "Title_1.0       0.332795\n",
       "Pclass_1        0.285904\n",
       "Fam_mem_1.0     0.279855\n",
       "Fare            0.257307\n",
       "Embarked_0.0    0.168240\n",
       "Age_2.0         0.116691\n",
       "Pclass_2        0.093349\n",
       "Title_0.0       0.085221\n",
       "Parch           0.081629\n",
       "Age_0.0         0.057867\n",
       "Title_5.0       0.016040\n",
       "Embarked_1.0    0.003650\n",
       "Age_1.0        -0.000079\n",
       "Age_4.0        -0.001559\n",
       "Age_3.0        -0.022932\n",
       "Title_4.0      -0.031316\n",
       "SibSp          -0.035322\n",
       "Age_5.0        -0.093689\n",
       "Fam_mem_2.0    -0.125147\n",
       "Embarked_2.0   -0.149683\n",
       "Fam_mem_0.0    -0.203367\n",
       "Pclass_3       -0.322308\n",
       "Sex_1.0        -0.543351\n",
       "Title_2.0      -0.546521\n",
       "Name: Survived, dtype: float64"
      ]
     },
     "execution_count": 55,
     "metadata": {},
     "output_type": "execute_result"
    }
   ],
   "source": [
    "corr_mat=preprocess_data.corr()\n",
    "corr_mat['Survived'].sort_values(ascending=False)"
   ]
  },
  {
   "cell_type": "markdown",
   "metadata": {},
   "source": [
    "As I mentioned we can see a lot of good positive and negative correlations are obtained. With the help of this our classifier does good job in predictiong the value.\n",
    "Eventhough there are good correlators some doesn't have good correlation. Let's remove those as it does not going to affect our predictions. "
   ]
  },
  {
   "cell_type": "code",
   "execution_count": 56,
   "metadata": {},
   "outputs": [],
   "source": [
    "preprocess_data.drop(['Age_0.0','Title_5.0','Embarked_1.0','Age_1.0','Age_4.0','Age_3.0','Title_4.0','SibSp','Age_5.0',\n",
    "                     'Parch','Title_0.0','Pclass_2','Name'],axis=1,inplace=True)"
   ]
  },
  {
   "cell_type": "code",
   "execution_count": 57,
   "metadata": {},
   "outputs": [
    {
     "data": {
      "text/plain": [
       "(891, 15)"
      ]
     },
     "execution_count": 57,
     "metadata": {},
     "output_type": "execute_result"
    }
   ],
   "source": [
    "preprocess_data.shape"
   ]
  },
  {
   "cell_type": "markdown",
   "metadata": {},
   "source": [
    "After removing the unneccasary feature let's scale Fare feature as it has range of higher values."
   ]
  },
  {
   "cell_type": "code",
   "execution_count": 58,
   "metadata": {},
   "outputs": [],
   "source": [
    "scale=StandardScaler()\n",
    "preprocess_data[['Fare']]=scale.fit_transform(preprocess_data[['Fare']])"
   ]
  },
  {
   "cell_type": "code",
   "execution_count": 59,
   "metadata": {},
   "outputs": [
    {
     "data": {
      "text/html": [
       "<div>\n",
       "<style scoped>\n",
       "    .dataframe tbody tr th:only-of-type {\n",
       "        vertical-align: middle;\n",
       "    }\n",
       "\n",
       "    .dataframe tbody tr th {\n",
       "        vertical-align: top;\n",
       "    }\n",
       "\n",
       "    .dataframe thead th {\n",
       "        text-align: right;\n",
       "    }\n",
       "</style>\n",
       "<table border=\"1\" class=\"dataframe\">\n",
       "  <thead>\n",
       "    <tr style=\"text-align: right;\">\n",
       "      <th></th>\n",
       "      <th>Survived</th>\n",
       "      <th>Fare</th>\n",
       "      <th>Pclass_1</th>\n",
       "      <th>Pclass_3</th>\n",
       "      <th>Sex_0.0</th>\n",
       "      <th>Sex_1.0</th>\n",
       "      <th>Age_2.0</th>\n",
       "      <th>Embarked_0.0</th>\n",
       "      <th>Embarked_2.0</th>\n",
       "      <th>Title_1.0</th>\n",
       "      <th>Title_2.0</th>\n",
       "      <th>Title_3.0</th>\n",
       "      <th>Fam_mem_0.0</th>\n",
       "      <th>Fam_mem_1.0</th>\n",
       "      <th>Fam_mem_2.0</th>\n",
       "    </tr>\n",
       "  </thead>\n",
       "  <tbody>\n",
       "    <tr>\n",
       "      <td>0</td>\n",
       "      <td>0</td>\n",
       "      <td>-0.502445</td>\n",
       "      <td>0</td>\n",
       "      <td>1</td>\n",
       "      <td>0</td>\n",
       "      <td>1</td>\n",
       "      <td>0</td>\n",
       "      <td>0</td>\n",
       "      <td>1</td>\n",
       "      <td>0</td>\n",
       "      <td>1</td>\n",
       "      <td>0</td>\n",
       "      <td>0</td>\n",
       "      <td>1</td>\n",
       "      <td>0</td>\n",
       "    </tr>\n",
       "    <tr>\n",
       "      <td>1</td>\n",
       "      <td>1</td>\n",
       "      <td>0.786845</td>\n",
       "      <td>1</td>\n",
       "      <td>0</td>\n",
       "      <td>1</td>\n",
       "      <td>0</td>\n",
       "      <td>0</td>\n",
       "      <td>1</td>\n",
       "      <td>0</td>\n",
       "      <td>0</td>\n",
       "      <td>0</td>\n",
       "      <td>1</td>\n",
       "      <td>0</td>\n",
       "      <td>1</td>\n",
       "      <td>0</td>\n",
       "    </tr>\n",
       "    <tr>\n",
       "      <td>2</td>\n",
       "      <td>1</td>\n",
       "      <td>-0.488854</td>\n",
       "      <td>0</td>\n",
       "      <td>1</td>\n",
       "      <td>1</td>\n",
       "      <td>0</td>\n",
       "      <td>0</td>\n",
       "      <td>0</td>\n",
       "      <td>1</td>\n",
       "      <td>1</td>\n",
       "      <td>0</td>\n",
       "      <td>0</td>\n",
       "      <td>1</td>\n",
       "      <td>0</td>\n",
       "      <td>0</td>\n",
       "    </tr>\n",
       "    <tr>\n",
       "      <td>3</td>\n",
       "      <td>1</td>\n",
       "      <td>0.420730</td>\n",
       "      <td>1</td>\n",
       "      <td>0</td>\n",
       "      <td>1</td>\n",
       "      <td>0</td>\n",
       "      <td>0</td>\n",
       "      <td>0</td>\n",
       "      <td>1</td>\n",
       "      <td>0</td>\n",
       "      <td>0</td>\n",
       "      <td>1</td>\n",
       "      <td>0</td>\n",
       "      <td>1</td>\n",
       "      <td>0</td>\n",
       "    </tr>\n",
       "    <tr>\n",
       "      <td>4</td>\n",
       "      <td>0</td>\n",
       "      <td>-0.486337</td>\n",
       "      <td>0</td>\n",
       "      <td>1</td>\n",
       "      <td>0</td>\n",
       "      <td>1</td>\n",
       "      <td>0</td>\n",
       "      <td>0</td>\n",
       "      <td>1</td>\n",
       "      <td>0</td>\n",
       "      <td>1</td>\n",
       "      <td>0</td>\n",
       "      <td>1</td>\n",
       "      <td>0</td>\n",
       "      <td>0</td>\n",
       "    </tr>\n",
       "  </tbody>\n",
       "</table>\n",
       "</div>"
      ],
      "text/plain": [
       "   Survived      Fare  Pclass_1  Pclass_3  Sex_0.0  Sex_1.0  Age_2.0  \\\n",
       "0         0 -0.502445         0         1        0        1        0   \n",
       "1         1  0.786845         1         0        1        0        0   \n",
       "2         1 -0.488854         0         1        1        0        0   \n",
       "3         1  0.420730         1         0        1        0        0   \n",
       "4         0 -0.486337         0         1        0        1        0   \n",
       "\n",
       "   Embarked_0.0  Embarked_2.0  Title_1.0  Title_2.0  Title_3.0  Fam_mem_0.0  \\\n",
       "0             0             1          0          1          0            0   \n",
       "1             1             0          0          0          1            0   \n",
       "2             0             1          1          0          0            1   \n",
       "3             0             1          0          0          1            0   \n",
       "4             0             1          0          1          0            1   \n",
       "\n",
       "   Fam_mem_1.0  Fam_mem_2.0  \n",
       "0            1            0  \n",
       "1            1            0  \n",
       "2            0            0  \n",
       "3            1            0  \n",
       "4            0            0  "
      ]
     },
     "execution_count": 59,
     "metadata": {},
     "output_type": "execute_result"
    }
   ],
   "source": [
    "preprocess_data.head()"
   ]
  },
  {
   "cell_type": "markdown",
   "metadata": {},
   "source": [
    "Now let's seperate the data for training"
   ]
  },
  {
   "cell_type": "code",
   "execution_count": 60,
   "metadata": {},
   "outputs": [],
   "source": [
    "preprocess_feature=preprocess_data.drop('Survived',axis=1)\n",
    "preprocess_label=preprocess_data['Survived']"
   ]
  },
  {
   "cell_type": "code",
   "execution_count": 61,
   "metadata": {},
   "outputs": [
    {
     "data": {
      "text/html": [
       "<div>\n",
       "<style scoped>\n",
       "    .dataframe tbody tr th:only-of-type {\n",
       "        vertical-align: middle;\n",
       "    }\n",
       "\n",
       "    .dataframe tbody tr th {\n",
       "        vertical-align: top;\n",
       "    }\n",
       "\n",
       "    .dataframe thead th {\n",
       "        text-align: right;\n",
       "    }\n",
       "</style>\n",
       "<table border=\"1\" class=\"dataframe\">\n",
       "  <thead>\n",
       "    <tr style=\"text-align: right;\">\n",
       "      <th></th>\n",
       "      <th>Fare</th>\n",
       "      <th>Pclass_1</th>\n",
       "      <th>Pclass_3</th>\n",
       "      <th>Sex_0.0</th>\n",
       "      <th>Sex_1.0</th>\n",
       "      <th>Age_2.0</th>\n",
       "      <th>Embarked_0.0</th>\n",
       "      <th>Embarked_2.0</th>\n",
       "      <th>Title_1.0</th>\n",
       "      <th>Title_2.0</th>\n",
       "      <th>Title_3.0</th>\n",
       "      <th>Fam_mem_0.0</th>\n",
       "      <th>Fam_mem_1.0</th>\n",
       "      <th>Fam_mem_2.0</th>\n",
       "    </tr>\n",
       "  </thead>\n",
       "  <tbody>\n",
       "    <tr>\n",
       "      <td>0</td>\n",
       "      <td>-0.502445</td>\n",
       "      <td>0</td>\n",
       "      <td>1</td>\n",
       "      <td>0</td>\n",
       "      <td>1</td>\n",
       "      <td>0</td>\n",
       "      <td>0</td>\n",
       "      <td>1</td>\n",
       "      <td>0</td>\n",
       "      <td>1</td>\n",
       "      <td>0</td>\n",
       "      <td>0</td>\n",
       "      <td>1</td>\n",
       "      <td>0</td>\n",
       "    </tr>\n",
       "    <tr>\n",
       "      <td>1</td>\n",
       "      <td>0.786845</td>\n",
       "      <td>1</td>\n",
       "      <td>0</td>\n",
       "      <td>1</td>\n",
       "      <td>0</td>\n",
       "      <td>0</td>\n",
       "      <td>1</td>\n",
       "      <td>0</td>\n",
       "      <td>0</td>\n",
       "      <td>0</td>\n",
       "      <td>1</td>\n",
       "      <td>0</td>\n",
       "      <td>1</td>\n",
       "      <td>0</td>\n",
       "    </tr>\n",
       "    <tr>\n",
       "      <td>2</td>\n",
       "      <td>-0.488854</td>\n",
       "      <td>0</td>\n",
       "      <td>1</td>\n",
       "      <td>1</td>\n",
       "      <td>0</td>\n",
       "      <td>0</td>\n",
       "      <td>0</td>\n",
       "      <td>1</td>\n",
       "      <td>1</td>\n",
       "      <td>0</td>\n",
       "      <td>0</td>\n",
       "      <td>1</td>\n",
       "      <td>0</td>\n",
       "      <td>0</td>\n",
       "    </tr>\n",
       "    <tr>\n",
       "      <td>3</td>\n",
       "      <td>0.420730</td>\n",
       "      <td>1</td>\n",
       "      <td>0</td>\n",
       "      <td>1</td>\n",
       "      <td>0</td>\n",
       "      <td>0</td>\n",
       "      <td>0</td>\n",
       "      <td>1</td>\n",
       "      <td>0</td>\n",
       "      <td>0</td>\n",
       "      <td>1</td>\n",
       "      <td>0</td>\n",
       "      <td>1</td>\n",
       "      <td>0</td>\n",
       "    </tr>\n",
       "    <tr>\n",
       "      <td>4</td>\n",
       "      <td>-0.486337</td>\n",
       "      <td>0</td>\n",
       "      <td>1</td>\n",
       "      <td>0</td>\n",
       "      <td>1</td>\n",
       "      <td>0</td>\n",
       "      <td>0</td>\n",
       "      <td>1</td>\n",
       "      <td>0</td>\n",
       "      <td>1</td>\n",
       "      <td>0</td>\n",
       "      <td>1</td>\n",
       "      <td>0</td>\n",
       "      <td>0</td>\n",
       "    </tr>\n",
       "    <tr>\n",
       "      <td>...</td>\n",
       "      <td>...</td>\n",
       "      <td>...</td>\n",
       "      <td>...</td>\n",
       "      <td>...</td>\n",
       "      <td>...</td>\n",
       "      <td>...</td>\n",
       "      <td>...</td>\n",
       "      <td>...</td>\n",
       "      <td>...</td>\n",
       "      <td>...</td>\n",
       "      <td>...</td>\n",
       "      <td>...</td>\n",
       "      <td>...</td>\n",
       "      <td>...</td>\n",
       "    </tr>\n",
       "    <tr>\n",
       "      <td>886</td>\n",
       "      <td>-0.386671</td>\n",
       "      <td>0</td>\n",
       "      <td>0</td>\n",
       "      <td>0</td>\n",
       "      <td>1</td>\n",
       "      <td>0</td>\n",
       "      <td>0</td>\n",
       "      <td>1</td>\n",
       "      <td>0</td>\n",
       "      <td>0</td>\n",
       "      <td>0</td>\n",
       "      <td>1</td>\n",
       "      <td>0</td>\n",
       "      <td>0</td>\n",
       "    </tr>\n",
       "    <tr>\n",
       "      <td>887</td>\n",
       "      <td>-0.044381</td>\n",
       "      <td>1</td>\n",
       "      <td>0</td>\n",
       "      <td>1</td>\n",
       "      <td>0</td>\n",
       "      <td>0</td>\n",
       "      <td>0</td>\n",
       "      <td>1</td>\n",
       "      <td>1</td>\n",
       "      <td>0</td>\n",
       "      <td>0</td>\n",
       "      <td>1</td>\n",
       "      <td>0</td>\n",
       "      <td>0</td>\n",
       "    </tr>\n",
       "    <tr>\n",
       "      <td>888</td>\n",
       "      <td>-0.176263</td>\n",
       "      <td>0</td>\n",
       "      <td>1</td>\n",
       "      <td>1</td>\n",
       "      <td>0</td>\n",
       "      <td>0</td>\n",
       "      <td>0</td>\n",
       "      <td>1</td>\n",
       "      <td>1</td>\n",
       "      <td>0</td>\n",
       "      <td>0</td>\n",
       "      <td>0</td>\n",
       "      <td>1</td>\n",
       "      <td>0</td>\n",
       "    </tr>\n",
       "    <tr>\n",
       "      <td>889</td>\n",
       "      <td>-0.044381</td>\n",
       "      <td>1</td>\n",
       "      <td>0</td>\n",
       "      <td>0</td>\n",
       "      <td>1</td>\n",
       "      <td>0</td>\n",
       "      <td>1</td>\n",
       "      <td>0</td>\n",
       "      <td>0</td>\n",
       "      <td>1</td>\n",
       "      <td>0</td>\n",
       "      <td>1</td>\n",
       "      <td>0</td>\n",
       "      <td>0</td>\n",
       "    </tr>\n",
       "    <tr>\n",
       "      <td>890</td>\n",
       "      <td>-0.492378</td>\n",
       "      <td>0</td>\n",
       "      <td>1</td>\n",
       "      <td>0</td>\n",
       "      <td>1</td>\n",
       "      <td>0</td>\n",
       "      <td>0</td>\n",
       "      <td>0</td>\n",
       "      <td>0</td>\n",
       "      <td>1</td>\n",
       "      <td>0</td>\n",
       "      <td>1</td>\n",
       "      <td>0</td>\n",
       "      <td>0</td>\n",
       "    </tr>\n",
       "  </tbody>\n",
       "</table>\n",
       "<p>891 rows × 14 columns</p>\n",
       "</div>"
      ],
      "text/plain": [
       "         Fare  Pclass_1  Pclass_3  Sex_0.0  Sex_1.0  Age_2.0  Embarked_0.0  \\\n",
       "0   -0.502445         0         1        0        1        0             0   \n",
       "1    0.786845         1         0        1        0        0             1   \n",
       "2   -0.488854         0         1        1        0        0             0   \n",
       "3    0.420730         1         0        1        0        0             0   \n",
       "4   -0.486337         0         1        0        1        0             0   \n",
       "..        ...       ...       ...      ...      ...      ...           ...   \n",
       "886 -0.386671         0         0        0        1        0             0   \n",
       "887 -0.044381         1         0        1        0        0             0   \n",
       "888 -0.176263         0         1        1        0        0             0   \n",
       "889 -0.044381         1         0        0        1        0             1   \n",
       "890 -0.492378         0         1        0        1        0             0   \n",
       "\n",
       "     Embarked_2.0  Title_1.0  Title_2.0  Title_3.0  Fam_mem_0.0  Fam_mem_1.0  \\\n",
       "0               1          0          1          0            0            1   \n",
       "1               0          0          0          1            0            1   \n",
       "2               1          1          0          0            1            0   \n",
       "3               1          0          0          1            0            1   \n",
       "4               1          0          1          0            1            0   \n",
       "..            ...        ...        ...        ...          ...          ...   \n",
       "886             1          0          0          0            1            0   \n",
       "887             1          1          0          0            1            0   \n",
       "888             1          1          0          0            0            1   \n",
       "889             0          0          1          0            1            0   \n",
       "890             0          0          1          0            1            0   \n",
       "\n",
       "     Fam_mem_2.0  \n",
       "0              0  \n",
       "1              0  \n",
       "2              0  \n",
       "3              0  \n",
       "4              0  \n",
       "..           ...  \n",
       "886            0  \n",
       "887            0  \n",
       "888            0  \n",
       "889            0  \n",
       "890            0  \n",
       "\n",
       "[891 rows x 14 columns]"
      ]
     },
     "execution_count": 61,
     "metadata": {},
     "output_type": "execute_result"
    }
   ],
   "source": [
    "preprocess_feature"
   ]
  },
  {
   "cell_type": "code",
   "execution_count": 62,
   "metadata": {},
   "outputs": [
    {
     "data": {
      "text/plain": [
       "0      0\n",
       "1      1\n",
       "2      1\n",
       "3      1\n",
       "4      0\n",
       "      ..\n",
       "886    0\n",
       "887    1\n",
       "888    0\n",
       "889    1\n",
       "890    0\n",
       "Name: Survived, Length: 891, dtype: int64"
      ]
     },
     "execution_count": 62,
     "metadata": {},
     "output_type": "execute_result"
    }
   ],
   "source": [
    "preprocess_label"
   ]
  },
  {
   "cell_type": "markdown",
   "metadata": {},
   "source": [
    "# 5.Selecting the Classifier\n",
    "Don't hurry!!!! For prediction we need a best classifier and good hyperparameters tuned for that particular classifier.\n",
    "With the training dataset we are going to split it into train set and test set. The split will be of Stratified Sampling in which the test data will be taken in the correct ratio. With the help of this training and test set we are going to select the best classifier. We will also do grid search to get the fine hyperparameters to do the prediction perfectly."
   ]
  },
  {
   "cell_type": "code",
   "execution_count": 63,
   "metadata": {},
   "outputs": [],
   "source": [
    "split=StratifiedShuffleSplit(n_splits=1,test_size=0.2,random_state=42)\n",
    "for train_index,test_index in split.split(preprocess_data,preprocess_data['Survived']):\n",
    "    strat_preprocess_data=preprocess_data.loc[train_index]\n",
    "    strat_preprocess_label=preprocess_data.loc[test_index]"
   ]
  },
  {
   "cell_type": "code",
   "execution_count": 64,
   "metadata": {},
   "outputs": [],
   "source": [
    "X_train=strat_preprocess_data.drop('Survived',axis=1)\n",
    "y_train=strat_preprocess_data['Survived']\n",
    "X_test=strat_preprocess_label.drop('Survived',axis=1)\n",
    "y_test=strat_preprocess_label['Survived']"
   ]
  },
  {
   "cell_type": "code",
   "execution_count": 65,
   "metadata": {},
   "outputs": [
    {
     "name": "stdout",
     "output_type": "stream",
     "text": [
      "(712, 14)\n",
      "(712,)\n",
      "(179, 14)\n",
      "(179,)\n"
     ]
    }
   ],
   "source": [
    "print(X_train.shape)\n",
    "print(y_train.shape)\n",
    "print(X_test.shape)\n",
    "print(y_test.shape)"
   ]
  },
  {
   "cell_type": "markdown",
   "metadata": {},
   "source": [
    "First lets go ahead with DECISION TREE......"
   ]
  },
  {
   "cell_type": "code",
   "execution_count": 66,
   "metadata": {},
   "outputs": [
    {
     "data": {
      "text/plain": [
       "0.7932960893854749"
      ]
     },
     "execution_count": 66,
     "metadata": {},
     "output_type": "execute_result"
    }
   ],
   "source": [
    "tree=DecisionTreeClassifier(random_state=42,criterion='entropy',splitter='best')\n",
    "tree.fit(X_train,y_train)\n",
    "y_pred=tree.predict(X_test)\n",
    "accuracy_score(y_test,y_pred)"
   ]
  },
  {
   "cell_type": "markdown",
   "metadata": {},
   "source": [
    "It gives us accuracy of 79%. Lets fine tune hyperparameters."
   ]
  },
  {
   "cell_type": "code",
   "execution_count": 67,
   "metadata": {},
   "outputs": [
    {
     "name": "stdout",
     "output_type": "stream",
     "text": [
      "0.8044692737430168\n",
      "{'max_depth': 5}\n"
     ]
    }
   ],
   "source": [
    "param_grid={'max_depth':[2,3,4,5,6]}\n",
    "grid_tree=GridSearchCV(tree,param_grid,cv=5)\n",
    "grid_tree.fit(X_train,y_train)\n",
    "y_pred=grid_tree.best_estimator_.predict(X_test)\n",
    "print(accuracy_score(y_test,y_pred))\n",
    "print(grid_tree.best_params_)"
   ]
  },
  {
   "cell_type": "markdown",
   "metadata": {},
   "source": [
    "It gives us 80% accuracy. That's ok. Let us visualize in the form of heat map."
   ]
  },
  {
   "cell_type": "code",
   "execution_count": 68,
   "metadata": {},
   "outputs": [
    {
     "data": {
      "text/plain": [
       "Text(33.0, 0.5, 'predicted label')"
      ]
     },
     "execution_count": 68,
     "metadata": {},
     "output_type": "execute_result"
    },
    {
     "data": {
      "image/png": "[encoded data removed]",
      "text/plain": [
       "<Figure size 432x288 with 1 Axes>"
      ]
     },
     "metadata": {
      "needs_background": "light"
     },
     "output_type": "display_data"
    }
   ],
   "source": [
    "mat=confusion_matrix(y_test,y_pred)\n",
    "sns.heatmap(mat.T,square=True,annot=True,cbar=False)\n",
    "plt.xlabel('true label')\n",
    "plt.ylabel('predicted label')"
   ]
  },
  {
   "cell_type": "markdown",
   "metadata": {},
   "source": [
    "The classifier did its best. Lets try the same procedure for all other classifiers."
   ]
  },
  {
   "cell_type": "markdown",
   "metadata": {},
   "source": [
    "Now LOGISTIC REGRESSION......"
   ]
  },
  {
   "cell_type": "code",
   "execution_count": 69,
   "metadata": {},
   "outputs": [
    {
     "data": {
      "text/plain": [
       "0.8212290502793296"
      ]
     },
     "execution_count": 69,
     "metadata": {},
     "output_type": "execute_result"
    }
   ],
   "source": [
    "log_reg=LogisticRegression()\n",
    "log_reg.fit(X_train,y_train)\n",
    "y_pred=log_reg.predict(X_test)\n",
    "accuracy_score(y_test,y_pred)"
   ]
  },
  {
   "cell_type": "code",
   "execution_count": 70,
   "metadata": {},
   "outputs": [
    {
     "name": "stdout",
     "output_type": "stream",
     "text": [
      "0.8212290502793296\n",
      "{'C': 0.5, 'penalty': 'l1'}\n"
     ]
    }
   ],
   "source": [
    "param_grid={'C':[0.0001,0.001,0.01,0.1,0.5],'penalty':['l1','l2']}\n",
    "grid_log=GridSearchCV(log_reg,param_grid,cv=5)\n",
    "grid_log.fit(X_train,y_train)\n",
    "y_pred=grid_log.predict(X_test)\n",
    "print(accuracy_score(y_test,y_pred))\n",
    "print(grid_log.best_params_)"
   ]
  },
  {
   "cell_type": "code",
   "execution_count": 71,
   "metadata": {},
   "outputs": [
    {
     "data": {
      "text/plain": [
       "Text(33.0, 0.5, 'predicted label')"
      ]
     },
     "execution_count": 71,
     "metadata": {},
     "output_type": "execute_result"
    },
    {
     "data": {
      "image/png": "[encoded data removed]",
      "text/plain": [
       "<Figure size 432x288 with 1 Axes>"
      ]
     },
     "metadata": {
      "needs_background": "light"
     },
     "output_type": "display_data"
    }
   ],
   "source": [
    "mat=confusion_matrix(y_test,y_pred)\n",
    "sns.heatmap(mat.T,square=True,annot=True,cbar=False)\n",
    "plt.xlabel('true label')\n",
    "plt.ylabel('predicted label')"
   ]
  },
  {
   "cell_type": "markdown",
   "metadata": {},
   "source": [
    "This performs even more better than Decision Tree."
   ]
  },
  {
   "cell_type": "markdown",
   "metadata": {},
   "source": [
    "Let's see RANDOM FOREST CLASSIFIER......"
   ]
  },
  {
   "cell_type": "code",
   "execution_count": 72,
   "metadata": {},
   "outputs": [
    {
     "data": {
      "text/plain": [
       "0.7821229050279329"
      ]
     },
     "execution_count": 72,
     "metadata": {},
     "output_type": "execute_result"
    }
   ],
   "source": [
    "rfc=RandomForestClassifier(criterion='entropy',random_state=42)\n",
    "rfc.fit(X_train,y_train)\n",
    "y_pred=rfc.predict(X_test)\n",
    "accuracy_score(y_test,y_pred)"
   ]
  },
  {
   "cell_type": "code",
   "execution_count": 73,
   "metadata": {},
   "outputs": [
    {
     "name": "stdout",
     "output_type": "stream",
     "text": [
      "0.8212290502793296\n",
      "{'max_depth': 4, 'n_estimators': 200}\n"
     ]
    }
   ],
   "source": [
    "param_grid={'max_depth':[2,3,4,5,6],'n_estimators':[100,200,300,400,500]}\n",
    "grid_forest=GridSearchCV(rfc,param_grid,cv=5)\n",
    "grid_forest.fit(X_train,y_train)\n",
    "y_pred=grid_forest.predict(X_test)\n",
    "print(accuracy_score(y_test,y_pred))\n",
    "print(grid_forest.best_params_)"
   ]
  },
  {
   "cell_type": "code",
   "execution_count": 74,
   "metadata": {},
   "outputs": [
    {
     "data": {
      "text/plain": [
       "Text(33.0, 0.5, 'predicted label')"
      ]
     },
     "execution_count": 74,
     "metadata": {},
     "output_type": "execute_result"
    },
    {
     "data": {
      "image/png": "[encoded data removed]",
      "text/plain": [
       "<Figure size 432x288 with 1 Axes>"
      ]
     },
     "metadata": {
      "needs_background": "light"
     },
     "output_type": "display_data"
    }
   ],
   "source": [
    "mat=confusion_matrix(y_test,y_pred)\n",
    "sns.heatmap(mat.T,square=True,annot=True,cbar=False,fmt='d')\n",
    "plt.xlabel('true label')\n",
    "plt.ylabel('predicted label')"
   ]
  },
  {
   "cell_type": "markdown",
   "metadata": {},
   "source": [
    "With the fine tuned hyperparameters random forest does equal to logistic regression"
   ]
  },
  {
   "cell_type": "markdown",
   "metadata": {},
   "source": [
    "Let us try SGD Classifier......"
   ]
  },
  {
   "cell_type": "code",
   "execution_count": 75,
   "metadata": {},
   "outputs": [
    {
     "data": {
      "text/plain": [
       "0.7932960893854749"
      ]
     },
     "execution_count": 75,
     "metadata": {},
     "output_type": "execute_result"
    }
   ],
   "source": [
    "sgd_clf=SGDClassifier(random_state=42)\n",
    "sgd_clf.fit(X_train,y_train)\n",
    "y_pred=sgd_clf.predict(X_test)\n",
    "accuracy_score(y_test,y_pred)"
   ]
  },
  {
   "cell_type": "code",
   "execution_count": 76,
   "metadata": {},
   "outputs": [
    {
     "name": "stdout",
     "output_type": "stream",
     "text": [
      "0.8156424581005587\n",
      "{'alpha': 0.001, 'max_iter': 1000, 'penalty': 'l1'}\n"
     ]
    }
   ],
   "source": [
    "param_grid={'penalty':['l1','l2'],'alpha':[0.0001,0.001,0.01,0.1],'max_iter':[1000,1500,2000,2500]}\n",
    "grid_sgd=GridSearchCV(sgd_clf,param_grid,cv=5)\n",
    "grid_sgd.fit(X_train,y_train)\n",
    "y_pred=grid_sgd.predict(X_test)\n",
    "print(accuracy_score(y_test,y_pred))\n",
    "print(grid_sgd.best_params_)"
   ]
  },
  {
   "cell_type": "code",
   "execution_count": 77,
   "metadata": {},
   "outputs": [
    {
     "data": {
      "text/plain": [
       "Text(33.0, 0.5, 'predicted label')"
      ]
     },
     "execution_count": 77,
     "metadata": {},
     "output_type": "execute_result"
    },
    {
     "data": {
      "image/png": "[encoded data removed]",
      "text/plain": [
       "<Figure size 432x288 with 1 Axes>"
      ]
     },
     "metadata": {
      "needs_background": "light"
     },
     "output_type": "display_data"
    }
   ],
   "source": [
    "mat=confusion_matrix(y_test,y_pred)\n",
    "sns.heatmap(mat.T,square=True,annot=True,cbar=False)\n",
    "plt.xlabel('true label')\n",
    "plt.ylabel('predicted label')"
   ]
  },
  {
   "cell_type": "markdown",
   "metadata": {},
   "source": [
    "This also does the same as logistic regression and random forest."
   ]
  },
  {
   "cell_type": "markdown",
   "metadata": {},
   "source": [
    "Let us try SUPPORT VECTOR MACHINE........"
   ]
  },
  {
   "cell_type": "code",
   "execution_count": 78,
   "metadata": {},
   "outputs": [
    {
     "data": {
      "text/plain": [
       "0.8324022346368715"
      ]
     },
     "execution_count": 78,
     "metadata": {},
     "output_type": "execute_result"
    }
   ],
   "source": [
    "svc_clf=SVC(kernel='rbf',random_state=42)\n",
    "svc_clf.fit(X_train,y_train)\n",
    "y_pred=svc_clf.predict(X_test)\n",
    "accuracy_score(y_test,y_pred)"
   ]
  },
  {
   "cell_type": "code",
   "execution_count": 79,
   "metadata": {},
   "outputs": [
    {
     "name": "stdout",
     "output_type": "stream",
     "text": [
      "0.8324022346368715\n",
      "{'C': 2, 'degree': 2, 'gamma': 'auto'}\n"
     ]
    }
   ],
   "source": [
    "param_grid={'C':[1,2,3,4,5],'degree':[2,3,4,5,6],'gamma':['scale','auto']}\n",
    "grid_svc=GridSearchCV(svc_clf,param_grid,cv=5)\n",
    "grid_svc.fit(X_train,y_train)\n",
    "y_pred=grid_svc.predict(X_test)\n",
    "print(accuracy_score(y_test,y_pred))\n",
    "print(grid_svc.best_params_)"
   ]
  },
  {
   "cell_type": "code",
   "execution_count": 80,
   "metadata": {},
   "outputs": [
    {
     "data": {
      "text/plain": [
       "Text(33.0, 0.5, 'predicted label')"
      ]
     },
     "execution_count": 80,
     "metadata": {},
     "output_type": "execute_result"
    },
    {
     "data": {
      "image/png": "[encoded data removed]",
      "text/plain": [
       "<Figure size 432x288 with 1 Axes>"
      ]
     },
     "metadata": {
      "needs_background": "light"
     },
     "output_type": "display_data"
    }
   ],
   "source": [
    "mat=confusion_matrix(y_test,y_pred)\n",
    "sns.heatmap(mat.T,square=True,annot=True,cbar=False)\n",
    "plt.xlabel('true label')\n",
    "plt.ylabel('predicted label')"
   ]
  },
  {
   "cell_type": "markdown",
   "metadata": {},
   "source": [
    "Above all this gives better results."
   ]
  },
  {
   "cell_type": "markdown",
   "metadata": {},
   "source": [
    "Lets try GAUSSIAN NAIVE BAYES......"
   ]
  },
  {
   "cell_type": "code",
   "execution_count": 81,
   "metadata": {},
   "outputs": [
    {
     "data": {
      "text/plain": [
       "0.8212290502793296"
      ]
     },
     "execution_count": 81,
     "metadata": {},
     "output_type": "execute_result"
    }
   ],
   "source": [
    "gnb=GaussianNB()\n",
    "gnb.fit(X_train,y_train)\n",
    "y_pred=gnb.predict(X_test)\n",
    "accuracy_score(y_test,y_pred)"
   ]
  },
  {
   "cell_type": "code",
   "execution_count": 82,
   "metadata": {},
   "outputs": [
    {
     "data": {
      "text/plain": [
       "Text(33.0, 0.5, 'predicted label')"
      ]
     },
     "execution_count": 82,
     "metadata": {},
     "output_type": "execute_result"
    },
    {
     "data": {
      "image/png": "[encoded data removed]",
      "text/plain": [
       "<Figure size 432x288 with 1 Axes>"
      ]
     },
     "metadata": {
      "needs_background": "light"
     },
     "output_type": "display_data"
    }
   ],
   "source": [
    "mat=confusion_matrix(y_test,y_pred)\n",
    "sns.heatmap(mat.T,square=True,annot=True,cbar=False)\n",
    "plt.xlabel('true label')\n",
    "plt.ylabel('predicted label')"
   ]
  },
  {
   "cell_type": "markdown",
   "metadata": {},
   "source": [
    "Gaussian naive bayes also does same prediction as random forest."
   ]
  },
  {
   "cell_type": "markdown",
   "metadata": {},
   "source": [
    "Let us see KNEIGHBORS......"
   ]
  },
  {
   "cell_type": "code",
   "execution_count": 83,
   "metadata": {},
   "outputs": [
    {
     "data": {
      "text/plain": [
       "0.7988826815642458"
      ]
     },
     "execution_count": 83,
     "metadata": {},
     "output_type": "execute_result"
    }
   ],
   "source": [
    "knn=KNeighborsClassifier()\n",
    "knn.fit(X_train,y_train)\n",
    "y_pred=knn.predict(X_test)\n",
    "accuracy_score(y_test,y_pred)"
   ]
  },
  {
   "cell_type": "code",
   "execution_count": 84,
   "metadata": {},
   "outputs": [
    {
     "name": "stdout",
     "output_type": "stream",
     "text": [
      "0.7877094972067039\n",
      "{'algorithm': 'brute', 'n_neighbors': 6, 'p': 1}\n"
     ]
    }
   ],
   "source": [
    "param_grid={'n_neighbors':[4,5,6,7,8],'algorithm':['ball_tree','kd_tree','brute'],'p':[1,2]}\n",
    "grid_knn=GridSearchCV(knn,param_grid,cv=5)\n",
    "grid_knn.fit(X_train,y_train)\n",
    "y_pred=grid_knn.predict(X_test)\n",
    "print(accuracy_score(y_test,y_pred))\n",
    "print(grid_knn.best_params_)"
   ]
  },
  {
   "cell_type": "code",
   "execution_count": 85,
   "metadata": {},
   "outputs": [
    {
     "data": {
      "text/plain": [
       "Text(33.0, 0.5, 'predicted label')"
      ]
     },
     "execution_count": 85,
     "metadata": {},
     "output_type": "execute_result"
    },
    {
     "data": {
      "image/png": "[encoded data removed]",
      "text/plain": [
       "<Figure size 432x288 with 1 Axes>"
      ]
     },
     "metadata": {
      "needs_background": "light"
     },
     "output_type": "display_data"
    }
   ],
   "source": [
    "mat=confusion_matrix(y_test,y_pred)\n",
    "sns.heatmap(mat.T,square=True,annot=True,cbar=False)\n",
    "plt.xlabel('true label')\n",
    "plt.ylabel('predicted label')"
   ]
  },
  {
   "cell_type": "markdown",
   "metadata": {},
   "source": [
    "It does poor compared to all above done classifier."
   ]
  },
  {
   "cell_type": "markdown",
   "metadata": {},
   "source": [
    "Overall we come to the conclusion that SUPPORT VECTOR MACHINE performs well on the training data with fine tuned hyperparameters."
   ]
  },
  {
   "cell_type": "markdown",
   "metadata": {},
   "source": [
    "# 6.Precision,Recall,F1 score\n",
    "Lets calculate the precision,recall,f1 score of our chosen classifier on the performed data"
   ]
  },
  {
   "cell_type": "code",
   "execution_count": 86,
   "metadata": {},
   "outputs": [],
   "source": [
    "def display_scores(scores):\n",
    "    print('Scores:',scores)\n",
    "    print('Mean:',scores.mean())    \n",
    "    print('Standard Deviation:',scores.std()) "
   ]
  },
  {
   "cell_type": "code",
   "execution_count": 87,
   "metadata": {},
   "outputs": [
    {
     "name": "stdout",
     "output_type": "stream",
     "text": [
      "Scores: [0.81932773 0.83544304 0.8185654 ]\n",
      "Mean: 0.8244453899703341\n",
      "Standard Deviation: 0.0077827365826613915\n"
     ]
    }
   ],
   "source": [
    "svc_clf=SVC(kernel='rbf',random_state=42,C=2,degree=2,gamma='auto')\n",
    "scores=cross_val_score(svc_clf,X_train,y_train,cv=3,scoring='accuracy')\n",
    "display_scores(scores)"
   ]
  },
  {
   "cell_type": "markdown",
   "metadata": {},
   "source": [
    "We can see that how our classifier have performed in cross validation .\n",
    "Let us see precision,recall,f1 score."
   ]
  },
  {
   "cell_type": "code",
   "execution_count": 88,
   "metadata": {},
   "outputs": [],
   "source": [
    "y_scores=cross_val_predict(svc_clf,X_train,y_train,method='decision_function')"
   ]
  },
  {
   "cell_type": "code",
   "execution_count": 89,
   "metadata": {},
   "outputs": [
    {
     "name": "stdout",
     "output_type": "stream",
     "text": [
      "0.803921568627451\n",
      "0.5942028985507246\n",
      "0.6833333333333333\n"
     ]
    }
   ],
   "source": [
    "print(precision_score(y_test,y_pred))\n",
    "print(recall_score(y_test,y_pred))\n",
    "print(f1_score(y_test,y_pred))"
   ]
  },
  {
   "cell_type": "markdown",
   "metadata": {},
   "source": [
    "We got about 80% precision and only 59% recall. Precision here means among the classifier predicted the survivors it tend to correctly predict 80% of them as survived and also predicted 20% as suvived but they are dead. Recall means the actula ratio of how much the classifier must predict that the passenger survived.(i.e here the classifier correctly predicted only 59% of total survivors).\n",
    "Let us see what will be the recall score if the threshold is increased so that the precision is 90%."
   ]
  },
  {
   "cell_type": "code",
   "execution_count": 90,
   "metadata": {},
   "outputs": [],
   "source": [
    "precisions,recalls,thresholds=precision_recall_curve(y_train,y_scores)"
   ]
  },
  {
   "cell_type": "code",
   "execution_count": 91,
   "metadata": {},
   "outputs": [],
   "source": [
    "threshold_90_precision=thresholds[np.argmax(precisions>=0.90)]"
   ]
  },
  {
   "cell_type": "code",
   "execution_count": 92,
   "metadata": {},
   "outputs": [],
   "source": [
    "y_train_pred_90=(y_scores>=threshold_90_precision)"
   ]
  },
  {
   "cell_type": "code",
   "execution_count": 93,
   "metadata": {},
   "outputs": [
    {
     "data": {
      "text/plain": [
       "0.9027027027027027"
      ]
     },
     "execution_count": 93,
     "metadata": {},
     "output_type": "execute_result"
    }
   ],
   "source": [
    "precision_score(y_train,y_train_pred_90)"
   ]
  },
  {
   "cell_type": "code",
   "execution_count": 94,
   "metadata": {},
   "outputs": [
    {
     "data": {
      "text/plain": [
       "0.6117216117216118"
      ]
     },
     "execution_count": 94,
     "metadata": {},
     "output_type": "execute_result"
    }
   ],
   "source": [
    "recall_score(y_train,y_train_pred_90)"
   ]
  },
  {
   "cell_type": "code",
   "execution_count": 95,
   "metadata": {},
   "outputs": [
    {
     "data": {
      "text/plain": [
       "0.8925632897417074"
      ]
     },
     "execution_count": 95,
     "metadata": {},
     "output_type": "execute_result"
    }
   ],
   "source": [
    "threshold_90_precision"
   ]
  },
  {
   "cell_type": "markdown",
   "metadata": {},
   "source": [
    "Let's cross validate and see the accuracy for the overall data we made in the preprocessing part-2.0"
   ]
  },
  {
   "cell_type": "code",
   "execution_count": 96,
   "metadata": {},
   "outputs": [
    {
     "name": "stdout",
     "output_type": "stream",
     "text": [
      "Scores: [0.81818182 0.84175084 0.83501684]\n",
      "Mean: 0.8316498316498316\n",
      "Standard Deviation: 0.009912189524498138\n"
     ]
    }
   ],
   "source": [
    "svc_clf=SVC(kernel='rbf',random_state=42,C=2,degree=2,gamma='auto')\n",
    "scores=cross_val_score(svc_clf,preprocess_feature,preprocess_label,cv=3,scoring='accuracy')\n",
    "display_scores(scores)"
   ]
  },
  {
   "cell_type": "markdown",
   "metadata": {},
   "source": [
    "Good prediction in cross validation."
   ]
  },
  {
   "cell_type": "markdown",
   "metadata": {},
   "source": [
    "# 7.Predicting the test data\n",
    "Before doing prediction we need to preprocess the data as we did for training data. "
   ]
  },
  {
   "cell_type": "code",
   "execution_count": 97,
   "metadata": {},
   "outputs": [
    {
     "data": {
      "text/html": [
       "<div>\n",
       "<style scoped>\n",
       "    .dataframe tbody tr th:only-of-type {\n",
       "        vertical-align: middle;\n",
       "    }\n",
       "\n",
       "    .dataframe tbody tr th {\n",
       "        vertical-align: top;\n",
       "    }\n",
       "\n",
       "    .dataframe thead th {\n",
       "        text-align: right;\n",
       "    }\n",
       "</style>\n",
       "<table border=\"1\" class=\"dataframe\">\n",
       "  <thead>\n",
       "    <tr style=\"text-align: right;\">\n",
       "      <th></th>\n",
       "      <th>PassengerId</th>\n",
       "      <th>Pclass</th>\n",
       "      <th>Name</th>\n",
       "      <th>Sex</th>\n",
       "      <th>Age</th>\n",
       "      <th>SibSp</th>\n",
       "      <th>Parch</th>\n",
       "      <th>Ticket</th>\n",
       "      <th>Fare</th>\n",
       "      <th>Cabin</th>\n",
       "      <th>Embarked</th>\n",
       "    </tr>\n",
       "  </thead>\n",
       "  <tbody>\n",
       "    <tr>\n",
       "      <td>0</td>\n",
       "      <td>892</td>\n",
       "      <td>3</td>\n",
       "      <td>Kelly, Mr. James</td>\n",
       "      <td>male</td>\n",
       "      <td>34.5</td>\n",
       "      <td>0</td>\n",
       "      <td>0</td>\n",
       "      <td>330911</td>\n",
       "      <td>7.8292</td>\n",
       "      <td>NaN</td>\n",
       "      <td>Q</td>\n",
       "    </tr>\n",
       "    <tr>\n",
       "      <td>1</td>\n",
       "      <td>893</td>\n",
       "      <td>3</td>\n",
       "      <td>Wilkes, Mrs. James (Ellen Needs)</td>\n",
       "      <td>female</td>\n",
       "      <td>47.0</td>\n",
       "      <td>1</td>\n",
       "      <td>0</td>\n",
       "      <td>363272</td>\n",
       "      <td>7.0000</td>\n",
       "      <td>NaN</td>\n",
       "      <td>S</td>\n",
       "    </tr>\n",
       "    <tr>\n",
       "      <td>2</td>\n",
       "      <td>894</td>\n",
       "      <td>2</td>\n",
       "      <td>Myles, Mr. Thomas Francis</td>\n",
       "      <td>male</td>\n",
       "      <td>62.0</td>\n",
       "      <td>0</td>\n",
       "      <td>0</td>\n",
       "      <td>240276</td>\n",
       "      <td>9.6875</td>\n",
       "      <td>NaN</td>\n",
       "      <td>Q</td>\n",
       "    </tr>\n",
       "    <tr>\n",
       "      <td>3</td>\n",
       "      <td>895</td>\n",
       "      <td>3</td>\n",
       "      <td>Wirz, Mr. Albert</td>\n",
       "      <td>male</td>\n",
       "      <td>27.0</td>\n",
       "      <td>0</td>\n",
       "      <td>0</td>\n",
       "      <td>315154</td>\n",
       "      <td>8.6625</td>\n",
       "      <td>NaN</td>\n",
       "      <td>S</td>\n",
       "    </tr>\n",
       "    <tr>\n",
       "      <td>4</td>\n",
       "      <td>896</td>\n",
       "      <td>3</td>\n",
       "      <td>Hirvonen, Mrs. Alexander (Helga E Lindqvist)</td>\n",
       "      <td>female</td>\n",
       "      <td>22.0</td>\n",
       "      <td>1</td>\n",
       "      <td>1</td>\n",
       "      <td>3101298</td>\n",
       "      <td>12.2875</td>\n",
       "      <td>NaN</td>\n",
       "      <td>S</td>\n",
       "    </tr>\n",
       "  </tbody>\n",
       "</table>\n",
       "</div>"
      ],
      "text/plain": [
       "   PassengerId  Pclass                                          Name     Sex  \\\n",
       "0          892       3                              Kelly, Mr. James    male   \n",
       "1          893       3              Wilkes, Mrs. James (Ellen Needs)  female   \n",
       "2          894       2                     Myles, Mr. Thomas Francis    male   \n",
       "3          895       3                              Wirz, Mr. Albert    male   \n",
       "4          896       3  Hirvonen, Mrs. Alexander (Helga E Lindqvist)  female   \n",
       "\n",
       "    Age  SibSp  Parch   Ticket     Fare Cabin Embarked  \n",
       "0  34.5      0      0   330911   7.8292   NaN        Q  \n",
       "1  47.0      1      0   363272   7.0000   NaN        S  \n",
       "2  62.0      0      0   240276   9.6875   NaN        Q  \n",
       "3  27.0      0      0   315154   8.6625   NaN        S  \n",
       "4  22.0      1      1  3101298  12.2875   NaN        S  "
      ]
     },
     "execution_count": 97,
     "metadata": {},
     "output_type": "execute_result"
    }
   ],
   "source": [
    "test_data.head()"
   ]
  },
  {
   "cell_type": "code",
   "execution_count": 98,
   "metadata": {},
   "outputs": [
    {
     "data": {
      "text/html": [
       "<div>\n",
       "<style scoped>\n",
       "    .dataframe tbody tr th:only-of-type {\n",
       "        vertical-align: middle;\n",
       "    }\n",
       "\n",
       "    .dataframe tbody tr th {\n",
       "        vertical-align: top;\n",
       "    }\n",
       "\n",
       "    .dataframe thead th {\n",
       "        text-align: right;\n",
       "    }\n",
       "</style>\n",
       "<table border=\"1\" class=\"dataframe\">\n",
       "  <thead>\n",
       "    <tr style=\"text-align: right;\">\n",
       "      <th></th>\n",
       "      <th>PassengerId</th>\n",
       "      <th>Pclass</th>\n",
       "      <th>Age</th>\n",
       "      <th>SibSp</th>\n",
       "      <th>Parch</th>\n",
       "      <th>Fare</th>\n",
       "    </tr>\n",
       "  </thead>\n",
       "  <tbody>\n",
       "    <tr>\n",
       "      <td>count</td>\n",
       "      <td>418.000000</td>\n",
       "      <td>418.000000</td>\n",
       "      <td>332.000000</td>\n",
       "      <td>418.000000</td>\n",
       "      <td>418.000000</td>\n",
       "      <td>417.000000</td>\n",
       "    </tr>\n",
       "    <tr>\n",
       "      <td>mean</td>\n",
       "      <td>1100.500000</td>\n",
       "      <td>2.265550</td>\n",
       "      <td>30.272590</td>\n",
       "      <td>0.447368</td>\n",
       "      <td>0.392344</td>\n",
       "      <td>35.627188</td>\n",
       "    </tr>\n",
       "    <tr>\n",
       "      <td>std</td>\n",
       "      <td>120.810458</td>\n",
       "      <td>0.841838</td>\n",
       "      <td>14.181209</td>\n",
       "      <td>0.896760</td>\n",
       "      <td>0.981429</td>\n",
       "      <td>55.907576</td>\n",
       "    </tr>\n",
       "    <tr>\n",
       "      <td>min</td>\n",
       "      <td>892.000000</td>\n",
       "      <td>1.000000</td>\n",
       "      <td>0.170000</td>\n",
       "      <td>0.000000</td>\n",
       "      <td>0.000000</td>\n",
       "      <td>0.000000</td>\n",
       "    </tr>\n",
       "    <tr>\n",
       "      <td>25%</td>\n",
       "      <td>996.250000</td>\n",
       "      <td>1.000000</td>\n",
       "      <td>21.000000</td>\n",
       "      <td>0.000000</td>\n",
       "      <td>0.000000</td>\n",
       "      <td>7.895800</td>\n",
       "    </tr>\n",
       "    <tr>\n",
       "      <td>50%</td>\n",
       "      <td>1100.500000</td>\n",
       "      <td>3.000000</td>\n",
       "      <td>27.000000</td>\n",
       "      <td>0.000000</td>\n",
       "      <td>0.000000</td>\n",
       "      <td>14.454200</td>\n",
       "    </tr>\n",
       "    <tr>\n",
       "      <td>75%</td>\n",
       "      <td>1204.750000</td>\n",
       "      <td>3.000000</td>\n",
       "      <td>39.000000</td>\n",
       "      <td>1.000000</td>\n",
       "      <td>0.000000</td>\n",
       "      <td>31.500000</td>\n",
       "    </tr>\n",
       "    <tr>\n",
       "      <td>max</td>\n",
       "      <td>1309.000000</td>\n",
       "      <td>3.000000</td>\n",
       "      <td>76.000000</td>\n",
       "      <td>8.000000</td>\n",
       "      <td>9.000000</td>\n",
       "      <td>512.329200</td>\n",
       "    </tr>\n",
       "  </tbody>\n",
       "</table>\n",
       "</div>"
      ],
      "text/plain": [
       "       PassengerId      Pclass         Age       SibSp       Parch        Fare\n",
       "count   418.000000  418.000000  332.000000  418.000000  418.000000  417.000000\n",
       "mean   1100.500000    2.265550   30.272590    0.447368    0.392344   35.627188\n",
       "std     120.810458    0.841838   14.181209    0.896760    0.981429   55.907576\n",
       "min     892.000000    1.000000    0.170000    0.000000    0.000000    0.000000\n",
       "25%     996.250000    1.000000   21.000000    0.000000    0.000000    7.895800\n",
       "50%    1100.500000    3.000000   27.000000    0.000000    0.000000   14.454200\n",
       "75%    1204.750000    3.000000   39.000000    1.000000    0.000000   31.500000\n",
       "max    1309.000000    3.000000   76.000000    8.000000    9.000000  512.329200"
      ]
     },
     "execution_count": 98,
     "metadata": {},
     "output_type": "execute_result"
    }
   ],
   "source": [
    "test_data.describe()"
   ]
  },
  {
   "cell_type": "code",
   "execution_count": 99,
   "metadata": {},
   "outputs": [
    {
     "data": {
      "text/plain": [
       "PassengerId    False\n",
       "Pclass         False\n",
       "Name           False\n",
       "Sex            False\n",
       "Age             True\n",
       "SibSp          False\n",
       "Parch          False\n",
       "Ticket         False\n",
       "Fare            True\n",
       "Cabin           True\n",
       "Embarked       False\n",
       "dtype: bool"
      ]
     },
     "execution_count": 99,
     "metadata": {},
     "output_type": "execute_result"
    }
   ],
   "source": [
    "test_data.isna().any()"
   ]
  },
  {
   "cell_type": "markdown",
   "metadata": {},
   "source": [
    "The preprocess can be done simply by defining a class with fit,transform and fit_transform method. Transform the data by passing it to the class."
   ]
  },
  {
   "cell_type": "code",
   "execution_count": 100,
   "metadata": {},
   "outputs": [],
   "source": [
    "def get_age(val):\n",
    "    age_classification={'Child':range(0,13),\n",
    "                        'Teen':range(13,21),\n",
    "                        'Young':range(21,31),\n",
    "                        '30_adult':range(31,41),\n",
    "                        '40_adult':range(41,51),\n",
    "                        'Elderly':range(51,90)}\n",
    "    for key,value in age_classification.items():\n",
    "        if val in value:\n",
    "            return key\n",
    "def get_title(val):\n",
    "    words=val.split()\n",
    "    title={'Officer':['Capt.','Col.','Major.','Dr.','Rev.'],\n",
    "          'Royalty':['Jonkheer.','Don.','Sir.','the Countess.','Lady.'],\n",
    "          'Mrs':['Mme.','Ms.','Mrs.'],\n",
    "          'Mr':['Mr.'],\n",
    "          'Miss':['Mlle.','Miss.'],\n",
    "          'Master':['Master.']}\n",
    "    for key,value in title.items():\n",
    "        for word in words:\n",
    "            if word in value:\n",
    "                return str(key)\n",
    "def fam_size(val):\n",
    "    fam={'Single':[1],\n",
    "        'Small_family':[2,3,4],\n",
    "        'large_family':[5,6,7,8,9,10,11]}\n",
    "    for key,value in fam.items():\n",
    "        if val in value:\n",
    "            return key\n",
    "def most_common(lst):\n",
    "    data=Counter(lst)\n",
    "    return data.most_common(1)[0][0]"
   ]
  },
  {
   "cell_type": "code",
   "execution_count": 101,
   "metadata": {},
   "outputs": [],
   "source": [
    "from sklearn.base import BaseEstimator,TransformerMixin\n",
    "class CombinedWorks(BaseEstimator,TransformerMixin):\n",
    "    def fit(self,X,y=None):\n",
    "        return self\n",
    "    def transform(self,X,y=None):\n",
    "        from sklearn.preprocessing import OrdinalEncoder\n",
    "        from sklearn.preprocessing import StandardScaler\n",
    "        oe=OrdinalEncoder()\n",
    "        scale=StandardScaler()\n",
    "        mean_age=X['Age'].mean()\n",
    "        mean_fare=X['Fare'].mean()\n",
    "        X['Age'].fillna(mean_age,inplace=True)\n",
    "        X['Fare'].fillna(mean_fare,inplace=True)\n",
    "        PassengerId=X['PassengerId']\n",
    "        X.drop(['PassengerId','Cabin','Ticket'],axis=1,inplace=True)\n",
    "        X['Title']=np.NAN\n",
    "        X['Age']=np.ceil(X['Age'])\n",
    "        X['Fam_mem']=X['SibSp']+X['Parch']+1\n",
    "        for i in range(len(X)):\n",
    "            X['Age'][i]=('{}'.format(get_age(X['Age'][i])))  \n",
    "            X['Title'][i]=get_title(X['Name'][i])\n",
    "            X['Fam_mem'][i]=fam_size(X['Fam_mem'][i])\n",
    "        frequent=most_common(X['Title'])\n",
    "        X['Title'].fillna(frequent,inplace=True)\n",
    "        X[['Embarked','Sex','Age','Title','Fam_mem']]=oe.fit_transform(X[['Embarked','Sex','Age','Title','Fam_mem']])\n",
    "        X=pd.get_dummies(X,columns=['Pclass','Sex','Age','Embarked','Title','Fam_mem'])\n",
    "        X[['Fare']]=scale.fit_transform(X[['Fare']])\n",
    "        name=X['Name']\n",
    "        X.drop(['SibSp','Parch','Name'],axis=1,inplace=True)\n",
    "        return X,name,oe.categories_,PassengerId"
   ]
  },
  {
   "cell_type": "code",
   "execution_count": 102,
   "metadata": {},
   "outputs": [],
   "source": [
    "cw=CombinedWorks()\n",
    "test_data,Name,catagories,passenger_id=cw.fit_transform(test_data)"
   ]
  },
  {
   "cell_type": "code",
   "execution_count": 103,
   "metadata": {},
   "outputs": [
    {
     "data": {
      "text/html": [
       "<div>\n",
       "<style scoped>\n",
       "    .dataframe tbody tr th:only-of-type {\n",
       "        vertical-align: middle;\n",
       "    }\n",
       "\n",
       "    .dataframe tbody tr th {\n",
       "        vertical-align: top;\n",
       "    }\n",
       "\n",
       "    .dataframe thead th {\n",
       "        text-align: right;\n",
       "    }\n",
       "</style>\n",
       "<table border=\"1\" class=\"dataframe\">\n",
       "  <thead>\n",
       "    <tr style=\"text-align: right;\">\n",
       "      <th></th>\n",
       "      <th>Fare</th>\n",
       "      <th>Pclass_1</th>\n",
       "      <th>Pclass_2</th>\n",
       "      <th>Pclass_3</th>\n",
       "      <th>Sex_0.0</th>\n",
       "      <th>Sex_1.0</th>\n",
       "      <th>Age_0.0</th>\n",
       "      <th>Age_1.0</th>\n",
       "      <th>Age_2.0</th>\n",
       "      <th>Age_3.0</th>\n",
       "      <th>...</th>\n",
       "      <th>Embarked_1.0</th>\n",
       "      <th>Embarked_2.0</th>\n",
       "      <th>Title_0.0</th>\n",
       "      <th>Title_1.0</th>\n",
       "      <th>Title_2.0</th>\n",
       "      <th>Title_3.0</th>\n",
       "      <th>Title_4.0</th>\n",
       "      <th>Fam_mem_0.0</th>\n",
       "      <th>Fam_mem_1.0</th>\n",
       "      <th>Fam_mem_2.0</th>\n",
       "    </tr>\n",
       "  </thead>\n",
       "  <tbody>\n",
       "    <tr>\n",
       "      <td>0</td>\n",
       "      <td>-0.498407</td>\n",
       "      <td>0</td>\n",
       "      <td>0</td>\n",
       "      <td>1</td>\n",
       "      <td>0</td>\n",
       "      <td>1</td>\n",
       "      <td>1</td>\n",
       "      <td>0</td>\n",
       "      <td>0</td>\n",
       "      <td>0</td>\n",
       "      <td>...</td>\n",
       "      <td>1</td>\n",
       "      <td>0</td>\n",
       "      <td>0</td>\n",
       "      <td>0</td>\n",
       "      <td>1</td>\n",
       "      <td>0</td>\n",
       "      <td>0</td>\n",
       "      <td>1</td>\n",
       "      <td>0</td>\n",
       "      <td>0</td>\n",
       "    </tr>\n",
       "    <tr>\n",
       "      <td>1</td>\n",
       "      <td>-0.513274</td>\n",
       "      <td>0</td>\n",
       "      <td>0</td>\n",
       "      <td>1</td>\n",
       "      <td>1</td>\n",
       "      <td>0</td>\n",
       "      <td>0</td>\n",
       "      <td>1</td>\n",
       "      <td>0</td>\n",
       "      <td>0</td>\n",
       "      <td>...</td>\n",
       "      <td>0</td>\n",
       "      <td>1</td>\n",
       "      <td>0</td>\n",
       "      <td>0</td>\n",
       "      <td>0</td>\n",
       "      <td>1</td>\n",
       "      <td>0</td>\n",
       "      <td>0</td>\n",
       "      <td>1</td>\n",
       "      <td>0</td>\n",
       "    </tr>\n",
       "    <tr>\n",
       "      <td>2</td>\n",
       "      <td>-0.465088</td>\n",
       "      <td>0</td>\n",
       "      <td>1</td>\n",
       "      <td>0</td>\n",
       "      <td>0</td>\n",
       "      <td>1</td>\n",
       "      <td>0</td>\n",
       "      <td>0</td>\n",
       "      <td>0</td>\n",
       "      <td>1</td>\n",
       "      <td>...</td>\n",
       "      <td>1</td>\n",
       "      <td>0</td>\n",
       "      <td>0</td>\n",
       "      <td>0</td>\n",
       "      <td>1</td>\n",
       "      <td>0</td>\n",
       "      <td>0</td>\n",
       "      <td>1</td>\n",
       "      <td>0</td>\n",
       "      <td>0</td>\n",
       "    </tr>\n",
       "    <tr>\n",
       "      <td>3</td>\n",
       "      <td>-0.483466</td>\n",
       "      <td>0</td>\n",
       "      <td>0</td>\n",
       "      <td>1</td>\n",
       "      <td>0</td>\n",
       "      <td>1</td>\n",
       "      <td>0</td>\n",
       "      <td>0</td>\n",
       "      <td>0</td>\n",
       "      <td>0</td>\n",
       "      <td>...</td>\n",
       "      <td>0</td>\n",
       "      <td>1</td>\n",
       "      <td>0</td>\n",
       "      <td>0</td>\n",
       "      <td>1</td>\n",
       "      <td>0</td>\n",
       "      <td>0</td>\n",
       "      <td>1</td>\n",
       "      <td>0</td>\n",
       "      <td>0</td>\n",
       "    </tr>\n",
       "    <tr>\n",
       "      <td>4</td>\n",
       "      <td>-0.418471</td>\n",
       "      <td>0</td>\n",
       "      <td>0</td>\n",
       "      <td>1</td>\n",
       "      <td>1</td>\n",
       "      <td>0</td>\n",
       "      <td>0</td>\n",
       "      <td>0</td>\n",
       "      <td>0</td>\n",
       "      <td>0</td>\n",
       "      <td>...</td>\n",
       "      <td>0</td>\n",
       "      <td>1</td>\n",
       "      <td>0</td>\n",
       "      <td>0</td>\n",
       "      <td>0</td>\n",
       "      <td>1</td>\n",
       "      <td>0</td>\n",
       "      <td>0</td>\n",
       "      <td>1</td>\n",
       "      <td>0</td>\n",
       "    </tr>\n",
       "  </tbody>\n",
       "</table>\n",
       "<p>5 rows × 23 columns</p>\n",
       "</div>"
      ],
      "text/plain": [
       "       Fare  Pclass_1  Pclass_2  Pclass_3  Sex_0.0  Sex_1.0  Age_0.0  Age_1.0  \\\n",
       "0 -0.498407         0         0         1        0        1        1        0   \n",
       "1 -0.513274         0         0         1        1        0        0        1   \n",
       "2 -0.465088         0         1         0        0        1        0        0   \n",
       "3 -0.483466         0         0         1        0        1        0        0   \n",
       "4 -0.418471         0         0         1        1        0        0        0   \n",
       "\n",
       "   Age_2.0  Age_3.0  ...  Embarked_1.0  Embarked_2.0  Title_0.0  Title_1.0  \\\n",
       "0        0        0  ...             1             0          0          0   \n",
       "1        0        0  ...             0             1          0          0   \n",
       "2        0        1  ...             1             0          0          0   \n",
       "3        0        0  ...             0             1          0          0   \n",
       "4        0        0  ...             0             1          0          0   \n",
       "\n",
       "   Title_2.0  Title_3.0  Title_4.0  Fam_mem_0.0  Fam_mem_1.0  Fam_mem_2.0  \n",
       "0          1          0          0            1            0            0  \n",
       "1          0          1          0            0            1            0  \n",
       "2          1          0          0            1            0            0  \n",
       "3          1          0          0            1            0            0  \n",
       "4          0          1          0            0            1            0  \n",
       "\n",
       "[5 rows x 23 columns]"
      ]
     },
     "execution_count": 103,
     "metadata": {},
     "output_type": "execute_result"
    }
   ],
   "source": [
    "test_data.head()"
   ]
  },
  {
   "cell_type": "markdown",
   "metadata": {},
   "source": [
    "Now we can see that the test data has been modified and lets see if there are all the feature value that were in train data."
   ]
  },
  {
   "cell_type": "code",
   "execution_count": 104,
   "metadata": {},
   "outputs": [
    {
     "data": {
      "text/plain": [
       "[array(['C', 'Q', 'S'], dtype=object),\n",
       " array(['female', 'male'], dtype=object),\n",
       " array(['30_adult', '40_adult', 'Child', 'Elderly', 'Teen', 'Young'],\n",
       "       dtype=object),\n",
       " array(['Master', 'Miss', 'Mr', 'Mrs', 'Officer'], dtype=object),\n",
       " array(['Single', 'Small_family', 'large_family'], dtype=object)]"
      ]
     },
     "execution_count": 104,
     "metadata": {},
     "output_type": "execute_result"
    }
   ],
   "source": [
    "catagories"
   ]
  },
  {
   "cell_type": "markdown",
   "metadata": {},
   "source": [
    "We can see that the test data has no member related to the title 'Royalty'. Now lets remove the uncorrelated data as in the training data"
   ]
  },
  {
   "cell_type": "code",
   "execution_count": 105,
   "metadata": {},
   "outputs": [],
   "source": [
    "test_data.drop(['Age_0.0','Embarked_1.0','Age_1.0','Age_4.0','Age_3.0','Title_4.0','Age_5.0',\n",
    "                'Title_0.0','Pclass_2'],axis=1,inplace=True)"
   ]
  },
  {
   "cell_type": "code",
   "execution_count": 106,
   "metadata": {},
   "outputs": [
    {
     "data": {
      "text/plain": [
       "(418, 14)"
      ]
     },
     "execution_count": 106,
     "metadata": {},
     "output_type": "execute_result"
    }
   ],
   "source": [
    "test_data.shape"
   ]
  },
  {
   "cell_type": "markdown",
   "metadata": {},
   "source": [
    "Let's fit the training data to the fine tuned classifier and predict the result"
   ]
  },
  {
   "cell_type": "code",
   "execution_count": 107,
   "metadata": {},
   "outputs": [
    {
     "data": {
      "text/plain": [
       "SVC(C=2, cache_size=200, class_weight=None, coef0=0.0,\n",
       "    decision_function_shape='ovr', degree=2, gamma='auto', kernel='rbf',\n",
       "    max_iter=-1, probability=False, random_state=42, shrinking=True, tol=0.001,\n",
       "    verbose=False)"
      ]
     },
     "execution_count": 107,
     "metadata": {},
     "output_type": "execute_result"
    }
   ],
   "source": [
    "svc_clf=SVC(kernel='rbf',random_state=42,C=2,degree=2,gamma='auto')\n",
    "svc_clf.fit(preprocess_feature,preprocess_label)"
   ]
  },
  {
   "cell_type": "code",
   "execution_count": 108,
   "metadata": {},
   "outputs": [],
   "source": [
    "y_pred=svc_clf.predict(test_data)"
   ]
  },
  {
   "cell_type": "code",
   "execution_count": 109,
   "metadata": {},
   "outputs": [
    {
     "data": {
      "text/plain": [
       "array([0, 1, 0, 0, 1, 0, 1, 0, 1, 0, 0, 0, 1, 0, 1, 1, 0, 0, 1, 1, 0, 1,\n",
       "       1, 0, 1, 0, 1, 0, 0, 0, 0, 0, 1, 1, 0, 0, 1, 1, 0, 0, 0, 0, 0, 1,\n",
       "       1, 0, 0, 0, 1, 1, 0, 0, 1, 1, 0, 0, 0, 0, 0, 1, 0, 0, 0, 1, 0, 1,\n",
       "       1, 0, 0, 1, 1, 0, 1, 0, 1, 0, 0, 1, 0, 1, 1, 0, 0, 0, 0, 0, 1, 1,\n",
       "       1, 1, 1, 0, 1, 0, 0, 0, 1, 0, 1, 0, 1, 0, 0, 0, 1, 0, 0, 0, 0, 0,\n",
       "       0, 1, 1, 1, 1, 0, 0, 1, 0, 1, 1, 0, 1, 0, 0, 1, 0, 1, 0, 0, 0, 0,\n",
       "       0, 0, 0, 0, 0, 0, 1, 0, 0, 1, 0, 0, 0, 0, 0, 0, 0, 0, 1, 0, 0, 1,\n",
       "       0, 0, 1, 1, 0, 1, 1, 1, 1, 0, 0, 1, 0, 0, 1, 1, 0, 0, 0, 0, 0, 1,\n",
       "       1, 0, 1, 1, 0, 0, 1, 0, 1, 0, 1, 0, 0, 0, 0, 0, 1, 0, 1, 0, 1, 1,\n",
       "       0, 1, 1, 1, 0, 1, 0, 0, 1, 0, 1, 0, 0, 0, 0, 1, 0, 0, 1, 0, 1, 0,\n",
       "       1, 0, 1, 0, 1, 1, 0, 1, 0, 0, 0, 1, 0, 0, 0, 0, 0, 0, 1, 1, 1, 1,\n",
       "       0, 0, 0, 0, 1, 0, 1, 1, 1, 0, 0, 0, 0, 0, 0, 0, 1, 0, 0, 0, 1, 1,\n",
       "       0, 0, 0, 0, 1, 0, 0, 0, 1, 1, 0, 1, 0, 0, 0, 0, 1, 1, 1, 1, 1, 0,\n",
       "       0, 0, 0, 0, 0, 1, 0, 0, 0, 0, 1, 0, 0, 0, 0, 0, 0, 0, 1, 1, 0, 1,\n",
       "       0, 1, 0, 0, 0, 1, 1, 1, 0, 0, 0, 0, 0, 0, 0, 0, 1, 0, 1, 0, 0, 0,\n",
       "       1, 0, 0, 1, 0, 0, 0, 0, 0, 0, 0, 0, 0, 1, 0, 1, 0, 1, 0, 1, 1, 0,\n",
       "       0, 0, 1, 0, 1, 0, 0, 1, 0, 1, 1, 0, 1, 0, 0, 1, 1, 0, 0, 1, 0, 0,\n",
       "       1, 1, 1, 0, 0, 0, 0, 0, 1, 1, 0, 1, 0, 0, 0, 0, 0, 1, 0, 0, 0, 1,\n",
       "       0, 1, 0, 0, 1, 0, 1, 0, 0, 0, 0, 0, 1, 1, 1, 1, 1, 0, 1, 0, 0, 0],\n",
       "      dtype=int64)"
      ]
     },
     "execution_count": 109,
     "metadata": {},
     "output_type": "execute_result"
    }
   ],
   "source": [
    "y_pred"
   ]
  },
  {
   "cell_type": "code",
   "execution_count": 110,
   "metadata": {},
   "outputs": [],
   "source": [
    "prediction=np.c_[Name,y_pred]"
   ]
  },
  {
   "cell_type": "code",
   "execution_count": 111,
   "metadata": {},
   "outputs": [],
   "source": [
    "for i in range(len(test_data)):\n",
    "    if prediction[i][1]==1:\n",
    "        prediction[i][1]='Yes'\n",
    "    else:\n",
    "        prediction[i][1]='No'"
   ]
  },
  {
   "cell_type": "code",
   "execution_count": 112,
   "metadata": {},
   "outputs": [
    {
     "name": "stdout",
     "output_type": "stream",
     "text": [
      "Name:Kelly, Mr. James\t\tSurvived:No\n",
      "Name:Wilkes, Mrs. James (Ellen Needs)\t\tSurvived:Yes\n",
      "Name:Myles, Mr. Thomas Francis\t\tSurvived:No\n",
      "Name:Wirz, Mr. Albert\t\tSurvived:No\n",
      "Name:Hirvonen, Mrs. Alexander (Helga E Lindqvist)\t\tSurvived:Yes\n",
      "Name:Svensson, Mr. Johan Cervin\t\tSurvived:No\n",
      "Name:Connolly, Miss. Kate\t\tSurvived:Yes\n",
      "Name:Caldwell, Mr. Albert Francis\t\tSurvived:No\n",
      "Name:Abrahim, Mrs. Joseph (Sophie Halaut Easu)\t\tSurvived:Yes\n",
      "Name:Davies, Mr. John Samuel\t\tSurvived:No\n",
      "Name:Ilieff, Mr. Ylio\t\tSurvived:No\n",
      "Name:Jones, Mr. Charles Cresson\t\tSurvived:No\n",
      "Name:Snyder, Mrs. John Pillsbury (Nelle Stevenson)\t\tSurvived:Yes\n",
      "Name:Howard, Mr. Benjamin\t\tSurvived:No\n",
      "Name:Chaffee, Mrs. Herbert Fuller (Carrie Constance Toogood)\t\tSurvived:Yes\n",
      "Name:del Carlo, Mrs. Sebastiano (Argenia Genovesi)\t\tSurvived:Yes\n",
      "Name:Keane, Mr. Daniel\t\tSurvived:No\n",
      "Name:Assaf, Mr. Gerios\t\tSurvived:No\n",
      "Name:Ilmakangas, Miss. Ida Livija\t\tSurvived:Yes\n",
      "Name:Assaf Khalil, Mrs. Mariana (Miriam\")\"\t\tSurvived:Yes\n",
      "Name:Rothschild, Mr. Martin\t\tSurvived:No\n",
      "Name:Olsen, Master. Artur Karl\t\tSurvived:Yes\n",
      "Name:Flegenheim, Mrs. Alfred (Antoinette)\t\tSurvived:Yes\n",
      "Name:Williams, Mr. Richard Norris II\t\tSurvived:No\n",
      "Name:Ryerson, Mrs. Arthur Larned (Emily Maria Borie)\t\tSurvived:Yes\n",
      "Name:Robins, Mr. Alexander A\t\tSurvived:No\n",
      "Name:Ostby, Miss. Helene Ragnhild\t\tSurvived:Yes\n",
      "Name:Daher, Mr. Shedid\t\tSurvived:No\n",
      "Name:Brady, Mr. John Bertram\t\tSurvived:No\n",
      "Name:Samaan, Mr. Elias\t\tSurvived:No\n",
      "Name:Louch, Mr. Charles Alexander\t\tSurvived:No\n",
      "Name:Jefferys, Mr. Clifford Thomas\t\tSurvived:No\n",
      "Name:Dean, Mrs. Bertram (Eva Georgetta Light)\t\tSurvived:Yes\n",
      "Name:Johnston, Mrs. Andrew G (Elizabeth Lily\" Watson)\"\t\tSurvived:Yes\n",
      "Name:Mock, Mr. Philipp Edmund\t\tSurvived:No\n",
      "Name:Katavelas, Mr. Vassilios (Catavelas Vassilios\")\"\t\tSurvived:No\n",
      "Name:Roth, Miss. Sarah A\t\tSurvived:Yes\n",
      "Name:Cacic, Miss. Manda\t\tSurvived:Yes\n",
      "Name:Sap, Mr. Julius\t\tSurvived:No\n",
      "Name:Hee, Mr. Ling\t\tSurvived:No\n",
      "Name:Karun, Mr. Franz\t\tSurvived:No\n",
      "Name:Franklin, Mr. Thomas Parham\t\tSurvived:No\n",
      "Name:Goldsmith, Mr. Nathan\t\tSurvived:No\n",
      "Name:Corbett, Mrs. Walter H (Irene Colvin)\t\tSurvived:Yes\n",
      "Name:Kimball, Mrs. Edwin Nelson Jr (Gertrude Parsons)\t\tSurvived:Yes\n",
      "Name:Peltomaki, Mr. Nikolai Johannes\t\tSurvived:No\n",
      "Name:Chevre, Mr. Paul Romaine\t\tSurvived:No\n",
      "Name:Shaughnessy, Mr. Patrick\t\tSurvived:No\n",
      "Name:Bucknell, Mrs. William Robert (Emma Eliza Ward)\t\tSurvived:Yes\n",
      "Name:Coutts, Mrs. William (Winnie Minnie\" Treanor)\"\t\tSurvived:Yes\n",
      "Name:Smith, Mr. Lucien Philip\t\tSurvived:No\n",
      "Name:Pulbaum, Mr. Franz\t\tSurvived:No\n",
      "Name:Hocking, Miss. Ellen Nellie\"\"\t\tSurvived:Yes\n",
      "Name:Fortune, Miss. Ethel Flora\t\tSurvived:Yes\n",
      "Name:Mangiavacchi, Mr. Serafino Emilio\t\tSurvived:No\n",
      "Name:Rice, Master. Albert\t\tSurvived:No\n",
      "Name:Cor, Mr. Bartol\t\tSurvived:No\n",
      "Name:Abelseth, Mr. Olaus Jorgensen\t\tSurvived:No\n",
      "Name:Davison, Mr. Thomas Henry\t\tSurvived:No\n",
      "Name:Chaudanson, Miss. Victorine\t\tSurvived:Yes\n",
      "Name:Dika, Mr. Mirko\t\tSurvived:No\n",
      "Name:McCrae, Mr. Arthur Gordon\t\tSurvived:No\n",
      "Name:Bjorklund, Mr. Ernst Herbert\t\tSurvived:No\n",
      "Name:Bradley, Miss. Bridget Delia\t\tSurvived:Yes\n",
      "Name:Ryerson, Master. John Borie\t\tSurvived:No\n",
      "Name:Corey, Mrs. Percy C (Mary Phyllis Elizabeth Miller)\t\tSurvived:Yes\n",
      "Name:Burns, Miss. Mary Delia\t\tSurvived:Yes\n",
      "Name:Moore, Mr. Clarence Bloomfield\t\tSurvived:No\n",
      "Name:Tucker, Mr. Gilbert Milligan Jr\t\tSurvived:No\n",
      "Name:Fortune, Mrs. Mark (Mary McDougald)\t\tSurvived:Yes\n",
      "Name:Mulvihill, Miss. Bertha E\t\tSurvived:Yes\n",
      "Name:Minkoff, Mr. Lazar\t\tSurvived:No\n",
      "Name:Nieminen, Miss. Manta Josefina\t\tSurvived:Yes\n",
      "Name:Ovies y Rodriguez, Mr. Servando\t\tSurvived:No\n",
      "Name:Geiger, Miss. Amalie\t\tSurvived:Yes\n",
      "Name:Keeping, Mr. Edwin\t\tSurvived:No\n",
      "Name:Miles, Mr. Frank\t\tSurvived:No\n",
      "Name:Cornell, Mrs. Robert Clifford (Malvina Helen Lamson)\t\tSurvived:Yes\n",
      "Name:Aldworth, Mr. Charles Augustus\t\tSurvived:No\n",
      "Name:Doyle, Miss. Elizabeth\t\tSurvived:Yes\n",
      "Name:Boulos, Master. Akar\t\tSurvived:Yes\n",
      "Name:Straus, Mr. Isidor\t\tSurvived:No\n",
      "Name:Case, Mr. Howard Brown\t\tSurvived:No\n",
      "Name:Demetri, Mr. Marinko\t\tSurvived:No\n",
      "Name:Lamb, Mr. John Joseph\t\tSurvived:No\n",
      "Name:Khalil, Mr. Betros\t\tSurvived:No\n",
      "Name:Barry, Miss. Julia\t\tSurvived:Yes\n",
      "Name:Badman, Miss. Emily Louisa\t\tSurvived:Yes\n",
      "Name:O'Donoghue, Ms. Bridget\t\tSurvived:Yes\n",
      "Name:Wells, Master. Ralph Lester\t\tSurvived:Yes\n",
      "Name:Dyker, Mrs. Adolf Fredrik (Anna Elisabeth Judith Andersson)\t\tSurvived:Yes\n",
      "Name:Pedersen, Mr. Olaf\t\tSurvived:No\n",
      "Name:Davidson, Mrs. Thornton (Orian Hays)\t\tSurvived:Yes\n",
      "Name:Guest, Mr. Robert\t\tSurvived:No\n",
      "Name:Birnbaum, Mr. Jakob\t\tSurvived:No\n",
      "Name:Tenglin, Mr. Gunnar Isidor\t\tSurvived:No\n",
      "Name:Cavendish, Mrs. Tyrell William (Julia Florence Siegel)\t\tSurvived:Yes\n",
      "Name:Makinen, Mr. Kalle Edvard\t\tSurvived:No\n",
      "Name:Braf, Miss. Elin Ester Maria\t\tSurvived:Yes\n",
      "Name:Nancarrow, Mr. William Henry\t\tSurvived:No\n",
      "Name:Stengel, Mrs. Charles Emil Henry (Annie May Morris)\t\tSurvived:Yes\n",
      "Name:Weisz, Mr. Leopold\t\tSurvived:No\n",
      "Name:Foley, Mr. William\t\tSurvived:No\n",
      "Name:Johansson Palmquist, Mr. Oskar Leander\t\tSurvived:No\n",
      "Name:Thomas, Mrs. Alexander (Thamine Thelma\")\"\t\tSurvived:Yes\n",
      "Name:Holthen, Mr. Johan Martin\t\tSurvived:No\n",
      "Name:Buckley, Mr. Daniel\t\tSurvived:No\n",
      "Name:Ryan, Mr. Edward\t\tSurvived:No\n",
      "Name:Willer, Mr. Aaron (Abi Weller\")\"\t\tSurvived:No\n",
      "Name:Swane, Mr. George\t\tSurvived:No\n",
      "Name:Stanton, Mr. Samuel Ward\t\tSurvived:No\n",
      "Name:Shine, Miss. Ellen Natalia\t\tSurvived:Yes\n",
      "Name:Evans, Miss. Edith Corse\t\tSurvived:Yes\n",
      "Name:Buckley, Miss. Katherine\t\tSurvived:Yes\n",
      "Name:Straus, Mrs. Isidor (Rosalie Ida Blun)\t\tSurvived:Yes\n",
      "Name:Chronopoulos, Mr. Demetrios\t\tSurvived:No\n",
      "Name:Thomas, Mr. John\t\tSurvived:No\n",
      "Name:Sandstrom, Miss. Beatrice Irene\t\tSurvived:Yes\n",
      "Name:Beattie, Mr. Thomson\t\tSurvived:No\n",
      "Name:Chapman, Mrs. John Henry (Sara Elizabeth Lawry)\t\tSurvived:Yes\n",
      "Name:Watt, Miss. Bertha J\t\tSurvived:Yes\n",
      "Name:Kiernan, Mr. John\t\tSurvived:No\n",
      "Name:Schabert, Mrs. Paul (Emma Mock)\t\tSurvived:Yes\n",
      "Name:Carver, Mr. Alfred John\t\tSurvived:No\n",
      "Name:Kennedy, Mr. John\t\tSurvived:No\n",
      "Name:Cribb, Miss. Laura Alice\t\tSurvived:Yes\n",
      "Name:Brobeck, Mr. Karl Rudolf\t\tSurvived:No\n",
      "Name:McCoy, Miss. Alicia\t\tSurvived:Yes\n",
      "Name:Bowenur, Mr. Solomon\t\tSurvived:No\n",
      "Name:Petersen, Mr. Marius\t\tSurvived:No\n",
      "Name:Spinner, Mr. Henry John\t\tSurvived:No\n",
      "Name:Gracie, Col. Archibald IV\t\tSurvived:No\n",
      "Name:Lefebre, Mrs. Frank (Frances)\t\tSurvived:No\n",
      "Name:Thomas, Mr. Charles P\t\tSurvived:No\n",
      "Name:Dintcheff, Mr. Valtcho\t\tSurvived:No\n",
      "Name:Carlsson, Mr. Carl Robert\t\tSurvived:No\n",
      "Name:Zakarian, Mr. Mapriededer\t\tSurvived:No\n",
      "Name:Schmidt, Mr. August\t\tSurvived:No\n",
      "Name:Drapkin, Miss. Jennie\t\tSurvived:Yes\n",
      "Name:Goodwin, Mr. Charles Frederick\t\tSurvived:No\n",
      "Name:Goodwin, Miss. Jessie Allis\t\tSurvived:No\n",
      "Name:Daniels, Miss. Sarah\t\tSurvived:Yes\n",
      "Name:Ryerson, Mr. Arthur Larned\t\tSurvived:No\n",
      "Name:Beauchamp, Mr. Henry James\t\tSurvived:No\n",
      "Name:Lindeberg-Lind, Mr. Erik Gustaf (Mr Edward Lingrey\")\"\t\tSurvived:No\n",
      "Name:Vander Planke, Mr. Julius\t\tSurvived:No\n",
      "Name:Hilliard, Mr. Herbert Henry\t\tSurvived:No\n",
      "Name:Davies, Mr. Evan\t\tSurvived:No\n",
      "Name:Crafton, Mr. John Bertram\t\tSurvived:No\n",
      "Name:Lahtinen, Rev. William\t\tSurvived:No\n",
      "Name:Earnshaw, Mrs. Boulton (Olive Potter)\t\tSurvived:Yes\n",
      "Name:Matinoff, Mr. Nicola\t\tSurvived:No\n",
      "Name:Storey, Mr. Thomas\t\tSurvived:No\n",
      "Name:Klasen, Mrs. (Hulda Kristina Eugenia Lofqvist)\t\tSurvived:Yes\n",
      "Name:Asplund, Master. Filip Oscar\t\tSurvived:No\n",
      "Name:Duquemin, Mr. Joseph\t\tSurvived:No\n",
      "Name:Bird, Miss. Ellen\t\tSurvived:Yes\n",
      "Name:Lundin, Miss. Olga Elida\t\tSurvived:Yes\n",
      "Name:Borebank, Mr. John James\t\tSurvived:No\n",
      "Name:Peacock, Mrs. Benjamin (Edith Nile)\t\tSurvived:Yes\n",
      "Name:Smyth, Miss. Julia\t\tSurvived:Yes\n",
      "Name:Touma, Master. Georges Youssef\t\tSurvived:Yes\n",
      "Name:Wright, Miss. Marion\t\tSurvived:Yes\n",
      "Name:Pearce, Mr. Ernest\t\tSurvived:No\n",
      "Name:Peruschitz, Rev. Joseph Maria\t\tSurvived:No\n",
      "Name:Kink-Heilmann, Mrs. Anton (Luise Heilmann)\t\tSurvived:Yes\n",
      "Name:Brandeis, Mr. Emil\t\tSurvived:No\n",
      "Name:Ford, Mr. Edward Watson\t\tSurvived:No\n",
      "Name:Cassebeer, Mrs. Henry Arthur Jr (Eleanor Genevieve Fosdick)\t\tSurvived:Yes\n",
      "Name:Hellstrom, Miss. Hilda Maria\t\tSurvived:Yes\n",
      "Name:Lithman, Mr. Simon\t\tSurvived:No\n",
      "Name:Zakarian, Mr. Ortin\t\tSurvived:No\n",
      "Name:Dyker, Mr. Adolf Fredrik\t\tSurvived:No\n",
      "Name:Torfa, Mr. Assad\t\tSurvived:No\n",
      "Name:Asplund, Mr. Carl Oscar Vilhelm Gustafsson\t\tSurvived:No\n",
      "Name:Brown, Miss. Edith Eileen\t\tSurvived:Yes\n",
      "Name:Sincock, Miss. Maude\t\tSurvived:Yes\n",
      "Name:Stengel, Mr. Charles Emil Henry\t\tSurvived:No\n",
      "Name:Becker, Mrs. Allen Oliver (Nellie E Baumgardner)\t\tSurvived:Yes\n",
      "Name:Compton, Mrs. Alexander Taylor (Mary Eliza Ingersoll)\t\tSurvived:Yes\n",
      "Name:McCrie, Mr. James Matthew\t\tSurvived:No\n",
      "Name:Compton, Mr. Alexander Taylor Jr\t\tSurvived:No\n",
      "Name:Marvin, Mrs. Daniel Warner (Mary Graham Carmichael Farquarson)\t\tSurvived:Yes\n",
      "Name:Lane, Mr. Patrick\t\tSurvived:No\n",
      "Name:Douglas, Mrs. Frederick Charles (Mary Helene Baxter)\t\tSurvived:Yes\n",
      "Name:Maybery, Mr. Frank Hubert\t\tSurvived:No\n",
      "Name:Phillips, Miss. Alice Frances Louisa\t\tSurvived:Yes\n",
      "Name:Davies, Mr. Joseph\t\tSurvived:No\n",
      "Name:Sage, Miss. Ada\t\tSurvived:No\n",
      "Name:Veal, Mr. James\t\tSurvived:No\n",
      "Name:Angle, Mr. William A\t\tSurvived:No\n",
      "Name:Salomon, Mr. Abraham L\t\tSurvived:No\n",
      "Name:van Billiard, Master. Walter John\t\tSurvived:Yes\n",
      "Name:Lingane, Mr. John\t\tSurvived:No\n",
      "Name:Drew, Master. Marshall Brines\t\tSurvived:Yes\n",
      "Name:Karlsson, Mr. Julius Konrad Eugen\t\tSurvived:No\n",
      "Name:Spedden, Master. Robert Douglas\t\tSurvived:Yes\n",
      "Name:Nilsson, Miss. Berta Olivia\t\tSurvived:Yes\n",
      "Name:Baimbrigge, Mr. Charles Robert\t\tSurvived:No\n",
      "Name:Rasmussen, Mrs. (Lena Jacobsen Solvang)\t\tSurvived:Yes\n",
      "Name:Murphy, Miss. Nora\t\tSurvived:Yes\n",
      "Name:Danbom, Master. Gilbert Sigvard Emanuel\t\tSurvived:Yes\n",
      "Name:Astor, Col. John Jacob\t\tSurvived:No\n",
      "Name:Quick, Miss. Winifred Vera\t\tSurvived:Yes\n",
      "Name:Andrew, Mr. Frank Thomas\t\tSurvived:No\n",
      "Name:Omont, Mr. Alfred Fernand\t\tSurvived:No\n",
      "Name:McGowan, Miss. Katherine\t\tSurvived:Yes\n",
      "Name:Collett, Mr. Sidney C Stuart\t\tSurvived:No\n",
      "Name:Rosenbaum, Miss. Edith Louise\t\tSurvived:Yes\n",
      "Name:Delalic, Mr. Redjo\t\tSurvived:No\n",
      "Name:Andersen, Mr. Albert Karvin\t\tSurvived:No\n",
      "Name:Finoli, Mr. Luigi\t\tSurvived:No\n",
      "Name:Deacon, Mr. Percy William\t\tSurvived:No\n",
      "Name:Howard, Mrs. Benjamin (Ellen Truelove Arman)\t\tSurvived:Yes\n",
      "Name:Andersson, Miss. Ida Augusta Margareta\t\tSurvived:No\n",
      "Name:Head, Mr. Christopher\t\tSurvived:No\n",
      "Name:Mahon, Miss. Bridget Delia\t\tSurvived:Yes\n",
      "Name:Wick, Mr. George Dennick\t\tSurvived:No\n",
      "Name:Widener, Mrs. George Dunton (Eleanor Elkins)\t\tSurvived:Yes\n",
      "Name:Thomson, Mr. Alexander Morrison\t\tSurvived:No\n",
      "Name:Duran y More, Miss. Florentina\t\tSurvived:Yes\n",
      "Name:Reynolds, Mr. Harold J\t\tSurvived:No\n",
      "Name:Cook, Mrs. (Selena Rogers)\t\tSurvived:Yes\n",
      "Name:Karlsson, Mr. Einar Gervasius\t\tSurvived:No\n",
      "Name:Candee, Mrs. Edward (Helen Churchill Hungerford)\t\tSurvived:Yes\n",
      "Name:Moubarek, Mrs. George (Omine Amenia\" Alexander)\"\t\tSurvived:Yes\n",
      "Name:Asplund, Mr. Johan Charles\t\tSurvived:No\n",
      "Name:McNeill, Miss. Bridget\t\tSurvived:Yes\n",
      "Name:Everett, Mr. Thomas James\t\tSurvived:No\n",
      "Name:Hocking, Mr. Samuel James Metcalfe\t\tSurvived:No\n",
      "Name:Sweet, Mr. George Frederick\t\tSurvived:No\n",
      "Name:Willard, Miss. Constance\t\tSurvived:Yes\n",
      "Name:Wiklund, Mr. Karl Johan\t\tSurvived:No\n",
      "Name:Linehan, Mr. Michael\t\tSurvived:No\n",
      "Name:Cumings, Mr. John Bradley\t\tSurvived:No\n",
      "Name:Vendel, Mr. Olof Edvin\t\tSurvived:No\n",
      "Name:Warren, Mr. Frank Manley\t\tSurvived:No\n",
      "Name:Baccos, Mr. Raffull\t\tSurvived:No\n",
      "Name:Hiltunen, Miss. Marta\t\tSurvived:Yes\n",
      "Name:Douglas, Mrs. Walter Donald (Mahala Dutton)\t\tSurvived:Yes\n",
      "Name:Lindstrom, Mrs. Carl Johan (Sigrid Posse)\t\tSurvived:Yes\n",
      "Name:Christy, Mrs. (Alice Frances)\t\tSurvived:Yes\n",
      "Name:Spedden, Mr. Frederic Oakley\t\tSurvived:No\n",
      "Name:Hyman, Mr. Abraham\t\tSurvived:No\n",
      "Name:Johnston, Master. William Arthur Willie\"\"\t\tSurvived:No\n",
      "Name:Kenyon, Mr. Frederick R\t\tSurvived:No\n",
      "Name:Karnes, Mrs. J Frank (Claire Bennett)\t\tSurvived:Yes\n",
      "Name:Drew, Mr. James Vivian\t\tSurvived:No\n",
      "Name:Hold, Mrs. Stephen (Annie Margaret Hill)\t\tSurvived:Yes\n",
      "Name:Khalil, Mrs. Betros (Zahie Maria\" Elias)\"\t\tSurvived:Yes\n",
      "Name:West, Miss. Barbara J\t\tSurvived:Yes\n",
      "Name:Abrahamsson, Mr. Abraham August Johannes\t\tSurvived:No\n",
      "Name:Clark, Mr. Walter Miller\t\tSurvived:No\n",
      "Name:Salander, Mr. Karl Johan\t\tSurvived:No\n",
      "Name:Wenzel, Mr. Linhart\t\tSurvived:No\n",
      "Name:MacKay, Mr. George William\t\tSurvived:No\n",
      "Name:Mahon, Mr. John\t\tSurvived:No\n",
      "Name:Niklasson, Mr. Samuel\t\tSurvived:No\n",
      "Name:Bentham, Miss. Lilian W\t\tSurvived:Yes\n",
      "Name:Midtsjo, Mr. Karl Albert\t\tSurvived:No\n",
      "Name:de Messemaeker, Mr. Guillaume Joseph\t\tSurvived:No\n",
      "Name:Nilsson, Mr. August Ferdinand\t\tSurvived:No\n",
      "Name:Wells, Mrs. Arthur Henry (Addie\" Dart Trevaskis)\"\t\tSurvived:Yes\n",
      "Name:Klasen, Miss. Gertrud Emilia\t\tSurvived:Yes\n",
      "Name:Portaluppi, Mr. Emilio Ilario Giuseppe\t\tSurvived:No\n",
      "Name:Lyntakoff, Mr. Stanko\t\tSurvived:No\n",
      "Name:Chisholm, Mr. Roderick Robert Crispin\t\tSurvived:No\n",
      "Name:Warren, Mr. Charles William\t\tSurvived:No\n",
      "Name:Howard, Miss. May Elizabeth\t\tSurvived:Yes\n",
      "Name:Pokrnic, Mr. Mate\t\tSurvived:No\n",
      "Name:McCaffry, Mr. Thomas Francis\t\tSurvived:No\n",
      "Name:Fox, Mr. Patrick\t\tSurvived:No\n",
      "Name:Clark, Mrs. Walter Miller (Virginia McDowell)\t\tSurvived:Yes\n",
      "Name:Lennon, Miss. Mary\t\tSurvived:Yes\n",
      "Name:Saade, Mr. Jean Nassr\t\tSurvived:No\n",
      "Name:Bryhl, Miss. Dagmar Jenny Ingeborg \t\tSurvived:Yes\n",
      "Name:Parker, Mr. Clifford Richard\t\tSurvived:No\n",
      "Name:Faunthorpe, Mr. Harry\t\tSurvived:No\n",
      "Name:Ware, Mr. John James\t\tSurvived:No\n",
      "Name:Oxenham, Mr. Percy Thomas\t\tSurvived:No\n",
      "Name:Oreskovic, Miss. Jelka\t\tSurvived:Yes\n",
      "Name:Peacock, Master. Alfred Edward\t\tSurvived:Yes\n",
      "Name:Fleming, Miss. Honora\t\tSurvived:Yes\n",
      "Name:Touma, Miss. Maria Youssef\t\tSurvived:Yes\n",
      "Name:Rosblom, Miss. Salli Helena\t\tSurvived:Yes\n",
      "Name:Dennis, Mr. William\t\tSurvived:No\n",
      "Name:Franklin, Mr. Charles (Charles Fardon)\t\tSurvived:No\n",
      "Name:Snyder, Mr. John Pillsbury\t\tSurvived:No\n",
      "Name:Mardirosian, Mr. Sarkis\t\tSurvived:No\n",
      "Name:Ford, Mr. Arthur\t\tSurvived:No\n",
      "Name:Rheims, Mr. George Alexander Lucien\t\tSurvived:No\n",
      "Name:Daly, Miss. Margaret Marcella Maggie\"\"\t\tSurvived:Yes\n",
      "Name:Nasr, Mr. Mustafa\t\tSurvived:No\n",
      "Name:Dodge, Dr. Washington\t\tSurvived:No\n",
      "Name:Wittevrongel, Mr. Camille\t\tSurvived:No\n",
      "Name:Angheloff, Mr. Minko\t\tSurvived:No\n",
      "Name:Laroche, Miss. Louise\t\tSurvived:Yes\n",
      "Name:Samaan, Mr. Hanna\t\tSurvived:No\n",
      "Name:Loring, Mr. Joseph Holland\t\tSurvived:No\n",
      "Name:Johansson, Mr. Nils\t\tSurvived:No\n",
      "Name:Olsson, Mr. Oscar Wilhelm\t\tSurvived:No\n",
      "Name:Malachard, Mr. Noel\t\tSurvived:No\n",
      "Name:Phillips, Mr. Escott Robert\t\tSurvived:No\n",
      "Name:Pokrnic, Mr. Tome\t\tSurvived:No\n",
      "Name:McCarthy, Miss. Catherine Katie\"\"\t\tSurvived:Yes\n",
      "Name:Crosby, Mrs. Edward Gifford (Catherine Elizabeth Halstead)\t\tSurvived:Yes\n",
      "Name:Allison, Mr. Hudson Joshua Creighton\t\tSurvived:No\n",
      "Name:Aks, Master. Philip Frank\t\tSurvived:Yes\n",
      "Name:Hays, Mr. Charles Melville\t\tSurvived:No\n",
      "Name:Hansen, Mrs. Claus Peter (Jennie L Howard)\t\tSurvived:Yes\n",
      "Name:Cacic, Mr. Jego Grga\t\tSurvived:No\n",
      "Name:Vartanian, Mr. David\t\tSurvived:No\n",
      "Name:Sadowitz, Mr. Harry\t\tSurvived:No\n",
      "Name:Carr, Miss. Jeannie\t\tSurvived:Yes\n",
      "Name:White, Mrs. John Stuart (Ella Holmes)\t\tSurvived:Yes\n",
      "Name:Hagardon, Miss. Kate\t\tSurvived:Yes\n",
      "Name:Spencer, Mr. William Augustus\t\tSurvived:No\n",
      "Name:Rogers, Mr. Reginald Harry\t\tSurvived:No\n",
      "Name:Jonsson, Mr. Nils Hilding\t\tSurvived:No\n",
      "Name:Jefferys, Mr. Ernest Wilfred\t\tSurvived:No\n",
      "Name:Andersson, Mr. Johan Samuel\t\tSurvived:No\n",
      "Name:Krekorian, Mr. Neshan\t\tSurvived:No\n",
      "Name:Nesson, Mr. Israel\t\tSurvived:No\n",
      "Name:Rowe, Mr. Alfred G\t\tSurvived:No\n",
      "Name:Kreuchen, Miss. Emilie\t\tSurvived:Yes\n",
      "Name:Assam, Mr. Ali\t\tSurvived:No\n",
      "Name:Becker, Miss. Ruth Elizabeth\t\tSurvived:Yes\n",
      "Name:Rosenshine, Mr. George (Mr George Thorne\")\"\t\tSurvived:No\n",
      "Name:Clarke, Mr. Charles Valentine\t\tSurvived:No\n",
      "Name:Enander, Mr. Ingvar\t\tSurvived:No\n",
      "Name:Davies, Mrs. John Morgan (Elizabeth Agnes Mary White) \t\tSurvived:Yes\n",
      "Name:Dulles, Mr. William Crothers\t\tSurvived:No\n",
      "Name:Thomas, Mr. Tannous\t\tSurvived:No\n",
      "Name:Nakid, Mrs. Said (Waika Mary\" Mowad)\"\t\tSurvived:Yes\n",
      "Name:Cor, Mr. Ivan\t\tSurvived:No\n",
      "Name:Maguire, Mr. John Edward\t\tSurvived:No\n",
      "Name:de Brito, Mr. Jose Joaquim\t\tSurvived:No\n",
      "Name:Elias, Mr. Joseph\t\tSurvived:No\n",
      "Name:Denbury, Mr. Herbert\t\tSurvived:No\n",
      "Name:Betros, Master. Seman\t\tSurvived:No\n",
      "Name:Fillbrook, Mr. Joseph Charles\t\tSurvived:No\n",
      "Name:Lundstrom, Mr. Thure Edvin\t\tSurvived:No\n",
      "Name:Sage, Mr. John George\t\tSurvived:No\n",
      "Name:Cardeza, Mrs. James Warburton Martinez (Charlotte Wardle Drake)\t\tSurvived:Yes\n",
      "Name:van Billiard, Master. James William\t\tSurvived:No\n",
      "Name:Abelseth, Miss. Karen Marie\t\tSurvived:Yes\n",
      "Name:Botsford, Mr. William Hull\t\tSurvived:No\n",
      "Name:Whabee, Mrs. George Joseph (Shawneene Abi-Saab)\t\tSurvived:Yes\n",
      "Name:Giles, Mr. Ralph\t\tSurvived:No\n",
      "Name:Walcroft, Miss. Nellie\t\tSurvived:Yes\n",
      "Name:Greenfield, Mrs. Leo David (Blanche Strouse)\t\tSurvived:Yes\n",
      "Name:Stokes, Mr. Philip Joseph\t\tSurvived:No\n",
      "Name:Dibden, Mr. William\t\tSurvived:No\n",
      "Name:Herman, Mr. Samuel\t\tSurvived:No\n",
      "Name:Dean, Miss. Elizabeth Gladys Millvina\"\"\t\tSurvived:Yes\n",
      "Name:Julian, Mr. Henry Forbes\t\tSurvived:No\n",
      "Name:Brown, Mrs. John Murray (Caroline Lane Lamson)\t\tSurvived:Yes\n",
      "Name:Lockyer, Mr. Edward\t\tSurvived:No\n",
      "Name:O'Keefe, Mr. Patrick\t\tSurvived:No\n",
      "Name:Lindell, Mrs. Edvard Bengtsson (Elin Gerda Persson)\t\tSurvived:Yes\n",
      "Name:Sage, Master. William Henry\t\tSurvived:No\n",
      "Name:Mallet, Mrs. Albert (Antoinette Magnin)\t\tSurvived:Yes\n",
      "Name:Ware, Mrs. John James (Florence Louise Long)\t\tSurvived:Yes\n",
      "Name:Strilic, Mr. Ivan\t\tSurvived:No\n",
      "Name:Harder, Mrs. George Achilles (Dorothy Annan)\t\tSurvived:Yes\n",
      "Name:Sage, Mrs. John (Annie Bullen)\t\tSurvived:No\n",
      "Name:Caram, Mr. Joseph\t\tSurvived:No\n",
      "Name:Riihivouri, Miss. Susanna Juhantytar Sanni\"\"\t\tSurvived:Yes\n",
      "Name:Gibson, Mrs. Leonard (Pauline C Boeson)\t\tSurvived:Yes\n",
      "Name:Pallas y Castello, Mr. Emilio\t\tSurvived:No\n",
      "Name:Giles, Mr. Edgar\t\tSurvived:No\n",
      "Name:Wilson, Miss. Helen Alice\t\tSurvived:Yes\n",
      "Name:Ismay, Mr. Joseph Bruce\t\tSurvived:No\n",
      "Name:Harbeck, Mr. William H\t\tSurvived:No\n",
      "Name:Dodge, Mrs. Washington (Ruth Vidaver)\t\tSurvived:Yes\n",
      "Name:Bowen, Miss. Grace Scott\t\tSurvived:Yes\n",
      "Name:Kink, Miss. Maria\t\tSurvived:Yes\n",
      "Name:Cotterill, Mr. Henry Harry\"\"\t\tSurvived:No\n",
      "Name:Hipkins, Mr. William Edward\t\tSurvived:No\n",
      "Name:Asplund, Master. Carl Edgar\t\tSurvived:No\n",
      "Name:O'Connor, Mr. Patrick\t\tSurvived:No\n",
      "Name:Foley, Mr. Joseph\t\tSurvived:No\n",
      "Name:Risien, Mrs. Samuel (Emma)\t\tSurvived:Yes\n",
      "Name:McNamee, Mrs. Neal (Eileen O'Leary)\t\tSurvived:Yes\n",
      "Name:Wheeler, Mr. Edwin Frederick\"\"\t\tSurvived:No\n",
      "Name:Herman, Miss. Kate\t\tSurvived:Yes\n",
      "Name:Aronsson, Mr. Ernst Axel Algot\t\tSurvived:No\n",
      "Name:Ashby, Mr. John\t\tSurvived:No\n",
      "Name:Canavan, Mr. Patrick\t\tSurvived:No\n",
      "Name:Palsson, Master. Paul Folke\t\tSurvived:No\n",
      "Name:Payne, Mr. Vivian Ponsonby\t\tSurvived:No\n",
      "Name:Lines, Mrs. Ernest H (Elizabeth Lindsey James)\t\tSurvived:Yes\n",
      "Name:Abbott, Master. Eugene Joseph\t\tSurvived:No\n",
      "Name:Gilbert, Mr. William\t\tSurvived:No\n",
      "Name:Kink-Heilmann, Mr. Anton\t\tSurvived:No\n",
      "Name:Smith, Mrs. Lucien Philip (Mary Eloise Hughes)\t\tSurvived:Yes\n",
      "Name:Colbert, Mr. Patrick\t\tSurvived:No\n",
      "Name:Frolicher-Stehli, Mrs. Maxmillian (Margaretha Emerentia Stehli)\t\tSurvived:Yes\n",
      "Name:Larsson-Rondberg, Mr. Edvard A\t\tSurvived:No\n",
      "Name:Conlon, Mr. Thomas Henry\t\tSurvived:No\n",
      "Name:Bonnell, Miss. Caroline\t\tSurvived:Yes\n",
      "Name:Gale, Mr. Harry\t\tSurvived:No\n",
      "Name:Gibson, Miss. Dorothy Winifred\t\tSurvived:Yes\n",
      "Name:Carrau, Mr. Jose Pedro\t\tSurvived:No\n",
      "Name:Frauenthal, Mr. Isaac Gerald\t\tSurvived:No\n",
      "Name:Nourney, Mr. Alfred (Baron von Drachstedt\")\"\t\tSurvived:No\n",
      "Name:Ware, Mr. William Jeffery\t\tSurvived:No\n",
      "Name:Widener, Mr. George Dunton\t\tSurvived:No\n",
      "Name:Riordan, Miss. Johanna Hannah\"\"\t\tSurvived:Yes\n",
      "Name:Peacock, Miss. Treasteall\t\tSurvived:Yes\n",
      "Name:Naughton, Miss. Hannah\t\tSurvived:Yes\n",
      "Name:Minahan, Mrs. William Edward (Lillian E Thorpe)\t\tSurvived:Yes\n",
      "Name:Henriksson, Miss. Jenny Lovisa\t\tSurvived:Yes\n",
      "Name:Spector, Mr. Woolf\t\tSurvived:No\n",
      "Name:Oliva y Ocana, Dona. Fermina\t\tSurvived:Yes\n",
      "Name:Saether, Mr. Simon Sivertsen\t\tSurvived:No\n",
      "Name:Ware, Mr. Frederick\t\tSurvived:No\n",
      "Name:Peter, Master. Michael J\t\tSurvived:No\n"
     ]
    }
   ],
   "source": [
    "for i in range(len(test_data)):\n",
    "    print('Name:{0}\\t\\tSurvived:{1}'.format(prediction[i][0],prediction[i][1]))"
   ]
  },
  {
   "cell_type": "markdown",
   "metadata": {},
   "source": [
    "And now we got the predicted values of those who were in the board. Atlast we did it. We made a lot way gaining a lot of intution about the data and finally making a good prediction. Thank you for travelling with me. :-)"
   ]
  }
 ],
 "metadata": {
  "kernelspec": {
   "display_name": "Python 3",
   "language": "python",
   "name": "python3"
  },
  "language_info": {
   "codemirror_mode": {
    "name": "ipython",
    "version": 3
   },
   "file_extension": ".py",
   "mimetype": "text/x-python",
   "name": "python",
   "nbconvert_exporter": "python",
   "pygments_lexer": "ipython3",
   "version": "3.7.4"
  }
 },
 "nbformat": 4,
 "nbformat_minor": 2
}
